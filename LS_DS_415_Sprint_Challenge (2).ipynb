{
 "cells": [
  {
   "cell_type": "markdown",
   "metadata": {},
   "source": [
    "<img align=\"left\" src=\"https://lever-client-logos.s3.amazonaws.com/864372b1-534c-480e-acd5-9711f850815c-1524247202159.png\" width=200>\n",
    "<br></br>\n",
    "<br></br>\n",
    "\n",
    "# Sprint Challenge\n",
    "## *Data Science Unit 4 Sprint 1*\n",
    "\n",
    "After a week of Natural Language Processing, you've learned some cool new stuff: how to process text, how turn text into vectors, and how to model topics from documents. Apply your newly acquired skills to one of the most famous NLP datasets out there: [Yelp](https://www.yelp.com/dataset/challenge). As part of the job selection process, some of my friends have been asked to create analysis of this dataset, so I want to empower you to have a head start.  \n",
    "\n",
    "The real dataset is massive (almost 8 gigs uncompressed). I've sampled the data for you to something more managable for the Sprint Challenge. You can analyze the full dataset as a stretch goal or after the sprint challenge. As you work on the challenge, I suggest adding notes about your findings and things you want to analyze in the future.\n",
    "\n",
    "## Challenge Objectives\n",
    "*Successfully complete these all these objectives to earn a 2. There are more details on each objective further down in the notebook.*\n",
    "* <a href=\"#p1\">Part 1</a>: Write a function to tokenize the yelp reviews\n",
    "* <a href=\"#p2\">Part 2</a>: Create a vector representation of those tokens\n",
    "* <a href=\"#p3\">Part 3</a>: Use your tokens in a classification model on yelp rating\n",
    "* <a href=\"#p4\">Part 4</a>: Estimate & Interpret a topic model of the Yelp reviews"
   ]
  },
  {
   "cell_type": "code",
   "execution_count": 1,
   "metadata": {},
   "outputs": [],
   "source": [
    "import pandas as pd\n",
    "\n",
    "yelp = pd.read_json('review_sample.json', lines=True)"
   ]
  },
  {
   "cell_type": "code",
   "execution_count": 2,
   "metadata": {},
   "outputs": [
    {
     "data": {
      "text/html": [
       "<div>\n",
       "<style scoped>\n",
       "    .dataframe tbody tr th:only-of-type {\n",
       "        vertical-align: middle;\n",
       "    }\n",
       "\n",
       "    .dataframe tbody tr th {\n",
       "        vertical-align: top;\n",
       "    }\n",
       "\n",
       "    .dataframe thead th {\n",
       "        text-align: right;\n",
       "    }\n",
       "</style>\n",
       "<table border=\"1\" class=\"dataframe\">\n",
       "  <thead>\n",
       "    <tr style=\"text-align: right;\">\n",
       "      <th></th>\n",
       "      <th>business_id</th>\n",
       "      <th>cool</th>\n",
       "      <th>date</th>\n",
       "      <th>funny</th>\n",
       "      <th>review_id</th>\n",
       "      <th>stars</th>\n",
       "      <th>text</th>\n",
       "      <th>useful</th>\n",
       "      <th>user_id</th>\n",
       "    </tr>\n",
       "  </thead>\n",
       "  <tbody>\n",
       "    <tr>\n",
       "      <th>0</th>\n",
       "      <td>nDuEqIyRc8YKS1q1fX0CZg</td>\n",
       "      <td>1</td>\n",
       "      <td>2015-03-31 16:50:30</td>\n",
       "      <td>0</td>\n",
       "      <td>eZs2tpEJtXPwawvHnHZIgQ</td>\n",
       "      <td>1</td>\n",
       "      <td>BEWARE!!! FAKE, FAKE, FAKE....We also own a sm...</td>\n",
       "      <td>10</td>\n",
       "      <td>n1LM36qNg4rqGXIcvVXv8w</td>\n",
       "    </tr>\n",
       "    <tr>\n",
       "      <th>1</th>\n",
       "      <td>eMYeEapscbKNqUDCx705hg</td>\n",
       "      <td>0</td>\n",
       "      <td>2015-12-16 05:31:03</td>\n",
       "      <td>0</td>\n",
       "      <td>DoQDWJsNbU0KL1O29l_Xug</td>\n",
       "      <td>4</td>\n",
       "      <td>Came here for lunch Togo. Service was quick. S...</td>\n",
       "      <td>0</td>\n",
       "      <td>5CgjjDAic2-FAvCtiHpytA</td>\n",
       "    </tr>\n",
       "    <tr>\n",
       "      <th>2</th>\n",
       "      <td>6Q7-wkCPc1KF75jZLOTcMw</td>\n",
       "      <td>1</td>\n",
       "      <td>2010-06-20 19:14:48</td>\n",
       "      <td>1</td>\n",
       "      <td>DDOdGU7zh56yQHmUnL1idQ</td>\n",
       "      <td>3</td>\n",
       "      <td>I've been to Vegas dozens of times and had nev...</td>\n",
       "      <td>2</td>\n",
       "      <td>BdV-cf3LScmb8kZ7iiBcMA</td>\n",
       "    </tr>\n",
       "    <tr>\n",
       "      <th>3</th>\n",
       "      <td>k3zrItO4l9hwfLRwHBDc9w</td>\n",
       "      <td>3</td>\n",
       "      <td>2010-07-13 00:33:45</td>\n",
       "      <td>4</td>\n",
       "      <td>LfTMUWnfGFMOfOIyJcwLVA</td>\n",
       "      <td>1</td>\n",
       "      <td>We went here on a night where they closed off ...</td>\n",
       "      <td>5</td>\n",
       "      <td>cZZnBqh4gAEy4CdNvJailQ</td>\n",
       "    </tr>\n",
       "    <tr>\n",
       "      <th>4</th>\n",
       "      <td>6hpfRwGlOzbNv7k5eP9rsQ</td>\n",
       "      <td>1</td>\n",
       "      <td>2018-06-30 02:30:01</td>\n",
       "      <td>0</td>\n",
       "      <td>zJSUdI7bJ8PNJAg4lnl_Gg</td>\n",
       "      <td>4</td>\n",
       "      <td>3.5 to 4 stars\\n\\nNot bad for the price, $12.9...</td>\n",
       "      <td>5</td>\n",
       "      <td>n9QO4ClYAS7h9fpQwa5bhA</td>\n",
       "    </tr>\n",
       "  </tbody>\n",
       "</table>\n",
       "</div>"
      ],
      "text/plain": [
       "              business_id  cool                date  funny  \\\n",
       "0  nDuEqIyRc8YKS1q1fX0CZg     1 2015-03-31 16:50:30      0   \n",
       "1  eMYeEapscbKNqUDCx705hg     0 2015-12-16 05:31:03      0   \n",
       "2  6Q7-wkCPc1KF75jZLOTcMw     1 2010-06-20 19:14:48      1   \n",
       "3  k3zrItO4l9hwfLRwHBDc9w     3 2010-07-13 00:33:45      4   \n",
       "4  6hpfRwGlOzbNv7k5eP9rsQ     1 2018-06-30 02:30:01      0   \n",
       "\n",
       "                review_id  stars  \\\n",
       "0  eZs2tpEJtXPwawvHnHZIgQ      1   \n",
       "1  DoQDWJsNbU0KL1O29l_Xug      4   \n",
       "2  DDOdGU7zh56yQHmUnL1idQ      3   \n",
       "3  LfTMUWnfGFMOfOIyJcwLVA      1   \n",
       "4  zJSUdI7bJ8PNJAg4lnl_Gg      4   \n",
       "\n",
       "                                                text  useful  \\\n",
       "0  BEWARE!!! FAKE, FAKE, FAKE....We also own a sm...      10   \n",
       "1  Came here for lunch Togo. Service was quick. S...       0   \n",
       "2  I've been to Vegas dozens of times and had nev...       2   \n",
       "3  We went here on a night where they closed off ...       5   \n",
       "4  3.5 to 4 stars\\n\\nNot bad for the price, $12.9...       5   \n",
       "\n",
       "                  user_id  \n",
       "0  n1LM36qNg4rqGXIcvVXv8w  \n",
       "1  5CgjjDAic2-FAvCtiHpytA  \n",
       "2  BdV-cf3LScmb8kZ7iiBcMA  \n",
       "3  cZZnBqh4gAEy4CdNvJailQ  \n",
       "4  n9QO4ClYAS7h9fpQwa5bhA  "
      ]
     },
     "execution_count": 2,
     "metadata": {},
     "output_type": "execute_result"
    }
   ],
   "source": [
    "yelp.head()"
   ]
  },
  {
   "cell_type": "code",
   "execution_count": null,
   "metadata": {},
   "outputs": [],
   "source": []
  },
  {
   "cell_type": "code",
   "execution_count": 3,
   "metadata": {},
   "outputs": [
    {
     "name": "stdout",
     "output_type": "stream",
     "text": [
      "Requirement already satisfied: en_core_web_sm==2.1.0 from https://github.com/explosion/spacy-models/releases/download/en_core_web_sm-2.1.0/en_core_web_sm-2.1.0.tar.gz#egg=en_core_web_sm==2.1.0 in /home/ec2-user/anaconda3/envs/chainer_p36/lib/python3.6/site-packages (2.1.0)\n",
      "\u001b[33mYou are using pip version 10.0.1, however version 19.1.1 is available.\n",
      "You should consider upgrading via the 'pip install --upgrade pip' command.\u001b[0m\n",
      "\u001b[38;5;2m✔ Download and installation successful\u001b[0m\n",
      "You can now load the model via spacy.load('en_core_web_sm')\n"
     ]
    }
   ],
   "source": [
    "!python -m spacy download en_core_web_sm"
   ]
  },
  {
   "cell_type": "code",
   "execution_count": 4,
   "metadata": {
    "scrolled": true
   },
   "outputs": [],
   "source": [
    "import spacy\n",
    "from spacy.tokenizer import Tokenizer\n",
    "import gensim\n",
    "from gensim.parsing.preprocessing import STOPWORDS\n",
    "\n",
    "nlp = spacy.load('en_core_web_sm')\n",
    "\n",
    "tokenizer = Tokenizer(nlp.vocab)\n",
    "def tokenize(doc):\n",
    "    tokens = [token.text for token in tokenizer(doc) if token not in STOPWORDS]\n",
    "\n",
    "    return tokens"
   ]
  },
  {
   "cell_type": "code",
   "execution_count": null,
   "metadata": {},
   "outputs": [],
   "source": []
  },
  {
   "cell_type": "markdown",
   "metadata": {},
   "source": [
    "## Part 1: Tokenize Function\n",
    "<a id=\"#p1\"></a>\n",
    "\n",
    "Complete the function `tokenize`. Your function should\n",
    "- accept one document at a time\n",
    "- return a list of tokens\n",
    "\n",
    "You are free to use any method you have learned this week."
   ]
  },
  {
   "cell_type": "code",
   "execution_count": 5,
   "metadata": {},
   "outputs": [
    {
     "name": "stdout",
     "output_type": "stream",
     "text": [
      "['BEWARE!!!', 'FAKE,', 'FAKE,', 'FAKE....We', 'also', 'own', 'a', 'small', 'business', 'in', 'Los', 'Alamitos,', 'CA', 'and', 'received', 'what', 'looked', 'like', 'a', 'legitimate', 'bill', 'for', '$70', 'with', 'an', 'account', 'number', 'and', 'all.', ' ', 'I', 'called', 'the', 'phone', 'number', 'listed', '(866)', '273-7934.', ' ', 'The', 'wait', 'time', 'on', 'hold', 'said', '20', 'minutes', 'and', 'to', 'leave', 'a', 'message.', ' ', 'I', 'could', 'not', 'get', 'a', 'live', 'person', 'on', 'the', 'phone', 'no', 'matter', 'what', 'number', 'I', 'selected.', ' ', 'I', 'left', 'a', 'very', 'FIRM', 'message', 'that', 'I', 'would', 'be', 'contacting', 'the', 'BBB', 'and', 'my', 'attorney', 'regarding', 'their', 'company', 'trying', 'to', 'scam', 'businesses.', 'This', 'has', 'to', 'be', 'illegal!!!!!']\n"
     ]
    }
   ],
   "source": [
    "test = tokenize(yelp['text'].iloc[0])\n",
    "print(test)"
   ]
  },
  {
   "cell_type": "markdown",
   "metadata": {},
   "source": [
    "## Part 2: Vector Representation\n",
    "<a id=\"#p2\"></a>\n",
    "1. Create a vector representation of the reviews\n",
    "2. Write a fake review and query for the 10 most similiar reviews, print the text of the reviews. Do you notice any patterns?\n",
    "    - Given the size of the dataset, it will probably be best to use a `NearestNeighbors` model for this. "
   ]
  },
  {
   "cell_type": "code",
   "execution_count": 6,
   "metadata": {},
   "outputs": [],
   "source": [
    "data = yelp['text'].values"
   ]
  },
  {
   "cell_type": "code",
   "execution_count": 7,
   "metadata": {},
   "outputs": [],
   "source": [
    "from sklearn.feature_extraction.text import TfidfVectorizer\n",
    "\n",
    "# Instantiate vectorizer object\n",
    "tfidf = TfidfVectorizer(stop_words='english', max_features=5000)\n",
    "\n",
    "# Create a vocabulary and get word counts per document\n",
    "dtm = tfidf.fit_transform(data)\n"
   ]
  },
  {
   "cell_type": "code",
   "execution_count": 8,
   "metadata": {},
   "outputs": [
    {
     "data": {
      "text/plain": [
       "NearestNeighbors(algorithm='ball_tree', leaf_size=30, metric='minkowski',\n",
       "         metric_params=None, n_jobs=None, n_neighbors=10, p=2, radius=1.0)"
      ]
     },
     "execution_count": 8,
     "metadata": {},
     "output_type": "execute_result"
    }
   ],
   "source": [
    "# Instantiate\n",
    "from sklearn.neighbors import NearestNeighbors\n",
    "\n",
    "nn = NearestNeighbors(n_neighbors=10, algorithm='ball_tree')\n",
    "\n",
    "# Fit on TF-IDF Vectors\n",
    "nn.fit(dtm.todense())"
   ]
  },
  {
   "cell_type": "code",
   "execution_count": 9,
   "metadata": {},
   "outputs": [
    {
     "data": {
      "text/plain": [
       "(array([[1.        , 1.        , 1.15240698, 1.20476727, 1.23566525,\n",
       "         1.23704062, 1.23894771, 1.24319716, 1.24480605, 1.25606254]]),\n",
       " array([[6311, 6204,  753, 4162, 9193, 9914, 4913, 2847, 7235, 9266]]))"
      ]
     },
     "execution_count": 9,
     "metadata": {},
     "output_type": "execute_result"
    }
   ],
   "source": [
    "from sklearn.feature_extraction.text import TfidfVectorizer\n",
    "\n",
    "fake_review = [\"This restaurant was one of the worst I've ever seen. The waitress tried to steal my phone and the food tasted stale. Horrible service. Will not be coming back!\"] \n",
    "\n",
    "new = tfidf.transform(fake_review)\n",
    "\n",
    "nn.kneighbors(new.todense())\n",
    "\n"
   ]
  },
  {
   "cell_type": "code",
   "execution_count": 10,
   "metadata": {},
   "outputs": [
    {
     "data": {
      "text/plain": [
       "\"The service was horrible. Everything took too long and the food tasted bland. I love sushi and go out for it regularly and this is the worst place I've been to\""
      ]
     },
     "execution_count": 10,
     "metadata": {},
     "output_type": "execute_result"
    }
   ],
   "source": [
    "data[753]"
   ]
  },
  {
   "cell_type": "markdown",
   "metadata": {},
   "source": [
    "## Part 3: Classification\n",
    "<a id=\"#p3\"></a>\n",
    "Your goal in this section will be to predict `stars` from the review dataset. \n",
    "\n",
    "1. Create a piepline object with a sklearn `CountVectorizer` or `TfidfVector` and any sklearn classifier. Use that pipeline to estimate a model to predict `stars`. Use the Pipeline to predict a star rating for your fake review from Part 2. \n",
    "2. Tune the entire pipeline with a GridSearch"
   ]
  },
  {
   "cell_type": "code",
   "execution_count": 11,
   "metadata": {},
   "outputs": [],
   "source": [
    "from sklearn.pipeline import Pipeline\n",
    "from sklearn.linear_model import SGDClassifier\n",
    "\n",
    "vect = TfidfVectorizer(stop_words='english')\n",
    "sgdc = SGDClassifier()\n",
    "\n",
    "pipe = Pipeline([('vect', vect), ('clf', sgdc)])"
   ]
  },
  {
   "cell_type": "code",
   "execution_count": 12,
   "metadata": {},
   "outputs": [],
   "source": [
    "star_data = yelp"
   ]
  },
  {
   "cell_type": "code",
   "execution_count": 13,
   "metadata": {},
   "outputs": [
    {
     "name": "stderr",
     "output_type": "stream",
     "text": [
      "/home/ec2-user/anaconda3/envs/chainer_p36/lib/python3.6/site-packages/sklearn/linear_model/stochastic_gradient.py:166: FutureWarning: max_iter and tol parameters have been added in SGDClassifier in 0.19. If both are left unset, they default to max_iter=5 and tol=None. If tol is not None, max_iter defaults to max_iter=1000. From 0.21, default max_iter will be 1000, and default tol will be 1e-3.\n",
      "  FutureWarning)\n"
     ]
    },
    {
     "data": {
      "text/plain": [
       "Pipeline(memory=None,\n",
       "     steps=[('vect', TfidfVectorizer(analyzer='word', binary=False, decode_error='strict',\n",
       "        dtype=<class 'numpy.float64'>, encoding='utf-8', input='content',\n",
       "        lowercase=True, max_df=1.0, max_features=None, min_df=1,\n",
       "        ngram_range=(1, 1), norm='l2', preprocessor=None, smooth_idf=True,\n",
       "...m_state=None, shuffle=True, tol=None,\n",
       "       validation_fraction=0.1, verbose=0, warm_start=False))])"
      ]
     },
     "execution_count": 13,
     "metadata": {},
     "output_type": "execute_result"
    }
   ],
   "source": [
    "pipe.fit(star_data['text'], star_data['stars'])"
   ]
  },
  {
   "cell_type": "code",
   "execution_count": 14,
   "metadata": {},
   "outputs": [
    {
     "data": {
      "text/plain": [
       "array([1])"
      ]
     },
     "execution_count": 14,
     "metadata": {},
     "output_type": "execute_result"
    }
   ],
   "source": [
    "pipe.predict([\"The service was horrible. Everything took too long and the food tasted bland. I love sushi and go out for it regularly and this is the worst place I've been to\"])"
   ]
  },
  {
   "cell_type": "code",
   "execution_count": 15,
   "metadata": {},
   "outputs": [
    {
     "data": {
      "text/plain": [
       "array([5])"
      ]
     },
     "execution_count": 15,
     "metadata": {},
     "output_type": "execute_result"
    }
   ],
   "source": [
    "pipe.predict([\"Best restaurant ever! I loved it! So good.\"])"
   ]
  },
  {
   "cell_type": "code",
   "execution_count": 16,
   "metadata": {},
   "outputs": [
    {
     "name": "stdout",
     "output_type": "stream",
     "text": [
      "Fitting 5 folds for each of 9 candidates, totalling 45 fits\n"
     ]
    },
    {
     "name": "stderr",
     "output_type": "stream",
     "text": [
      "[Parallel(n_jobs=-1)]: Using backend LokyBackend with 16 concurrent workers.\n",
      "[Parallel(n_jobs=-1)]: Done  45 out of  45 | elapsed:   14.3s finished\n",
      "/home/ec2-user/anaconda3/envs/chainer_p36/lib/python3.6/site-packages/sklearn/linear_model/stochastic_gradient.py:183: FutureWarning: max_iter and tol parameters have been added in SGDClassifier in 0.19. If max_iter is set but tol is left unset, the default value for tol in 0.19 and 0.20 will be None (which is equivalent to -infinity, so it has no effect) but will change in 0.21 to 1e-3. Specify tol to silence this warning.\n",
      "  FutureWarning)\n"
     ]
    },
    {
     "data": {
      "text/plain": [
       "GridSearchCV(cv=5, error_score='raise-deprecating',\n",
       "       estimator=Pipeline(memory=None,\n",
       "     steps=[('vect', TfidfVectorizer(analyzer='word', binary=False, decode_error='strict',\n",
       "        dtype=<class 'numpy.float64'>, encoding='utf-8', input='content',\n",
       "        lowercase=True, max_df=1.0, max_features=None, min_df=1,\n",
       "        ngram_range=(1, 1), norm='l2', preprocessor=None, smooth_idf=True,\n",
       "...m_state=None, shuffle=True, tol=None,\n",
       "       validation_fraction=0.1, verbose=0, warm_start=False))]),\n",
       "       fit_params=None, iid='warn', n_jobs=-1,\n",
       "       param_grid={'vect__max_df': (0.5, 0.75, 1.0), 'clf__max_iter': (20, 10, 100)},\n",
       "       pre_dispatch='2*n_jobs', refit=True, return_train_score='warn',\n",
       "       scoring=None, verbose=1)"
      ]
     },
     "execution_count": 16,
     "metadata": {},
     "output_type": "execute_result"
    }
   ],
   "source": [
    "from sklearn.model_selection import GridSearchCV\n",
    "parameters = {\n",
    "    'vect__max_df': (0.5, 0.75, 1.0),\n",
    "    'clf__max_iter':(20, 10, 100)\n",
    "}\n",
    "grid_search = GridSearchCV(pipe,parameters, cv=5, n_jobs=-1, verbose=1)\n",
    "grid_search.fit(star_data['text'], star_data['stars'])\n"
   ]
  },
  {
   "cell_type": "markdown",
   "metadata": {},
   "source": [
    "## Part 4: Topic Modeling\n",
    "\n",
    "Let's find out what those yelp reviews are saying! :D\n",
    "\n",
    "1. Estimate a LDA topic model of the review text\n",
    "2. Create 1-2 visualizations of the results\n",
    "    - You can use the most important 3 words of a topic in relevant visualizations. Refer to yesterday's notebook to extract. \n",
    "3. In markdown, write 1-2 paragraphs of analysis on the results of your topic model\n",
    "\n",
    "__*Note*__: You can pass the DataFrame column of text reviews to gensim. You do not have to use a generator."
   ]
  },
  {
   "cell_type": "code",
   "execution_count": 17,
   "metadata": {},
   "outputs": [
    {
     "name": "stdout",
     "output_type": "stream",
     "text": [
      "Requirement already satisfied: gensim in /home/ec2-user/anaconda3/envs/chainer_p36/lib/python3.6/site-packages (3.8.0)\n",
      "Requirement already satisfied: scipy>=0.18.1 in /home/ec2-user/anaconda3/envs/chainer_p36/lib/python3.6/site-packages (from gensim) (1.1.0)\n",
      "Requirement already satisfied: smart-open>=1.7.0 in /home/ec2-user/anaconda3/envs/chainer_p36/lib/python3.6/site-packages (from gensim) (1.8.4)\n",
      "Requirement already satisfied: numpy>=1.11.3 in /home/ec2-user/anaconda3/envs/chainer_p36/lib/python3.6/site-packages (from gensim) (1.15.4)\n",
      "Requirement already satisfied: six>=1.5.0 in /home/ec2-user/anaconda3/envs/chainer_p36/lib/python3.6/site-packages (from gensim) (1.12.0)\n",
      "Requirement already satisfied: boto>=2.32 in /home/ec2-user/anaconda3/envs/chainer_p36/lib/python3.6/site-packages (from smart-open>=1.7.0->gensim) (2.48.0)\n",
      "Requirement already satisfied: requests in /home/ec2-user/anaconda3/envs/chainer_p36/lib/python3.6/site-packages (from smart-open>=1.7.0->gensim) (2.20.0)\n",
      "Requirement already satisfied: boto3 in /home/ec2-user/anaconda3/envs/chainer_p36/lib/python3.6/site-packages (from smart-open>=1.7.0->gensim) (1.9.178)\n",
      "Requirement already satisfied: idna<2.8,>=2.5 in /home/ec2-user/anaconda3/envs/chainer_p36/lib/python3.6/site-packages (from requests->smart-open>=1.7.0->gensim) (2.6)\n",
      "Requirement already satisfied: chardet<3.1.0,>=3.0.2 in /home/ec2-user/anaconda3/envs/chainer_p36/lib/python3.6/site-packages (from requests->smart-open>=1.7.0->gensim) (3.0.4)\n",
      "Requirement already satisfied: certifi>=2017.4.17 in /home/ec2-user/anaconda3/envs/chainer_p36/lib/python3.6/site-packages (from requests->smart-open>=1.7.0->gensim) (2019.3.9)\n",
      "Requirement already satisfied: urllib3<1.25,>=1.21.1 in /home/ec2-user/anaconda3/envs/chainer_p36/lib/python3.6/site-packages (from requests->smart-open>=1.7.0->gensim) (1.23)\n",
      "Requirement already satisfied: botocore<1.13.0,>=1.12.178 in /home/ec2-user/anaconda3/envs/chainer_p36/lib/python3.6/site-packages (from boto3->smart-open>=1.7.0->gensim) (1.12.178)\n",
      "Requirement already satisfied: jmespath<1.0.0,>=0.7.1 in /home/ec2-user/anaconda3/envs/chainer_p36/lib/python3.6/site-packages (from boto3->smart-open>=1.7.0->gensim) (0.9.4)\n",
      "Requirement already satisfied: s3transfer<0.3.0,>=0.2.0 in /home/ec2-user/anaconda3/envs/chainer_p36/lib/python3.6/site-packages (from boto3->smart-open>=1.7.0->gensim) (0.2.0)\n",
      "Requirement already satisfied: docutils>=0.10 in /home/ec2-user/anaconda3/envs/chainer_p36/lib/python3.6/site-packages (from botocore<1.13.0,>=1.12.178->boto3->smart-open>=1.7.0->gensim) (0.14)\n",
      "Requirement already satisfied: python-dateutil<3.0.0,>=2.1; python_version >= \"2.7\" in /home/ec2-user/anaconda3/envs/chainer_p36/lib/python3.6/site-packages (from botocore<1.13.0,>=1.12.178->boto3->smart-open>=1.7.0->gensim) (2.8.0)\n",
      "\u001b[33mYou are using pip version 10.0.1, however version 19.1.1 is available.\n",
      "You should consider upgrading via the 'pip install --upgrade pip' command.\u001b[0m\n"
     ]
    }
   ],
   "source": [
    "!pip install gensim"
   ]
  },
  {
   "cell_type": "code",
   "execution_count": 18,
   "metadata": {},
   "outputs": [],
   "source": [
    "import numpy as np\n",
    "import gensim\n",
    "import os\n",
    "import re\n",
    "\n",
    "from gensim.utils import simple_preprocess\n",
    "from gensim.parsing.preprocessing import STOPWORDS\n",
    "from gensim import corpora\n",
    "\n",
    "from gensim.models.ldamulticore import LdaMulticore\n",
    "\n",
    "import pandas as pd"
   ]
  },
  {
   "cell_type": "code",
   "execution_count": 19,
   "metadata": {},
   "outputs": [],
   "source": [
    "def doc_stream():\n",
    "    n = 0\n",
    "    for index, row in yelp.iterrows():\n",
    "        if n <= 100:\n",
    "            text = row['text'].strip('\\n')\n",
    "            tokens = tokenize(str(text))\n",
    "            #tokens =[tokenize(row) for row in yelp['text']]\n",
    "            #print(tokens)\n",
    "            #print(text)\n",
    "            n += 1\n",
    "            yield tokens"
   ]
  },
  {
   "cell_type": "code",
   "execution_count": 20,
   "metadata": {},
   "outputs": [],
   "source": [
    "# A Dictionary Representation of all the words in our corpus\n",
    "id2word = corpora.Dictionary(doc_stream())"
   ]
  },
  {
   "cell_type": "code",
   "execution_count": 21,
   "metadata": {},
   "outputs": [
    {
     "name": "stdout",
     "output_type": "stream",
     "text": [
      "Dictionary(3855 unique tokens: [' ', '$70', '(866)', '20', '273-7934.']...)\n"
     ]
    }
   ],
   "source": [
    "print(id2word)"
   ]
  },
  {
   "cell_type": "code",
   "execution_count": 22,
   "metadata": {},
   "outputs": [
    {
     "name": "stdout",
     "output_type": "stream",
     "text": [
      "56\n"
     ]
    }
   ],
   "source": [
    "import sys\n",
    "print(sys.getsizeof(id2word))"
   ]
  },
  {
   "cell_type": "code",
   "execution_count": 23,
   "metadata": {},
   "outputs": [],
   "source": [
    "corpus = [id2word.doc2bow(text) for text in doc_stream()]"
   ]
  },
  {
   "cell_type": "code",
   "execution_count": 24,
   "metadata": {},
   "outputs": [
    {
     "name": "stdout",
     "output_type": "stream",
     "text": [
      "[[(0, 4), (1, 1), (2, 1), (3, 1), (4, 1), (5, 1), (6, 1), (7, 1), (8, 1), (9, 2), (10, 1), (11, 1), (12, 5), (13, 1), (14, 1), (15, 1), (16, 5), (17, 1), (18, 1), (19, 1), (20, 1), (21, 4), (22, 1), (23, 2), (24, 1), (25, 1), (26, 1), (27, 1), (28, 1), (29, 1), (30, 1), (31, 1), (32, 1), (33, 1), (34, 1), (35, 1), (36, 1), (37, 1), (38, 1), (39, 1), (40, 1), (41, 1), (42, 1), (43, 1), (44, 1), (45, 1), (46, 1), (47, 1), (48, 1), (49, 1), (50, 1), (51, 3), (52, 2), (53, 1), (54, 1), (55, 2), (56, 1), (57, 1), (58, 1), (59, 1), (60, 1), (61, 1), (62, 1), (63, 3), (64, 1), (65, 1), (66, 3), (67, 1), (68, 1), (69, 1), (70, 2), (71, 1), (72, 1)], [(16, 1), (23, 1), (31, 1), (73, 1), (74, 1), (75, 1), (76, 1), (77, 1), (78, 1), (79, 1), (80, 1), (81, 1), (82, 1), (83, 1), (84, 1), (85, 1), (86, 1), (87, 1), (88, 1), (89, 1), (90, 1), (91, 1), (92, 2)], [(0, 2), (12, 8), (14, 1), (16, 7), (21, 12), (25, 1), (30, 1), (31, 2), (32, 1), (36, 1), (40, 1), (43, 1), (48, 3), (52, 2), (62, 1), (63, 9), (66, 8), (70, 1), (71, 1), (80, 1), (86, 3), (92, 5), (93, 1), (94, 1), (95, 1), (96, 1), (97, 4), (98, 1), (99, 1), (100, 1), (101, 1), (102, 1), (103, 1), (104, 1), (105, 1), (106, 1), (107, 1), (108, 1), (109, 1), (110, 1), (111, 1), (112, 2), (113, 1), (114, 1), (115, 1), (116, 1), (117, 1), (118, 1), (119, 1), (120, 1), (121, 1), (122, 1), (123, 1), (124, 1), (125, 1), (126, 1), (127, 1), (128, 1), (129, 1), (130, 1), (131, 1), (132, 1), (133, 1), (134, 1), (135, 1), (136, 1), (137, 1), (138, 1), (139, 1), (140, 1), (141, 1), (142, 2), (143, 1), (144, 1), (145, 1), (146, 1), (147, 1), (148, 1), (149, 1), (150, 1), (151, 1), (152, 1), (153, 1), (154, 1), (155, 1), (156, 1), (157, 1), (158, 1), (159, 1), (160, 1), (161, 1), (162, 1), (163, 1), (164, 1), (165, 1), (166, 1), (167, 1), (168, 1), (169, 2), (170, 1), (171, 1), (172, 2), (173, 3), (174, 1), (175, 1), (176, 1), (177, 1), (178, 1), (179, 1), (180, 1), (181, 1), (182, 1), (183, 3), (184, 2), (185, 1), (186, 2), (187, 1), (188, 1), (189, 1), (190, 1), (191, 1), (192, 1), (193, 1), (194, 1), (195, 1), (196, 1), (197, 1), (198, 1), (199, 1), (200, 1), (201, 1), (202, 1), (203, 2)], [(12, 1), (15, 1), (16, 4), (21, 1), (31, 2), (52, 1), (63, 2), (66, 2), (84, 1), (86, 1), (92, 1), (140, 1), (169, 1), (170, 4), (199, 1), (204, 1), (205, 1), (206, 1), (207, 1), (208, 1), (209, 1), (210, 1), (211, 1), (212, 1), (213, 1), (214, 2), (215, 1), (216, 1), (217, 1), (218, 1), (219, 1), (220, 2), (221, 1), (222, 1), (223, 1), (224, 1), (225, 1), (226, 1), (227, 1), (228, 2), (229, 1), (230, 3), (231, 1), (232, 1), (233, 1), (234, 1), (235, 2)], [(0, 2), (12, 1), (14, 1), (16, 1), (21, 2), (31, 2), (32, 1), (36, 1), (52, 1), (63, 6), (66, 1), (72, 1), (83, 1), (86, 1), (87, 1), (93, 4), (112, 1), (116, 1), (140, 1), (159, 2), (170, 1), (233, 1), (236, 1), (237, 1), (238, 1), (239, 1), (240, 1), (241, 1), (242, 1), (243, 1), (244, 1), (245, 1), (246, 1), (247, 1), (248, 1), (249, 1), (250, 1), (251, 1), (252, 1), (253, 1), (254, 1), (255, 1), (256, 1), (257, 1), (258, 1), (259, 1), (260, 1), (261, 1), (262, 1), (263, 1), (264, 1), (265, 1), (266, 1), (267, 1), (268, 1), (269, 2), (270, 1), (271, 1), (272, 1), (273, 1), (274, 1), (275, 1), (276, 1), (277, 1), (278, 1), (279, 1), (280, 1), (281, 1), (282, 1), (283, 1), (284, 1), (285, 1), (286, 1), (287, 1), (288, 1), (289, 1), (290, 1)], [(0, 4), (12, 1), (14, 2), (20, 2), (21, 1), (23, 2), (31, 3), (63, 1), (67, 1), (80, 2), (83, 1), (86, 3), (87, 1), (101, 1), (112, 1), (116, 1), (136, 1), (172, 1), (174, 1), (192, 1), (203, 1), (225, 1), (244, 1), (272, 1), (291, 1), (292, 1), (293, 1), (294, 1), (295, 1), (296, 1), (297, 1), (298, 1), (299, 1), (300, 1), (301, 1), (302, 1), (303, 1), (304, 1), (305, 1), (306, 1), (307, 1), (308, 1), (309, 1), (310, 1), (311, 1), (312, 1), (313, 1), (314, 1), (315, 1), (316, 1), (317, 1), (318, 1)], [(0, 11), (12, 3), (14, 2), (15, 3), (16, 3), (20, 1), (21, 8), (23, 1), (30, 2), (31, 4), (33, 1), (36, 2), (48, 1), (50, 1), (52, 1), (63, 5), (66, 4), (86, 5), (92, 3), (114, 1), (116, 1), (140, 2), (148, 3), (154, 2), (155, 1), (170, 1), (173, 2), (187, 1), (192, 1), (210, 1), (229, 1), (233, 2), (234, 1), (313, 1), (319, 1), (320, 1), (321, 1), (322, 1), (323, 1), (324, 1), (325, 1), (326, 1), (327, 1), (328, 1), (329, 1), (330, 1), (331, 1), (332, 1), (333, 1), (334, 1), (335, 1), (336, 1), (337, 1), (338, 1), (339, 1), (340, 1), (341, 1), (342, 1), (343, 1), (344, 1), (345, 1), (346, 1), (347, 1), (348, 1), (349, 1), (350, 1), (351, 1), (352, 1), (353, 1), (354, 1), (355, 1), (356, 1), (357, 1), (358, 1), (359, 1), (360, 1), (361, 1), (362, 1), (363, 1), (364, 1), (365, 1), (366, 1), (367, 1), (368, 1), (369, 1), (370, 1), (371, 1), (372, 1), (373, 1), (374, 1), (375, 1), (376, 1), (377, 1), (378, 3), (379, 1), (380, 1), (381, 1), (382, 1), (383, 1), (384, 1), (385, 1), (386, 1), (387, 1), (388, 1), (389, 1), (390, 1), (391, 1), (392, 1), (393, 1), (394, 1), (395, 1), (396, 1), (397, 1)], [(0, 1), (12, 1), (15, 1), (21, 3), (31, 2), (40, 1), (48, 1), (50, 2), (63, 5), (66, 1), (73, 1), (84, 1), (86, 1), (92, 3), (138, 3), (207, 1), (216, 1), (224, 1), (253, 1), (286, 1), (313, 1), (354, 1), (398, 1), (399, 1), (400, 1), (401, 1), (402, 1), (403, 1), (404, 1), (405, 1), (406, 1), (407, 1), (408, 1), (409, 1), (410, 2), (411, 1), (412, 1), (413, 1), (414, 1), (415, 1)], [(16, 9), (21, 5), (31, 2), (36, 8), (40, 1), (48, 1), (52, 1), (62, 1), (63, 5), (64, 2), (66, 4), (71, 2), (86, 1), (92, 5), (95, 1), (112, 1), (114, 1), (137, 1), (139, 2), (140, 1), (143, 1), (148, 4), (158, 1), (170, 4), (200, 2), (202, 1), (203, 2), (210, 1), (211, 1), (228, 1), (229, 6), (234, 1), (244, 1), (245, 2), (307, 1), (308, 1), (368, 1), (388, 1), (416, 1), (417, 1), (418, 1), (419, 1), (420, 1), (421, 1), (422, 1), (423, 1), (424, 1), (425, 1), (426, 1), (427, 1), (428, 1), (429, 1), (430, 1), (431, 1), (432, 1), (433, 1), (434, 1), (435, 1), (436, 1), (437, 1), (438, 1), (439, 1), (440, 2), (441, 1), (442, 1), (443, 1), (444, 1), (445, 1), (446, 1), (447, 1), (448, 2), (449, 1), (450, 1), (451, 1), (452, 1), (453, 1), (454, 1), (455, 2), (456, 1), (457, 1), (458, 11), (459, 1), (460, 1), (461, 1), (462, 1), (463, 1), (464, 1), (465, 1), (466, 1), (467, 5), (468, 1), (469, 1), (470, 1), (471, 1), (472, 1), (473, 1), (474, 1), (475, 1), (476, 1), (477, 2), (478, 1), (479, 1), (480, 1), (481, 1), (482, 1), (483, 1), (484, 1), (485, 1), (486, 3), (487, 1), (488, 1), (489, 1), (490, 1), (491, 1), (492, 1), (493, 1), (494, 1), (495, 1), (496, 1), (497, 1), (498, 1), (499, 1), (500, 1), (501, 4), (502, 1), (503, 1), (504, 1), (505, 6), (506, 1)], [(12, 5), (14, 1), (16, 1), (21, 4), (31, 1), (36, 1), (40, 1), (50, 1), (58, 1), (62, 1), (63, 5), (66, 2), (71, 2), (72, 1), (92, 1), (101, 2), (112, 1), (114, 1), (130, 1), (138, 1), (165, 1), (170, 1), (172, 1), (240, 1), (247, 1), (282, 1), (334, 1), (401, 1), (410, 1), (471, 1), (507, 1), (508, 1), (509, 1), (510, 1), (511, 1), (512, 1), (513, 1), (514, 1), (515, 1), (516, 1), (517, 1), (518, 1), (519, 2), (520, 1), (521, 1), (522, 1), (523, 2), (524, 1), (525, 1), (526, 2), (527, 1), (528, 2), (529, 1), (530, 1), (531, 1), (532, 1), (533, 1), (534, 1), (535, 1), (536, 1), (537, 1), (538, 1), (539, 1), (540, 1), (541, 1)], [(12, 3), (14, 2), (15, 1), (16, 9), (20, 1), (21, 6), (31, 3), (36, 3), (48, 2), (49, 1), (50, 2), (52, 2), (62, 2), (63, 12), (66, 6), (67, 1), (68, 1), (70, 1), (71, 4), (72, 2), (80, 1), (86, 2), (92, 9), (93, 3), (102, 1), (112, 1), (116, 3), (139, 3), (140, 1), (148, 2), (158, 1), (167, 2), (170, 3), (174, 1), (186, 2), (192, 1), (200, 2), (203, 1), (207, 4), (210, 1), (224, 1), (228, 1), (233, 1), (244, 1), (245, 1), (277, 1), (291, 10), (307, 1), (313, 1), (314, 1), (327, 3), (345, 1), (371, 3), (378, 1), (389, 1), (429, 2), (491, 1), (496, 1), (501, 1), (505, 1), (526, 2), (542, 5), (543, 1), (544, 1), (545, 1), (546, 1), (547, 1), (548, 1), (549, 1), (550, 1), (551, 1), (552, 2), (553, 1), (554, 1), (555, 1), (556, 1), (557, 1), (558, 1), (559, 1), (560, 1), (561, 1), (562, 1), (563, 1), (564, 1), (565, 1), (566, 1), (567, 1), (568, 1), (569, 1), (570, 2), (571, 1), (572, 1), (573, 1), (574, 1), (575, 1), (576, 1), (577, 1), (578, 1), (579, 1), (580, 1), (581, 1), (582, 1), (583, 1), (584, 1), (585, 1), (586, 1), (587, 1), (588, 1), (589, 1), (590, 1), (591, 1), (592, 1), (593, 1), (594, 1), (595, 1), (596, 1), (597, 1), (598, 1), (599, 1), (600, 1), (601, 1), (602, 1), (603, 1), (604, 1), (605, 1), (606, 1), (607, 1), (608, 1), (609, 1), (610, 1), (611, 1), (612, 1), (613, 2), (614, 1), (615, 2), (616, 1), (617, 1), (618, 1), (619, 2), (620, 1), (621, 1), (622, 1), (623, 1), (624, 1), (625, 1), (626, 1), (627, 1), (628, 1), (629, 1), (630, 1), (631, 1), (632, 1), (633, 1), (634, 1), (635, 1), (636, 1), (637, 1), (638, 1), (639, 1), (640, 1), (641, 1), (642, 1), (643, 1), (644, 1), (645, 1), (646, 1), (647, 1), (648, 1), (649, 1), (650, 1), (651, 1)], [(0, 3), (12, 7), (14, 2), (16, 11), (21, 18), (23, 2), (27, 3), (30, 2), (31, 2), (32, 1), (34, 1), (36, 5), (40, 2), (48, 5), (50, 5), (52, 3), (54, 1), (58, 1), (61, 1), (62, 2), (63, 24), (64, 2), (66, 31), (67, 1), (71, 2), (72, 4), (73, 1), (88, 1), (92, 12), (93, 2), (105, 1), (112, 2), (118, 2), (123, 1), (124, 1), (136, 1), (138, 1), (139, 4), (140, 3), (143, 1), (148, 8), (155, 1), (158, 5), (164, 1), (167, 1), (169, 2), (170, 2), (171, 1), (172, 1), (174, 1), (181, 1), (183, 10), (186, 4), (187, 1), (192, 2), (199, 1), (200, 1), (203, 1), (207, 2), (210, 1), (226, 3), (228, 1), (229, 4), (233, 3), (235, 1), (245, 2), (246, 1), (260, 2), (291, 1), (305, 2), (317, 1), (327, 2), (339, 2), (345, 3), (354, 4), (355, 2), (362, 1), (371, 2), (377, 1), (388, 7), (394, 1), (425, 2), (426, 1), (435, 1), (438, 2), (441, 1), (446, 2), (455, 3), (458, 14), (473, 1), (474, 5), (481, 1), (491, 2), (492, 1), (493, 4), (498, 2), (499, 1), (505, 1), (532, 1), (540, 1), (542, 3), (549, 2), (560, 1), (566, 2), (572, 2), (611, 1), (612, 6), (624, 1), (652, 1), (653, 1), (654, 1), (655, 1), (656, 1), (657, 1), (658, 1), (659, 1), (660, 1), (661, 1), (662, 1), (663, 1), (664, 2), (665, 1), (666, 1), (667, 1), (668, 1), (669, 1), (670, 1), (671, 1), (672, 1), (673, 1), (674, 1), (675, 1), (676, 1), (677, 1), (678, 5), (679, 1), (680, 1), (681, 1), (682, 1), (683, 1), (684, 1), (685, 1), (686, 1), (687, 1), (688, 1), (689, 1), (690, 1), (691, 1), (692, 1), (693, 1), (694, 1), (695, 1), (696, 1), (697, 1), (698, 3), (699, 1), (700, 1), (701, 1), (702, 1), (703, 1), (704, 1), (705, 1), (706, 1), (707, 2), (708, 1), (709, 1), (710, 1), (711, 2), (712, 1), (713, 1), (714, 1), (715, 2), (716, 2), (717, 1), (718, 3), (719, 1), (720, 2), (721, 1), (722, 1), (723, 1), (724, 3), (725, 1), (726, 1), (727, 1), (728, 1), (729, 1), (730, 1), (731, 1), (732, 1), (733, 1), (734, 1), (735, 2), (736, 1), (737, 1), (738, 1), (739, 1), (740, 1), (741, 2), (742, 1), (743, 1), (744, 1), (745, 1), (746, 1), (747, 1), (748, 2), (749, 1), (750, 1), (751, 1), (752, 1), (753, 1), (754, 1), (755, 1), (756, 1), (757, 1), (758, 1), (759, 1), (760, 1), (761, 1), (762, 1), (763, 1), (764, 1), (765, 1), (766, 2), (767, 1), (768, 1), (769, 2), (770, 1), (771, 1), (772, 2), (773, 1), (774, 1), (775, 1), (776, 2), (777, 1), (778, 1), (779, 1), (780, 1), (781, 1), (782, 1), (783, 2), (784, 1), (785, 1), (786, 1), (787, 1), (788, 1), (789, 1), (790, 1), (791, 1), (792, 1), (793, 1), (794, 1), (795, 1), (796, 1), (797, 1), (798, 1), (799, 1), (800, 1), (801, 1), (802, 1), (803, 1), (804, 2), (805, 2), (806, 2), (807, 1), (808, 1), (809, 1), (810, 1), (811, 1), (812, 1), (813, 1), (814, 1), (815, 1), (816, 3), (817, 2), (818, 1), (819, 1), (820, 5), (821, 1), (822, 1), (823, 1), (824, 1), (825, 1), (826, 1), (827, 1), (828, 1), (829, 1), (830, 1), (831, 1), (832, 1), (833, 1), (834, 1), (835, 1), (836, 2), (837, 1), (838, 1), (839, 2), (840, 1), (841, 1)], [(0, 1), (14, 3), (21, 3), (52, 1), (63, 2), (66, 1), (71, 1), (86, 2), (123, 1), (155, 1), (216, 1), (286, 1), (371, 1), (389, 1), (404, 1), (446, 2), (532, 1), (537, 1), (542, 1), (594, 3), (715, 1), (842, 1), (843, 1), (844, 1), (845, 1), (846, 1), (847, 1), (848, 1), (849, 2), (850, 1), (851, 1), (852, 1), (853, 1)], [(0, 5), (14, 3), (16, 1), (21, 1), (31, 1), (36, 1), (48, 1), (49, 1), (63, 2), (66, 2), (68, 2), (86, 1), (92, 4), (116, 2), (139, 1), (140, 1), (173, 1), (192, 1), (207, 1), (224, 1), (291, 1), (327, 1), (371, 1), (403, 1), (497, 1), (553, 1), (594, 1), (639, 1), (780, 1), (854, 1), (855, 1), (856, 1), (857, 2), (858, 1), (859, 1), (860, 1), (861, 1), (862, 1), (863, 1), (864, 1), (865, 1), (866, 1), (867, 1), (868, 1), (869, 1), (870, 1), (871, 1), (872, 1), (873, 1)], [(12, 3), (16, 4), (19, 1), (20, 2), (21, 10), (23, 3), (27, 3), (31, 5), (32, 1), (36, 1), (48, 1), (49, 2), (50, 1), (52, 2), (58, 1), (61, 1), (62, 4), (63, 11), (64, 1), (66, 13), (70, 1), (71, 1), (72, 2), (74, 1), (86, 1), (92, 1), (93, 2), (112, 1), (116, 1), (118, 1), (130, 1), (138, 1), (139, 1), (140, 3), (148, 1), (155, 1), (169, 2), (172, 2), (173, 1), (186, 2), (203, 1), (207, 1), (218, 1), (222, 1), (229, 2), (235, 3), (244, 1), (249, 1), (266, 2), (271, 1), (305, 1), (313, 1), (324, 1), (334, 1), (339, 1), (355, 1), (371, 1), (388, 3), (389, 7), (394, 5), (397, 1), (401, 1), (403, 1), (421, 1), (425, 1), (448, 1), (453, 1), (455, 3), (458, 1), (465, 1), (471, 1), (473, 1), (491, 1), (493, 2), (497, 2), (499, 1), (505, 6), (553, 3), (566, 1), (585, 1), (593, 1), (612, 1), (643, 1), (678, 2), (707, 1), (709, 1), (716, 1), (745, 1), (749, 1), (762, 1), (766, 1), (796, 1), (800, 1), (807, 1), (808, 1), (811, 1), (820, 4), (822, 3), (834, 1), (837, 1), (858, 1), (874, 1), (875, 1), (876, 1), (877, 1), (878, 1), (879, 1), (880, 1), (881, 1), (882, 1), (883, 1), (884, 1), (885, 1), (886, 1), (887, 1), (888, 1), (889, 1), (890, 1), (891, 1), (892, 1), (893, 1), (894, 1), (895, 2), (896, 1), (897, 1), (898, 1), (899, 1), (900, 1), (901, 1), (902, 1), (903, 1), (904, 1), (905, 1), (906, 1), (907, 1), (908, 1), (909, 1), (910, 1), (911, 1), (912, 1), (913, 1), (914, 1), (915, 1), (916, 1), (917, 1), (918, 1), (919, 1), (920, 1), (921, 1), (922, 1), (923, 1), (924, 1), (925, 1), (926, 1), (927, 2), (928, 1), (929, 1), (930, 1), (931, 1), (932, 1), (933, 1), (934, 1), (935, 1), (936, 1), (937, 1), (938, 2), (939, 1), (940, 2), (941, 1), (942, 1), (943, 1), (944, 2), (945, 1), (946, 1), (947, 1), (948, 1), (949, 1), (950, 1), (951, 2), (952, 1), (953, 1), (954, 1), (955, 1), (956, 3), (957, 1), (958, 2), (959, 1), (960, 1), (961, 1), (962, 1), (963, 2), (964, 1), (965, 1), (966, 1), (967, 1), (968, 1), (969, 1), (970, 1), (971, 1), (972, 1), (973, 1), (974, 2), (975, 1), (976, 1), (977, 1), (978, 1), (979, 1), (980, 1), (981, 1), (982, 1), (983, 1), (984, 1), (985, 1), (986, 1), (987, 1), (988, 1), (989, 1), (990, 1), (991, 1), (992, 1), (993, 2), (994, 1), (995, 1)], [(12, 1), (14, 1), (15, 1), (16, 2), (21, 1), (23, 1), (31, 1), (36, 1), (48, 1), (50, 1), (52, 4), (63, 8), (66, 2), (68, 1), (70, 1), (71, 2), (72, 1), (86, 1), (92, 3), (93, 3), (116, 1), (140, 1), (148, 1), (169, 1), (170, 3), (172, 1), (186, 1), (207, 2), (243, 1), (245, 2), (254, 1), (277, 1), (286, 1), (307, 2), (339, 1), (354, 1), (394, 2), (428, 1), (473, 1), (474, 1), (542, 3), (550, 1), (555, 1), (597, 1), (620, 1), (630, 1), (718, 1), (736, 1), (742, 1), (940, 1), (971, 1), (996, 1), (997, 1), (998, 1), (999, 1), (1000, 1), (1001, 2), (1002, 1), (1003, 1), (1004, 1), (1005, 1), (1006, 1), (1007, 1), (1008, 1), (1009, 1), (1010, 1), (1011, 1), (1012, 1), (1013, 1), (1014, 1), (1015, 1), (1016, 1), (1017, 1), (1018, 1), (1019, 2), (1020, 1), (1021, 1), (1022, 1), (1023, 1), (1024, 1), (1025, 1), (1026, 1), (1027, 1), (1028, 1), (1029, 1), (1030, 1), (1031, 1), (1032, 1), (1033, 1), (1034, 1), (1035, 1), (1036, 1), (1037, 1), (1038, 1), (1039, 1), (1040, 1), (1041, 1), (1042, 1), (1043, 1), (1044, 2)], [(12, 7), (14, 1), (16, 5), (20, 1), (21, 4), (31, 3), (33, 1), (36, 1), (52, 1), (63, 9), (65, 1), (66, 1), (71, 1), (84, 1), (92, 7), (101, 1), (112, 1), (114, 1), (116, 1), (136, 1), (139, 1), (148, 1), (158, 1), (167, 1), (170, 3), (211, 1), (228, 2), (244, 1), (247, 1), (250, 1), (327, 1), (368, 1), (377, 1), (397, 1), (405, 1), (412, 1), (440, 1), (446, 1), (473, 1), (474, 1), (491, 1), (519, 1), (605, 1), (632, 1), (642, 1), (686, 1), (736, 2), (777, 1), (808, 1), (811, 1), (836, 1), (921, 1), (933, 1), (989, 1), (1045, 1), (1046, 1), (1047, 1), (1048, 1), (1049, 1), (1050, 1), (1051, 1), (1052, 1), (1053, 1), (1054, 1), (1055, 1), (1056, 1), (1057, 2), (1058, 3), (1059, 1), (1060, 1), (1061, 1), (1062, 1), (1063, 1), (1064, 1), (1065, 1), (1066, 1), (1067, 1), (1068, 1), (1069, 1), (1070, 1), (1071, 1), (1072, 1), (1073, 1), (1074, 1), (1075, 1), (1076, 1), (1077, 1)], [(12, 2), (15, 1), (16, 2), (20, 1), (21, 3), (31, 1), (36, 1), (52, 1), (63, 3), (66, 2), (70, 1), (71, 2), (84, 1), (86, 1), (92, 2), (139, 1), (148, 1), (158, 1), (200, 2), (233, 1), (245, 1), (247, 1), (258, 1), (307, 1), (540, 1), (580, 1), (686, 1), (711, 1), (785, 1), (811, 1), (921, 1), (971, 1), (1039, 1), (1078, 1), (1079, 1), (1080, 1), (1081, 1), (1082, 1), (1083, 1), (1084, 1), (1085, 1), (1086, 2), (1087, 1), (1088, 1), (1089, 1), (1090, 1), (1091, 1), (1092, 1), (1093, 1), (1094, 1), (1095, 1), (1096, 1), (1097, 1), (1098, 1), (1099, 1), (1100, 1), (1101, 1)], [(12, 6), (16, 4), (20, 1), (21, 2), (28, 1), (31, 1), (33, 1), (36, 1), (48, 1), (49, 1), (62, 4), (63, 2), (65, 2), (66, 6), (68, 1), (71, 2), (72, 1), (80, 1), (92, 6), (112, 1), (130, 1), (139, 1), (140, 1), (143, 1), (165, 1), (170, 1), (173, 1), (174, 1), (200, 1), (203, 1), (216, 1), (226, 1), (245, 2), (314, 1), (334, 1), (354, 1), (356, 1), (388, 1), (446, 1), (464, 1), (505, 1), (566, 1), (707, 1), (716, 1), (742, 1), (811, 1), (836, 1), (905, 1), (921, 1), (989, 3), (1000, 1), (1017, 1), (1102, 1), (1103, 1), (1104, 2), (1105, 2), (1106, 1), (1107, 1), (1108, 1), (1109, 1), (1110, 1), (1111, 1), (1112, 1), (1113, 3), (1114, 1), (1115, 1), (1116, 1), (1117, 1), (1118, 1), (1119, 1), (1120, 1), (1121, 1), (1122, 1), (1123, 1), (1124, 1), (1125, 1), (1126, 1), (1127, 1), (1128, 1), (1129, 1)], [(12, 2), (14, 1), (16, 4), (19, 1), (21, 16), (23, 2), (31, 2), (32, 1), (36, 1), (48, 3), (49, 1), (50, 1), (62, 1), (63, 11), (65, 2), (66, 7), (68, 1), (71, 3), (80, 1), (84, 1), (86, 5), (92, 1), (93, 8), (101, 1), (114, 2), (130, 2), (139, 1), (140, 1), (142, 1), (148, 4), (155, 1), (158, 1), (159, 2), (167, 1), (169, 1), (170, 4), (172, 1), (186, 2), (191, 1), (192, 1), (203, 3), (207, 2), (209, 1), (216, 1), (228, 1), (229, 1), (233, 3), (234, 1), (235, 1), (247, 1), (289, 1), (291, 4), (308, 1), (328, 1), (334, 1), (356, 3), (389, 1), (394, 1), (446, 1), (493, 2), (499, 2), (501, 2), (505, 6), (519, 1), (572, 2), (658, 1), (687, 1), (723, 1), (728, 1), (760, 1), (787, 1), (829, 1), (836, 2), (846, 1), (860, 1), (892, 1), (895, 1), (913, 1), (936, 1), (940, 2), (958, 1), (1005, 1), (1059, 2), (1064, 1), (1088, 1), (1093, 1), (1125, 1), (1130, 1), (1131, 1), (1132, 1), (1133, 1), (1134, 1), (1135, 1), (1136, 1), (1137, 1), (1138, 1), (1139, 1), (1140, 1), (1141, 1), (1142, 1), (1143, 1), (1144, 1), (1145, 1), (1146, 1), (1147, 1), (1148, 1), (1149, 1), (1150, 1), (1151, 1), (1152, 1), (1153, 1), (1154, 1), (1155, 1), (1156, 1), (1157, 1), (1158, 1), (1159, 1), (1160, 1), (1161, 1), (1162, 1), (1163, 1), (1164, 1), (1165, 1), (1166, 1), (1167, 1), (1168, 1), (1169, 1), (1170, 1), (1171, 1), (1172, 1), (1173, 1), (1174, 1), (1175, 1), (1176, 1), (1177, 1), (1178, 1), (1179, 1), (1180, 1), (1181, 1), (1182, 1), (1183, 1), (1184, 2), (1185, 1), (1186, 1), (1187, 1), (1188, 1), (1189, 1), (1190, 1), (1191, 1), (1192, 1), (1193, 1), (1194, 1), (1195, 1), (1196, 1), (1197, 1), (1198, 1), (1199, 1), (1200, 1), (1201, 1), (1202, 1), (1203, 1), (1204, 1), (1205, 1), (1206, 1), (1207, 1), (1208, 1), (1209, 1), (1210, 1), (1211, 1)], [(12, 1), (16, 1), (31, 4), (40, 1), (52, 2), (62, 1), (63, 5), (66, 4), (69, 1), (70, 1), (71, 1), (91, 1), (92, 2), (112, 1), (130, 1), (140, 1), (148, 1), (170, 1), (186, 1), (207, 1), (216, 1), (229, 1), (233, 1), (234, 1), (247, 1), (286, 1), (302, 2), (303, 1), (307, 1), (394, 3), (397, 1), (459, 1), (505, 2), (558, 1), (572, 1), (605, 1), (822, 1), (849, 1), (940, 1), (1059, 1), (1063, 1), (1212, 1), (1213, 2), (1214, 1), (1215, 1), (1216, 1), (1217, 1), (1218, 1), (1219, 1), (1220, 1), (1221, 1), (1222, 1), (1223, 1), (1224, 1), (1225, 1), (1226, 1), (1227, 1), (1228, 1), (1229, 1), (1230, 1), (1231, 1), (1232, 1), (1233, 1), (1234, 1), (1235, 1), (1236, 1), (1237, 2), (1238, 1), (1239, 1), (1240, 1), (1241, 1)], [(12, 2), (14, 4), (16, 4), (19, 2), (21, 4), (31, 2), (33, 1), (36, 2), (40, 1), (50, 2), (52, 1), (63, 4), (66, 3), (68, 1), (71, 2), (84, 3), (86, 5), (93, 6), (102, 1), (112, 1), (139, 1), (140, 3), (165, 1), (167, 1), (170, 1), (191, 1), (192, 1), (211, 1), (224, 1), (226, 1), (244, 1), (246, 1), (286, 2), (305, 1), (307, 1), (327, 2), (354, 1), (356, 1), (441, 1), (446, 2), (466, 2), (474, 1), (493, 1), (505, 1), (520, 1), (572, 1), (778, 1), (860, 1), (971, 1), (1039, 1), (1193, 2), (1232, 1), (1242, 1), (1243, 1), (1244, 1), (1245, 1), (1246, 1), (1247, 1), (1248, 1), (1249, 1), (1250, 1), (1251, 1), (1252, 1), (1253, 1), (1254, 1), (1255, 1), (1256, 1), (1257, 1), (1258, 1), (1259, 2), (1260, 1), (1261, 1), (1262, 1), (1263, 1), (1264, 1), (1265, 1), (1266, 1), (1267, 1), (1268, 1), (1269, 1), (1270, 1), (1271, 1), (1272, 1), (1273, 1), (1274, 1), (1275, 2), (1276, 1), (1277, 1), (1278, 1), (1279, 1), (1280, 1), (1281, 2), (1282, 1), (1283, 1), (1284, 1), (1285, 1), (1286, 1), (1287, 1), (1288, 1), (1289, 1), (1290, 1), (1291, 1), (1292, 1), (1293, 1), (1294, 1)], [(12, 10), (13, 1), (16, 6), (20, 4), (21, 6), (23, 3), (30, 2), (31, 5), (32, 3), (33, 1), (36, 6), (37, 1), (40, 2), (48, 4), (49, 2), (51, 1), (52, 4), (62, 7), (63, 11), (64, 4), (65, 1), (66, 22), (69, 5), (70, 1), (71, 1), (72, 1), (80, 2), (84, 1), (86, 7), (92, 1), (93, 5), (101, 2), (112, 2), (116, 1), (118, 1), (126, 1), (130, 2), (138, 1), (139, 1), (140, 6), (143, 2), (146, 1), (148, 4), (158, 2), (162, 2), (170, 5), (172, 1), (174, 1), (186, 2), (190, 1), (192, 2), (203, 5), (208, 1), (210, 1), (211, 1), (216, 2), (224, 2), (228, 2), (229, 2), (243, 1), (245, 2), (249, 2), (327, 3), (348, 1), (349, 1), (354, 1), (355, 1), (362, 1), (371, 1), (388, 1), (393, 1), (394, 2), (425, 1), (428, 1), (437, 1), (442, 2), (446, 3), (454, 1), (466, 1), (471, 2), (473, 2), (474, 1), (491, 2), (499, 3), (503, 1), (504, 1), (505, 8), (512, 1), (523, 3), (531, 1), (542, 1), (593, 1), (619, 1), (620, 2), (646, 1), (678, 1), (682, 1), (687, 2), (690, 1), (698, 1), (725, 1), (751, 1), (754, 1), (766, 1), (769, 1), (777, 1), (784, 1), (820, 2), (837, 1), (858, 1), (894, 1), (921, 1), (938, 1), (940, 1), (950, 1), (958, 1), (968, 1), (972, 1), (978, 1), (986, 2), (995, 2), (1014, 2), (1017, 1), (1039, 3), (1065, 1), (1084, 1), (1098, 1), (1129, 1), (1184, 1), (1192, 2), (1199, 1), (1273, 1), (1295, 1), (1296, 1), (1297, 1), (1298, 3), (1299, 1), (1300, 1), (1301, 2), (1302, 1), (1303, 1), (1304, 1), (1305, 4), (1306, 1), (1307, 1), (1308, 1), (1309, 1), (1310, 1), (1311, 1), (1312, 1), (1313, 1), (1314, 1), (1315, 1), (1316, 2), (1317, 2), (1318, 1), (1319, 1), (1320, 1), (1321, 1), (1322, 1), (1323, 1), (1324, 2), (1325, 1), (1326, 1), (1327, 3), (1328, 1), (1329, 1), (1330, 1), (1331, 1), (1332, 1), (1333, 1), (1334, 1), (1335, 1), (1336, 1), (1337, 1), (1338, 1), (1339, 2), (1340, 1), (1341, 1), (1342, 1), (1343, 1), (1344, 1), (1345, 1), (1346, 1), (1347, 1), (1348, 1), (1349, 1), (1350, 1), (1351, 2), (1352, 1), (1353, 2), (1354, 1), (1355, 1), (1356, 1), (1357, 1), (1358, 1), (1359, 1), (1360, 1), (1361, 1), (1362, 2), (1363, 1), (1364, 1), (1365, 1), (1366, 1), (1367, 1), (1368, 1), (1369, 1), (1370, 1), (1371, 1), (1372, 1), (1373, 1), (1374, 1), (1375, 1), (1376, 1), (1377, 1), (1378, 1), (1379, 1), (1380, 1), (1381, 1), (1382, 1), (1383, 1), (1384, 1), (1385, 1), (1386, 1), (1387, 1), (1388, 1), (1389, 1), (1390, 1), (1391, 1), (1392, 1), (1393, 1), (1394, 1), (1395, 1), (1396, 1), (1397, 1), (1398, 1), (1399, 1), (1400, 1), (1401, 1), (1402, 1), (1403, 1), (1404, 1), (1405, 1), (1406, 1), (1407, 2), (1408, 1), (1409, 2), (1410, 2), (1411, 1), (1412, 1), (1413, 1), (1414, 1), (1415, 1), (1416, 1), (1417, 1), (1418, 1), (1419, 1), (1420, 1), (1421, 1), (1422, 1), (1423, 1), (1424, 1), (1425, 1), (1426, 1)], [(12, 1), (16, 1), (21, 3), (31, 1), (36, 3), (40, 1), (48, 1), (52, 1), (63, 3), (71, 1), (86, 3), (87, 1), (91, 1), (93, 3), (116, 2), (139, 2), (140, 1), (146, 1), (148, 1), (170, 2), (192, 1), (229, 1), (245, 1), (264, 1), (282, 1), (425, 1), (501, 1), (508, 1), (509, 1), (594, 1), (630, 1), (690, 2), (1129, 1), (1427, 1), (1428, 1), (1429, 1), (1430, 2), (1431, 1), (1432, 1), (1433, 1), (1434, 1), (1435, 1), (1436, 1), (1437, 1), (1438, 1), (1439, 2), (1440, 1), (1441, 1), (1442, 1), (1443, 1), (1444, 1), (1445, 1), (1446, 1), (1447, 1), (1448, 2), (1449, 1), (1450, 1), (1451, 1), (1452, 1), (1453, 1), (1454, 1), (1455, 1), (1456, 1), (1457, 1), (1458, 1)], [(14, 1), (16, 1), (21, 1), (33, 1), (52, 1), (63, 1), (80, 1), (151, 1), (169, 1), (233, 1), (251, 1), (308, 1), (893, 1), (1070, 1), (1235, 1), (1242, 1), (1459, 1), (1460, 1), (1461, 1), (1462, 1), (1463, 1), (1464, 1), (1465, 1), (1466, 1), (1467, 1), (1468, 2)], [(15, 1), (16, 3), (21, 4), (33, 1), (36, 1), (52, 2), (61, 1), (62, 1), (63, 5), (66, 3), (71, 1), (86, 2), (130, 1), (139, 1), (170, 3), (207, 1), (224, 1), (229, 2), (233, 1), (244, 1), (352, 1), (356, 2), (371, 1), (594, 1), (707, 1), (769, 1), (787, 1), (1068, 1), (1170, 1), (1193, 1), (1280, 1), (1369, 1), (1469, 1), (1470, 1), (1471, 1), (1472, 1), (1473, 1), (1474, 1), (1475, 1), (1476, 1), (1477, 1), (1478, 1), (1479, 1), (1480, 1), (1481, 1), (1482, 1), (1483, 1), (1484, 1), (1485, 1), (1486, 1), (1487, 1), (1488, 1), (1489, 1), (1490, 1), (1491, 1)], [(16, 1), (21, 1), (31, 2), (33, 1), (36, 1), (62, 1), (63, 2), (170, 1), (334, 1), (349, 1), (352, 1), (438, 1), (457, 1), (474, 1), (600, 1), (837, 1), (1281, 1), (1284, 1), (1492, 1), (1493, 1), (1494, 1), (1495, 1), (1496, 1), (1497, 1), (1498, 1), (1499, 1), (1500, 1), (1501, 1), (1502, 1), (1503, 1), (1504, 1), (1505, 1)], [(12, 1), (14, 1), (15, 1), (16, 3), (21, 2), (31, 1), (33, 1), (36, 1), (48, 1), (52, 1), (62, 1), (63, 2), (86, 1), (92, 2), (112, 2), (139, 2), (143, 1), (163, 1), (172, 1), (200, 1), (207, 1), (210, 1), (224, 1), (252, 1), (272, 1), (371, 1), (394, 1), (401, 1), (403, 1), (435, 1), (505, 1), (579, 2), (612, 1), (716, 1), (754, 1), (860, 1), (971, 1), (975, 1), (1188, 1), (1301, 2), (1506, 1), (1507, 1), (1508, 1), (1509, 1), (1510, 1), (1511, 1), (1512, 1), (1513, 1), (1514, 1), (1515, 1), (1516, 1), (1517, 1), (1518, 1), (1519, 1), (1520, 1), (1521, 1), (1522, 1), (1523, 1), (1524, 1), (1525, 1), (1526, 1), (1527, 1), (1528, 1), (1529, 1), (1530, 1), (1531, 1), (1532, 1), (1533, 2), (1534, 1)], [(0, 1), (14, 1), (16, 2), (21, 3), (23, 1), (32, 1), (33, 1), (36, 1), (50, 2), (62, 1), (63, 4), (66, 1), (86, 2), (115, 1), (143, 1), (170, 1), (192, 1), (218, 1), (244, 1), (339, 1), (420, 1), (421, 1), (426, 1), (497, 1), (505, 4), (556, 1), (594, 1), (721, 1), (837, 2), (894, 1), (934, 1), (942, 1), (1175, 1), (1179, 1), (1184, 2), (1199, 1), (1535, 1), (1536, 1), (1537, 1), (1538, 1), (1539, 1), (1540, 1), (1541, 1), (1542, 1), (1543, 1), (1544, 1), (1545, 1), (1546, 1), (1547, 1), (1548, 1), (1549, 1), (1550, 1), (1551, 1)], [(12, 1), (16, 2), (21, 1), (52, 1), (62, 1), (63, 1), (65, 1), (68, 2), (76, 1), (82, 1), (83, 2), (85, 1), (92, 2), (114, 1), (154, 1), (524, 1), (558, 1), (594, 1), (1000, 2), (1336, 1), (1552, 1), (1553, 1), (1554, 1), (1555, 1), (1556, 1), (1557, 1), (1558, 1), (1559, 1), (1560, 1), (1561, 1), (1562, 1)], [(12, 3), (14, 1), (16, 3), (19, 1), (21, 3), (31, 3), (32, 2), (36, 3), (37, 2), (48, 2), (63, 8), (65, 1), (66, 6), (69, 1), (71, 1), (80, 1), (86, 1), (92, 5), (93, 3), (106, 1), (112, 2), (116, 1), (140, 1), (143, 1), (146, 1), (148, 2), (159, 1), (170, 1), (192, 2), (203, 1), (216, 1), (222, 1), (227, 1), (235, 2), (244, 2), (249, 1), (272, 1), (286, 1), (305, 1), (307, 2), (314, 1), (334, 1), (350, 1), (354, 1), (394, 1), (421, 1), (428, 1), (435, 1), (441, 3), (473, 2), (501, 2), (505, 6), (533, 1), (542, 1), (551, 1), (658, 1), (716, 1), (718, 1), (723, 1), (836, 1), (837, 3), (921, 2), (932, 1), (936, 1), (1016, 1), (1028, 1), (1438, 1), (1453, 2), (1490, 1), (1525, 2), (1561, 1), (1563, 1), (1564, 1), (1565, 1), (1566, 1), (1567, 1), (1568, 1), (1569, 1), (1570, 1), (1571, 1), (1572, 1), (1573, 1), (1574, 2), (1575, 1), (1576, 1), (1577, 1), (1578, 1), (1579, 1), (1580, 1), (1581, 1), (1582, 2), (1583, 2), (1584, 1), (1585, 1), (1586, 2), (1587, 1), (1588, 1), (1589, 1), (1590, 1), (1591, 1), (1592, 1), (1593, 1), (1594, 1), (1595, 1), (1596, 1), (1597, 1), (1598, 1), (1599, 1), (1600, 1), (1601, 1), (1602, 1), (1603, 1), (1604, 1), (1605, 1), (1606, 1), (1607, 1), (1608, 1), (1609, 1), (1610, 1), (1611, 1), (1612, 2), (1613, 2), (1614, 2), (1615, 1), (1616, 1)], [(0, 2), (21, 2), (31, 1), (36, 1), (48, 1), (85, 1), (229, 1), (244, 1), (456, 1), (553, 1), (572, 1), (836, 1), (893, 1), (1617, 1), (1618, 1), (1619, 1), (1620, 1), (1621, 1), (1622, 1)], [(12, 4), (14, 4), (16, 5), (20, 1), (21, 12), (23, 1), (31, 3), (33, 1), (36, 1), (40, 2), (48, 1), (50, 1), (52, 2), (61, 1), (62, 3), (63, 17), (66, 8), (68, 1), (69, 1), (71, 2), (83, 1), (84, 1), (86, 5), (93, 3), (116, 2), (140, 3), (147, 1), (148, 3), (158, 1), (159, 1), (167, 1), (170, 4), (171, 1), (174, 1), (177, 1), (186, 2), (191, 1), (192, 3), (203, 2), (216, 1), (226, 1), (228, 1), (229, 3), (244, 3), (245, 1), (249, 2), (255, 1), (271, 1), (272, 1), (277, 1), (279, 1), (286, 1), (307, 1), (313, 2), (316, 1), (342, 1), (356, 1), (381, 2), (388, 1), (425, 3), (428, 1), (446, 1), (457, 1), (458, 2), (472, 2), (495, 1), (501, 1), (504, 1), (505, 5), (533, 1), (553, 2), (579, 1), (585, 1), (594, 1), (729, 1), (737, 1), (741, 1), (762, 1), (778, 4), (833, 1), (836, 1), (971, 1), (1070, 1), (1157, 1), (1163, 1), (1170, 1), (1175, 1), (1184, 4), (1221, 1), (1270, 1), (1343, 1), (1368, 1), (1503, 1), (1519, 1), (1623, 1), (1624, 1), (1625, 2), (1626, 1), (1627, 2), (1628, 1), (1629, 1), (1630, 1), (1631, 1), (1632, 1), (1633, 1), (1634, 1), (1635, 1), (1636, 1), (1637, 1), (1638, 1), (1639, 1), (1640, 1), (1641, 1), (1642, 1), (1643, 1), (1644, 1), (1645, 1), (1646, 1), (1647, 1), (1648, 1), (1649, 1), (1650, 1), (1651, 1), (1652, 1), (1653, 1), (1654, 1), (1655, 1), (1656, 1), (1657, 1), (1658, 1), (1659, 1), (1660, 1), (1661, 1), (1662, 1), (1663, 1), (1664, 1), (1665, 1), (1666, 1), (1667, 1), (1668, 1), (1669, 1), (1670, 1), (1671, 1), (1672, 1), (1673, 1), (1674, 1), (1675, 1), (1676, 1), (1677, 1), (1678, 1), (1679, 1), (1680, 1), (1681, 1), (1682, 2), (1683, 1), (1684, 1), (1685, 1), (1686, 1), (1687, 1), (1688, 1), (1689, 1), (1690, 1), (1691, 1), (1692, 1), (1693, 1), (1694, 1), (1695, 1), (1696, 1), (1697, 1), (1698, 1), (1699, 2), (1700, 2), (1701, 2), (1702, 1), (1703, 2), (1704, 2), (1705, 1), (1706, 1), (1707, 1), (1708, 1), (1709, 1), (1710, 1), (1711, 1), (1712, 1), (1713, 1), (1714, 1), (1715, 2), (1716, 1)], [(0, 5), (12, 1), (14, 1), (16, 2), (19, 1), (21, 3), (50, 1), (63, 2), (71, 1), (170, 1), (244, 2), (286, 1), (362, 1), (633, 1), (784, 1), (846, 1), (1152, 1), (1184, 1), (1273, 1), (1636, 1), (1681, 1), (1717, 1), (1718, 1), (1719, 1), (1720, 1), (1721, 1), (1722, 1), (1723, 1), (1724, 1), (1725, 1), (1726, 1), (1727, 1), (1728, 1), (1729, 1), (1730, 1), (1731, 1), (1732, 2)], [(0, 6), (14, 2), (15, 1), (16, 1), (19, 1), (20, 2), (21, 4), (48, 1), (63, 3), (71, 2), (86, 3), (92, 3), (148, 1), (151, 1), (170, 2), (233, 1), (243, 1), (368, 1), (407, 1), (466, 1), (556, 2), (921, 1), (971, 1), (1029, 1), (1526, 1), (1733, 1), (1734, 1), (1735, 1), (1736, 1), (1737, 2), (1738, 1), (1739, 1), (1740, 1), (1741, 1), (1742, 1), (1743, 1), (1744, 1), (1745, 1), (1746, 1), (1747, 1), (1748, 1), (1749, 1), (1750, 1), (1751, 1), (1752, 1), (1753, 1), (1754, 1), (1755, 1), (1756, 1), (1757, 1), (1758, 1)], [(0, 2), (12, 4), (14, 2), (15, 1), (16, 3), (21, 5), (31, 1), (62, 5), (63, 11), (66, 7), (70, 1), (71, 1), (77, 1), (84, 1), (86, 5), (92, 2), (112, 2), (118, 1), (140, 2), (143, 1), (155, 1), (158, 1), (170, 5), (172, 3), (186, 2), (200, 1), (207, 1), (209, 1), (215, 1), (218, 1), (228, 1), (229, 1), (243, 1), (244, 5), (249, 1), (272, 2), (342, 1), (355, 1), (381, 2), (386, 1), (430, 1), (435, 1), (455, 1), (471, 1), (505, 2), (542, 4), (681, 1), (690, 1), (725, 1), (778, 1), (808, 1), (822, 1), (921, 1), (989, 1), (1068, 1), (1157, 1), (1209, 1), (1273, 1), (1287, 1), (1301, 1), (1503, 1), (1625, 1), (1638, 1), (1746, 1), (1759, 1), (1760, 1), (1761, 3), (1762, 5), (1763, 1), (1764, 2), (1765, 1), (1766, 2), (1767, 1), (1768, 1), (1769, 1), (1770, 1), (1771, 1), (1772, 1), (1773, 1), (1774, 1), (1775, 1), (1776, 1), (1777, 1), (1778, 1), (1779, 1), (1780, 1), (1781, 1), (1782, 1), (1783, 1), (1784, 1), (1785, 1), (1786, 2), (1787, 1), (1788, 1), (1789, 1), (1790, 1), (1791, 1), (1792, 1), (1793, 1), (1794, 1), (1795, 1)], [(0, 4), (12, 9), (14, 1), (15, 1), (16, 3), (19, 1), (21, 7), (23, 1), (25, 3), (30, 1), (31, 3), (36, 1), (49, 1), (50, 1), (52, 1), (62, 1), (63, 6), (66, 3), (67, 1), (84, 1), (86, 3), (92, 1), (93, 1), (116, 1), (138, 1), (139, 1), (140, 2), (146, 1), (158, 1), (167, 1), (170, 4), (172, 1), (174, 1), (180, 1), (186, 1), (191, 1), (192, 2), (210, 1), (216, 2), (222, 1), (224, 3), (229, 1), (233, 1), (244, 1), (255, 1), (280, 1), (291, 3), (313, 1), (318, 2), (334, 1), (354, 1), (362, 1), (388, 1), (426, 1), (446, 1), (448, 1), (501, 1), (505, 1), (511, 1), (527, 1), (531, 1), (643, 1), (698, 1), (727, 1), (762, 1), (766, 1), (769, 1), (827, 1), (834, 1), (836, 1), (892, 1), (913, 1), (1161, 1), (1184, 1), (1193, 2), (1264, 1), (1270, 1), (1284, 1), (1420, 1), (1441, 1), (1526, 1), (1570, 1), (1602, 1), (1721, 1), (1746, 1), (1785, 1), (1789, 1), (1794, 1), (1796, 2), (1797, 1), (1798, 1), (1799, 1), (1800, 1), (1801, 1), (1802, 1), (1803, 1), (1804, 1), (1805, 1), (1806, 1), (1807, 1), (1808, 2), (1809, 1), (1810, 1), (1811, 1), (1812, 1), (1813, 1), (1814, 1), (1815, 1), (1816, 1), (1817, 1), (1818, 1), (1819, 2), (1820, 1), (1821, 1), (1822, 2), (1823, 1), (1824, 1), (1825, 1), (1826, 1), (1827, 2), (1828, 1), (1829, 1), (1830, 1), (1831, 1)], [(12, 4), (14, 2), (16, 1), (21, 3), (48, 5), (50, 1), (52, 1), (58, 1), (63, 2), (66, 1), (68, 1), (71, 1), (92, 1), (112, 1), (114, 1), (116, 1), (120, 2), (140, 1), (146, 2), (152, 1), (158, 1), (165, 1), (186, 1), (216, 1), (229, 2), (233, 1), (244, 2), (245, 1), (249, 1), (266, 1), (345, 1), (354, 1), (356, 1), (425, 1), (469, 2), (527, 1), (539, 1), (687, 1), (749, 2), (811, 1), (820, 1), (899, 1), (979, 1), (1056, 1), (1071, 1), (1127, 1), (1324, 1), (1789, 1), (1832, 1), (1833, 1), (1834, 2), (1835, 1), (1836, 1), (1837, 1), (1838, 1), (1839, 1), (1840, 1), (1841, 1), (1842, 1), (1843, 1), (1844, 1), (1845, 1), (1846, 1), (1847, 1), (1848, 1), (1849, 1), (1850, 1), (1851, 1), (1852, 1), (1853, 1)], [(14, 3), (16, 2), (20, 1), (21, 3), (31, 2), (36, 1), (63, 3), (68, 1), (71, 1), (86, 7), (93, 2), (116, 2), (170, 1), (192, 1), (200, 1), (229, 1), (245, 2), (272, 1), (308, 1), (362, 1), (421, 1), (425, 1), (430, 1), (474, 2), (505, 2), (594, 1), (820, 1), (1028, 1), (1032, 1), (1039, 1), (1055, 1), (1068, 1), (1127, 1), (1235, 1), (1298, 1), (1505, 1), (1592, 1), (1602, 1), (1677, 1), (1702, 1), (1854, 1), (1855, 1), (1856, 1), (1857, 1), (1858, 1), (1859, 1), (1860, 1), (1861, 1), (1862, 1), (1863, 1), (1864, 1), (1865, 1), (1866, 1), (1867, 1), (1868, 1), (1869, 1), (1870, 1), (1871, 1), (1872, 1), (1873, 1), (1874, 1), (1875, 1)], [(0, 14), (12, 5), (14, 1), (16, 6), (20, 2), (21, 5), (23, 1), (31, 2), (32, 4), (36, 3), (48, 5), (62, 1), (63, 7), (66, 4), (67, 1), (69, 1), (70, 1), (71, 3), (72, 1), (92, 2), (112, 1), (114, 1), (116, 1), (138, 1), (140, 2), (143, 2), (148, 2), (154, 1), (158, 3), (165, 1), (169, 1), (170, 1), (172, 1), (173, 1), (177, 1), (192, 1), (203, 1), (222, 1), (233, 2), (245, 1), (291, 1), (324, 1), (327, 1), (345, 1), (356, 1), (397, 1), (421, 1), (446, 1), (505, 3), (572, 1), (698, 1), (765, 1), (773, 1), (776, 1), (834, 1), (837, 1), (971, 3), (979, 1), (1046, 1), (1063, 1), (1079, 1), (1093, 1), (1163, 1), (1206, 1), (1294, 1), (1389, 1), (1471, 1), (1561, 1), (1796, 1), (1876, 1), (1877, 1), (1878, 2), (1879, 1), (1880, 1), (1881, 1), (1882, 1), (1883, 1), (1884, 1), (1885, 1), (1886, 1), (1887, 1), (1888, 1), (1889, 1), (1890, 1), (1891, 1), (1892, 1), (1893, 1), (1894, 1), (1895, 1), (1896, 1), (1897, 2), (1898, 1), (1899, 1), (1900, 1), (1901, 1), (1902, 1), (1903, 1), (1904, 1), (1905, 1), (1906, 1), (1907, 1), (1908, 1), (1909, 1), (1910, 1), (1911, 1), (1912, 1), (1913, 2), (1914, 1), (1915, 2), (1916, 1), (1917, 1), (1918, 1), (1919, 1), (1920, 1), (1921, 1), (1922, 3), (1923, 1), (1924, 1), (1925, 1), (1926, 1), (1927, 1), (1928, 1), (1929, 1), (1930, 1), (1931, 2), (1932, 1), (1933, 1), (1934, 1)], [(0, 1), (21, 4), (33, 1), (48, 1), (63, 3), (66, 1), (67, 1), (69, 1), (86, 1), (92, 1), (148, 1), (170, 2), (183, 2), (186, 1), (192, 1), (207, 2), (211, 1), (214, 1), (224, 1), (245, 1), (314, 1), (345, 1), (356, 1), (472, 1), (473, 1), (496, 1), (497, 1), (532, 1), (553, 1), (1028, 1), (1049, 1), (1129, 1), (1264, 1), (1554, 1), (1935, 1), (1936, 1), (1937, 1), (1938, 1), (1939, 1), (1940, 1), (1941, 1), (1942, 1), (1943, 1), (1944, 2), (1945, 1), (1946, 1), (1947, 1), (1948, 1), (1949, 1), (1950, 1), (1951, 1)], [(12, 3), (14, 1), (15, 1), (16, 8), (21, 1), (31, 1), (32, 2), (36, 5), (48, 1), (50, 1), (61, 1), (62, 5), (63, 7), (66, 2), (68, 1), (70, 1), (71, 2), (80, 1), (86, 7), (92, 2), (112, 2), (116, 1), (130, 1), (139, 1), (140, 2), (143, 2), (146, 1), (148, 3), (170, 5), (173, 1), (178, 1), (186, 1), (192, 1), (199, 1), (200, 1), (203, 1), (224, 1), (228, 1), (234, 1), (243, 1), (244, 1), (245, 5), (268, 1), (307, 1), (313, 2), (327, 1), (356, 2), (362, 2), (394, 2), (405, 1), (425, 1), (429, 1), (473, 1), (474, 2), (495, 2), (505, 3), (526, 1), (551, 1), (601, 1), (611, 1), (690, 1), (808, 1), (836, 1), (892, 1), (907, 1), (987, 1), (1011, 1), (1015, 1), (1022, 1), (1049, 1), (1129, 1), (1208, 1), (1209, 1), (1220, 4), (1225, 5), (1242, 1), (1270, 1), (1327, 1), (1371, 1), (1443, 1), (1493, 1), (1503, 1), (1602, 1), (1694, 1), (1785, 1), (1863, 1), (1918, 1), (1927, 1), (1952, 1), (1953, 1), (1954, 1), (1955, 1), (1956, 2), (1957, 1), (1958, 1), (1959, 1), (1960, 1), (1961, 1), (1962, 2), (1963, 1), (1964, 1), (1965, 1), (1966, 1), (1967, 1), (1968, 1), (1969, 1), (1970, 1), (1971, 1), (1972, 1), (1973, 1), (1974, 1), (1975, 1), (1976, 2), (1977, 1), (1978, 1), (1979, 1), (1980, 1), (1981, 1), (1982, 1), (1983, 1), (1984, 1), (1985, 1), (1986, 1)], [(0, 8), (12, 1), (14, 1), (15, 1), (16, 3), (21, 7), (23, 1), (36, 3), (43, 1), (50, 1), (62, 1), (63, 3), (65, 1), (66, 3), (68, 1), (71, 3), (92, 3), (101, 1), (116, 1), (139, 3), (155, 1), (165, 1), (170, 1), (172, 1), (192, 1), (199, 1), (203, 1), (207, 5), (220, 1), (228, 1), (233, 2), (249, 1), (313, 1), (354, 2), (362, 1), (371, 1), (394, 2), (405, 1), (428, 1), (440, 1), (446, 1), (455, 2), (497, 1), (658, 1), (718, 1), (820, 1), (822, 1), (837, 1), (854, 1), (904, 1), (933, 1), (971, 1), (1056, 2), (1063, 1), (1086, 1), (1107, 1), (1272, 1), (1279, 2), (1368, 1), (1829, 1), (1987, 1), (1988, 1), (1989, 1), (1990, 1), (1991, 1), (1992, 1), (1993, 1), (1994, 1), (1995, 1), (1996, 1), (1997, 1), (1998, 1), (1999, 1), (2000, 1), (2001, 1), (2002, 1), (2003, 1), (2004, 1), (2005, 1), (2006, 1), (2007, 1), (2008, 1), (2009, 1), (2010, 1), (2011, 1), (2012, 1), (2013, 1), (2014, 1), (2015, 1), (2016, 1), (2017, 1), (2018, 1), (2019, 1), (2020, 1), (2021, 1)], [(12, 3), (14, 2), (16, 3), (19, 1), (21, 8), (31, 2), (33, 2), (36, 1), (48, 2), (63, 2), (64, 1), (65, 1), (66, 2), (68, 1), (84, 1), (86, 1), (92, 1), (114, 1), (126, 1), (148, 1), (170, 1), (233, 1), (291, 1), (307, 1), (313, 1), (325, 1), (405, 1), (425, 1), (446, 1), (470, 1), (472, 1), (473, 1), (489, 1), (505, 1), (526, 1), (553, 2), (554, 1), (846, 1), (931, 1), (1058, 1), (1164, 1), (1167, 1), (1175, 1), (1360, 1), (1369, 1), (1841, 1), (2022, 1), (2023, 1), (2024, 1), (2025, 1), (2026, 1), (2027, 1), (2028, 1), (2029, 1), (2030, 1), (2031, 1), (2032, 1), (2033, 1), (2034, 1), (2035, 1), (2036, 1), (2037, 1), (2038, 1), (2039, 1), (2040, 1), (2041, 1), (2042, 1), (2043, 1), (2044, 1), (2045, 1), (2046, 1), (2047, 1), (2048, 1), (2049, 1), (2050, 1), (2051, 1), (2052, 1), (2053, 1), (2054, 1), (2055, 1), (2056, 1)], [(15, 1), (16, 2), (21, 1), (31, 1), (36, 2), (62, 1), (63, 2), (66, 1), (70, 1), (86, 1), (92, 2), (93, 5), (216, 1), (582, 1), (958, 1), (1015, 1), (1039, 1), (1046, 1), (1211, 1), (1820, 1), (2057, 1), (2058, 1), (2059, 1), (2060, 1), (2061, 1), (2062, 1), (2063, 1), (2064, 1), (2065, 1), (2066, 1), (2067, 1), (2068, 1), (2069, 1), (2070, 1), (2071, 1), (2072, 1)], [(0, 2), (3, 1), (12, 2), (16, 6), (21, 7), (23, 2), (30, 1), (31, 2), (36, 3), (40, 3), (48, 1), (49, 1), (50, 2), (52, 2), (63, 8), (66, 7), (68, 1), (69, 1), (70, 1), (71, 1), (80, 1), (84, 1), (86, 3), (92, 1), (93, 3), (116, 3), (138, 1), (143, 4), (148, 1), (158, 1), (170, 4), (173, 1), (186, 1), (191, 1), (192, 3), (200, 1), (203, 1), (211, 1), (224, 1), (228, 2), (233, 1), (244, 2), (245, 2), (272, 1), (286, 1), (291, 10), (303, 1), (307, 2), (313, 1), (316, 1), (318, 1), (388, 1), (425, 1), (446, 2), (455, 1), (458, 1), (473, 1), (474, 1), (526, 1), (542, 7), (554, 1), (646, 1), (649, 1), (762, 1), (769, 1), (772, 1), (836, 1), (873, 1), (921, 1), (971, 1), (997, 1), (1028, 2), (1030, 1), (1073, 1), (1172, 1), (1184, 1), (1192, 1), (1199, 1), (1209, 1), (1232, 1), (1374, 1), (1425, 1), (1444, 3), (1500, 1), (1505, 5), (1507, 1), (1533, 1), (1560, 2), (1690, 1), (1708, 1), (1814, 1), (1865, 1), (2017, 1), (2073, 1), (2074, 1), (2075, 1), (2076, 1), (2077, 1), (2078, 1), (2079, 1), (2080, 2), (2081, 1), (2082, 1), (2083, 1), (2084, 1), (2085, 1), (2086, 1), (2087, 1), (2088, 1), (2089, 1), (2090, 1), (2091, 1), (2092, 1), (2093, 1), (2094, 1), (2095, 1), (2096, 1), (2097, 1), (2098, 1), (2099, 1), (2100, 1), (2101, 1), (2102, 1), (2103, 1), (2104, 1), (2105, 1), (2106, 1), (2107, 1), (2108, 1), (2109, 1), (2110, 1), (2111, 1), (2112, 1), (2113, 1), (2114, 1), (2115, 1), (2116, 1), (2117, 1), (2118, 1), (2119, 1), (2120, 1), (2121, 1), (2122, 1), (2123, 2), (2124, 1), (2125, 1), (2126, 1), (2127, 2), (2128, 1), (2129, 1), (2130, 1), (2131, 1), (2132, 1), (2133, 1), (2134, 1), (2135, 1), (2136, 1), (2137, 1), (2138, 1), (2139, 1), (2140, 1), (2141, 1), (2142, 1), (2143, 1), (2144, 1), (2145, 1), (2146, 1), (2147, 1), (2148, 1), (2149, 1), (2150, 1), (2151, 1), (2152, 1), (2153, 1), (2154, 1), (2155, 1), (2156, 1), (2157, 1), (2158, 1), (2159, 2), (2160, 1), (2161, 1), (2162, 1), (2163, 1), (2164, 1), (2165, 1), (2166, 1)], [(0, 3), (14, 2), (15, 1), (16, 5), (21, 7), (23, 1), (31, 1), (36, 2), (40, 1), (42, 2), (48, 2), (50, 1), (63, 9), (66, 5), (71, 2), (86, 7), (93, 4), (112, 1), (140, 2), (170, 4), (172, 2), (186, 4), (200, 2), (211, 1), (216, 2), (218, 1), (226, 1), (228, 2), (229, 1), (235, 1), (244, 4), (245, 1), (252, 1), (291, 4), (305, 1), (319, 1), (327, 1), (349, 1), (356, 1), (397, 1), (418, 1), (421, 1), (425, 1), (426, 2), (446, 1), (474, 2), (493, 1), (501, 1), (505, 10), (526, 1), (542, 1), (553, 2), (559, 1), (571, 1), (579, 1), (601, 1), (633, 2), (747, 1), (820, 1), (837, 3), (852, 1), (940, 1), (968, 1), (1007, 3), (1034, 1), (1093, 1), (1129, 1), (1157, 1), (1201, 1), (1284, 1), (1486, 1), (1602, 1), (1676, 3), (1746, 1), (1785, 1), (1910, 1), (1987, 1), (2167, 1), (2168, 1), (2169, 4), (2170, 1), (2171, 1), (2172, 1), (2173, 1), (2174, 1), (2175, 1), (2176, 1), (2177, 1), (2178, 3), (2179, 1), (2180, 1), (2181, 1), (2182, 1), (2183, 1), (2184, 1), (2185, 1), (2186, 1), (2187, 1), (2188, 4), (2189, 2), (2190, 1), (2191, 2), (2192, 1), (2193, 1), (2194, 1), (2195, 1), (2196, 1), (2197, 1), (2198, 1), (2199, 4), (2200, 1), (2201, 1), (2202, 1), (2203, 1), (2204, 1), (2205, 1), (2206, 1), (2207, 1), (2208, 1), (2209, 1), (2210, 1), (2211, 1), (2212, 1), (2213, 1), (2214, 1), (2215, 1), (2216, 1), (2217, 2), (2218, 1), (2219, 1), (2220, 2), (2221, 1), (2222, 1), (2223, 1), (2224, 1), (2225, 1), (2226, 1)], [(66, 1), (154, 1), (286, 1), (306, 1), (667, 1), (810, 1), (1215, 1), (2154, 1), (2227, 1), (2228, 1), (2229, 1), (2230, 1), (2231, 1)], [(0, 4), (12, 4), (16, 2), (21, 7), (23, 1), (30, 1), (36, 1), (37, 1), (48, 2), (50, 1), (52, 2), (62, 1), (64, 1), (66, 3), (68, 1), (71, 2), (72, 1), (80, 1), (92, 2), (112, 1), (138, 1), (139, 2), (170, 1), (171, 1), (173, 1), (192, 1), (207, 1), (216, 1), (223, 1), (226, 1), (229, 1), (233, 1), (249, 1), (314, 1), (318, 1), (334, 1), (342, 1), (371, 2), (388, 1), (394, 1), (397, 1), (445, 1), (452, 1), (458, 1), (474, 1), (493, 1), (501, 1), (532, 1), (556, 1), (643, 1), (727, 1), (745, 1), (749, 1), (974, 1), (978, 1), (1082, 1), (1172, 1), (1184, 1), (1291, 1), (1327, 1), (1570, 1), (1709, 1), (2133, 1), (2232, 2), (2233, 3), (2234, 2), (2235, 1), (2236, 1), (2237, 1), (2238, 2), (2239, 1), (2240, 2), (2241, 1), (2242, 1), (2243, 2), (2244, 1), (2245, 1), (2246, 1), (2247, 1), (2248, 1), (2249, 1), (2250, 1), (2251, 1), (2252, 1), (2253, 1)], [(12, 2), (14, 3), (21, 3), (31, 1), (63, 2), (66, 1), (69, 1), (86, 2), (92, 1), (170, 1), (192, 1), (224, 1), (289, 1), (316, 1), (497, 1), (633, 1), (846, 1), (1264, 1), (1526, 1), (2007, 1), (2031, 1), (2254, 1), (2255, 1), (2256, 1), (2257, 1), (2258, 1), (2259, 1), (2260, 1), (2261, 1), (2262, 1)], [(0, 1), (16, 1), (21, 2), (36, 1), (63, 2), (66, 1), (84, 1), (86, 1), (112, 1), (143, 1), (170, 1), (186, 1), (207, 1), (394, 1), (428, 1), (505, 2), (594, 1), (725, 2), (836, 1), (940, 1), (968, 1), (1049, 1), (1079, 1), (1157, 1), (1218, 1), (1245, 1), (1524, 1), (2263, 1), (2264, 1), (2265, 1), (2266, 1), (2267, 1), (2268, 1), (2269, 1), (2270, 1), (2271, 1), (2272, 1), (2273, 1), (2274, 1), (2275, 1), (2276, 1), (2277, 1), (2278, 1), (2279, 1)], [(0, 15), (12, 3), (14, 2), (16, 4), (20, 1), (21, 7), (30, 1), (31, 3), (32, 1), (33, 1), (40, 2), (48, 1), (50, 2), (52, 6), (63, 20), (64, 1), (65, 1), (66, 6), (67, 1), (68, 2), (70, 2), (71, 2), (86, 3), (87, 1), (92, 4), (106, 2), (114, 1), (116, 1), (118, 1), (139, 1), (143, 1), (148, 1), (159, 1), (163, 1), (170, 10), (186, 2), (200, 1), (202, 1), (207, 3), (209, 1), (218, 1), (219, 1), (222, 1), (229, 2), (233, 1), (234, 1), (240, 4), (244, 1), (261, 1), (303, 1), (327, 1), (362, 1), (381, 1), (394, 4), (416, 1), (421, 1), (425, 1), (466, 1), (471, 1), (474, 1), (493, 1), (497, 1), (498, 1), (502, 1), (505, 2), (512, 1), (515, 1), (532, 1), (533, 1), (537, 1), (542, 6), (558, 1), (579, 1), (594, 1), (612, 2), (620, 2), (707, 1), (718, 1), (737, 1), (788, 1), (820, 1), (826, 1), (872, 1), (892, 1), (940, 1), (971, 1), (997, 1), (1039, 1), (1060, 1), (1063, 1), (1064, 1), (1076, 1), (1093, 1), (1170, 2), (1209, 2), (1215, 1), (1225, 1), (1376, 2), (1403, 1), (1506, 1), (1713, 1), (1714, 1), (1746, 1), (1808, 1), (1831, 1), (1872, 2), (2015, 1), (2031, 1), (2121, 1), (2146, 1), (2280, 1), (2281, 1), (2282, 1), (2283, 1), (2284, 1), (2285, 2), (2286, 1), (2287, 1), (2288, 1), (2289, 1), (2290, 1), (2291, 1), (2292, 1), (2293, 1), (2294, 2), (2295, 1), (2296, 1), (2297, 1), (2298, 1), (2299, 1), (2300, 1), (2301, 1), (2302, 1), (2303, 1), (2304, 1), (2305, 1), (2306, 1), (2307, 1), (2308, 1), (2309, 1), (2310, 1), (2311, 1), (2312, 1), (2313, 1), (2314, 1), (2315, 1), (2316, 1), (2317, 1), (2318, 1), (2319, 1), (2320, 1), (2321, 1), (2322, 1), (2323, 1), (2324, 1), (2325, 1), (2326, 1), (2327, 1), (2328, 1), (2329, 1), (2330, 1), (2331, 1), (2332, 1), (2333, 1), (2334, 1), (2335, 1), (2336, 1), (2337, 1), (2338, 1), (2339, 1), (2340, 1), (2341, 1), (2342, 1), (2343, 1), (2344, 1), (2345, 1), (2346, 1), (2347, 1), (2348, 1)], [(12, 3), (14, 4), (16, 7), (21, 4), (27, 1), (30, 2), (31, 5), (32, 1), (36, 2), (38, 1), (49, 1), (52, 3), (63, 10), (64, 1), (66, 5), (68, 1), (69, 1), (71, 2), (92, 7), (93, 4), (102, 1), (112, 1), (114, 1), (116, 3), (139, 1), (146, 1), (148, 1), (167, 1), (170, 1), (173, 1), (178, 1), (191, 1), (192, 1), (207, 3), (224, 2), (225, 1), (233, 2), (250, 1), (258, 1), (277, 1), (302, 1), (327, 3), (334, 1), (375, 1), (388, 2), (389, 1), (394, 3), (412, 1), (444, 1), (470, 2), (473, 1), (566, 1), (593, 1), (597, 1), (626, 1), (639, 1), (645, 2), (698, 2), (700, 1), (723, 1), (725, 1), (736, 1), (820, 1), (957, 1), (987, 2), (1041, 1), (1089, 1), (1114, 1), (1129, 1), (1224, 1), (1248, 2), (1482, 1), (1484, 1), (1507, 1), (1647, 1), (1843, 1), (1895, 1), (1928, 1), (1929, 1), (2060, 1), (2135, 1), (2142, 1), (2239, 1), (2349, 2), (2350, 1), (2351, 1), (2352, 1), (2353, 1), (2354, 1), (2355, 1), (2356, 1), (2357, 1), (2358, 1), (2359, 1), (2360, 1), (2361, 1), (2362, 1), (2363, 1), (2364, 1), (2365, 1), (2366, 1), (2367, 1), (2368, 1), (2369, 2), (2370, 3), (2371, 1), (2372, 1), (2373, 1), (2374, 1), (2375, 1), (2376, 1), (2377, 1), (2378, 1), (2379, 1), (2380, 1), (2381, 1), (2382, 1), (2383, 1), (2384, 1), (2385, 1), (2386, 1), (2387, 2), (2388, 2), (2389, 1), (2390, 1), (2391, 1), (2392, 1), (2393, 1), (2394, 1), (2395, 1), (2396, 1), (2397, 1), (2398, 1), (2399, 1), (2400, 1), (2401, 1), (2402, 1)], [(16, 3), (21, 1), (31, 2), (52, 1), (63, 3), (66, 3), (87, 1), (106, 1), (130, 1), (139, 1), (155, 1), (170, 1), (186, 1), (203, 1), (356, 2), (371, 1), (429, 2), (642, 1), (741, 1), (771, 1), (834, 1), (871, 1), (1493, 1), (1544, 1), (1734, 1), (1785, 1), (1815, 1), (1833, 1), (2403, 1), (2404, 1), (2405, 1), (2406, 1), (2407, 1), (2408, 1), (2409, 1), (2410, 1), (2411, 1), (2412, 1)], [(0, 9), (12, 5), (14, 4), (16, 5), (20, 2), (21, 7), (23, 1), (31, 1), (36, 1), (48, 3), (50, 1), (52, 2), (62, 3), (63, 6), (66, 4), (84, 1), (86, 1), (92, 5), (100, 2), (102, 1), (112, 1), (114, 1), (118, 1), (125, 1), (130, 1), (139, 1), (140, 2), (148, 1), (155, 1), (170, 1), (172, 1), (186, 3), (200, 1), (207, 2), (229, 2), (233, 2), (245, 1), (254, 1), (259, 1), (307, 1), (318, 1), (345, 1), (354, 1), (355, 1), (356, 3), (388, 1), (389, 1), (394, 2), (440, 1), (446, 1), (473, 1), (474, 1), (530, 1), (556, 1), (559, 1), (611, 1), (639, 1), (670, 1), (704, 1), (749, 1), (967, 2), (1004, 1), (1015, 1), (1016, 1), (1063, 1), (1088, 1), (1387, 1), (1454, 1), (1490, 1), (1548, 1), (1561, 1), (1789, 1), (1806, 1), (1821, 1), (1843, 1), (1939, 1), (1987, 1), (1988, 1), (2010, 1), (2020, 1), (2146, 1), (2413, 1), (2414, 1), (2415, 2), (2416, 1), (2417, 1), (2418, 1), (2419, 1), (2420, 1), (2421, 2), (2422, 1), (2423, 1), (2424, 1), (2425, 2), (2426, 1), (2427, 1), (2428, 1), (2429, 1), (2430, 1), (2431, 2), (2432, 1), (2433, 1), (2434, 1), (2435, 2), (2436, 1), (2437, 1), (2438, 1), (2439, 1), (2440, 1), (2441, 1), (2442, 1), (2443, 1), (2444, 1), (2445, 1), (2446, 1), (2447, 1), (2448, 1), (2449, 1), (2450, 1), (2451, 1), (2452, 1), (2453, 1), (2454, 1), (2455, 1)], [(0, 1), (3, 1), (12, 1), (14, 2), (16, 2), (21, 5), (36, 2), (63, 6), (71, 1), (83, 1), (87, 1), (92, 4), (93, 3), (116, 1), (139, 1), (142, 1), (148, 3), (170, 1), (172, 1), (192, 1), (207, 1), (233, 3), (240, 1), (245, 1), (307, 2), (311, 1), (327, 1), (470, 1), (632, 1), (836, 1), (846, 1), (1028, 1), (1064, 1), (1070, 1), (1209, 1), (1454, 1), (1729, 1), (1771, 1), (1908, 1), (2155, 1), (2161, 1), (2299, 2), (2339, 1), (2456, 1), (2457, 1), (2458, 1), (2459, 1), (2460, 1), (2461, 1), (2462, 1), (2463, 1), (2464, 1), (2465, 1), (2466, 1), (2467, 1), (2468, 2), (2469, 1), (2470, 1), (2471, 1), (2472, 1), (2473, 1), (2474, 2), (2475, 1), (2476, 1), (2477, 1), (2478, 2), (2479, 1), (2480, 1), (2481, 1), (2482, 1)], [(12, 3), (14, 1), (16, 1), (21, 3), (31, 2), (40, 1), (48, 1), (62, 1), (63, 3), (65, 1), (66, 2), (80, 1), (84, 1), (86, 1), (92, 1), (118, 1), (148, 1), (162, 1), (192, 1), (216, 1), (224, 1), (229, 1), (245, 2), (272, 1), (307, 1), (313, 1), (318, 1), (471, 1), (499, 1), (512, 1), (572, 1), (582, 2), (611, 2), (612, 1), (678, 1), (834, 1), (977, 1), (997, 1), (1055, 1), (1129, 1), (1233, 1), (1605, 1), (1672, 1), (1993, 1), (2382, 1), (2483, 1), (2484, 1), (2485, 1), (2486, 1), (2487, 1), (2488, 1), (2489, 1), (2490, 1), (2491, 1), (2492, 1), (2493, 1), (2494, 1), (2495, 1)], [(0, 6), (12, 13), (14, 2), (16, 8), (19, 1), (21, 11), (23, 1), (27, 1), (31, 5), (36, 4), (40, 1), (44, 1), (49, 1), (50, 3), (52, 3), (62, 10), (63, 6), (64, 1), (66, 4), (70, 2), (71, 2), (72, 1), (74, 1), (92, 4), (102, 2), (112, 1), (114, 1), (116, 1), (139, 3), (140, 3), (158, 1), (159, 1), (163, 1), (165, 3), (170, 6), (171, 1), (174, 1), (191, 1), (192, 3), (200, 1), (209, 1), (229, 4), (233, 9), (245, 3), (260, 1), (303, 1), (313, 1), (318, 1), (325, 1), (327, 1), (334, 2), (345, 1), (362, 1), (377, 1), (388, 1), (401, 2), (425, 1), (426, 1), (428, 1), (438, 1), (446, 1), (457, 1), (493, 1), (494, 1), (529, 1), (535, 1), (553, 2), (605, 1), (643, 1), (681, 1), (694, 1), (710, 1), (727, 1), (736, 1), (820, 1), (837, 1), (922, 1), (978, 1), (979, 1), (989, 1), (1028, 1), (1065, 1), (1211, 1), (1268, 1), (1284, 1), (1371, 1), (1443, 1), (1444, 6), (1456, 4), (1498, 1), (1549, 1), (1676, 3), (1708, 1), (1729, 1), (1789, 1), (1819, 1), (1865, 1), (1944, 1), (2051, 2), (2139, 1), (2163, 1), (2276, 1), (2496, 1), (2497, 1), (2498, 1), (2499, 1), (2500, 1), (2501, 1), (2502, 1), (2503, 1), (2504, 1), (2505, 1), (2506, 1), (2507, 1), (2508, 1), (2509, 1), (2510, 1), (2511, 1), (2512, 1), (2513, 1), (2514, 1), (2515, 1), (2516, 1), (2517, 2), (2518, 1), (2519, 1), (2520, 1), (2521, 1), (2522, 1), (2523, 1), (2524, 1), (2525, 1), (2526, 1), (2527, 1), (2528, 1), (2529, 1), (2530, 1), (2531, 1), (2532, 1), (2533, 2), (2534, 1), (2535, 1), (2536, 1), (2537, 1), (2538, 1), (2539, 2), (2540, 1), (2541, 1), (2542, 2), (2543, 2), (2544, 1), (2545, 1), (2546, 1), (2547, 1), (2548, 3), (2549, 1), (2550, 1), (2551, 1), (2552, 1), (2553, 1), (2554, 1), (2555, 1), (2556, 1), (2557, 1), (2558, 1), (2559, 1), (2560, 1), (2561, 1), (2562, 1), (2563, 1), (2564, 1), (2565, 1), (2566, 1), (2567, 1), (2568, 1), (2569, 2)], [(0, 5), (36, 1), (63, 1), (146, 1), (170, 1), (172, 1), (349, 1), (457, 1), (971, 1), (989, 1), (1192, 1), (1225, 1), (1438, 1), (1650, 1), (1982, 1), (2278, 1), (2570, 1), (2571, 1), (2572, 1), (2573, 1), (2574, 1), (2575, 1)], [(12, 7), (14, 5), (15, 1), (16, 1), (19, 1), (20, 1), (21, 3), (31, 4), (33, 2), (40, 1), (44, 1), (49, 1), (50, 1), (52, 1), (62, 2), (63, 11), (64, 5), (65, 2), (66, 3), (69, 1), (70, 1), (71, 4), (84, 2), (86, 2), (92, 2), (93, 3), (140, 1), (142, 3), (155, 1), (158, 1), (169, 1), (170, 3), (174, 1), (192, 1), (224, 1), (229, 1), (233, 2), (244, 1), (249, 1), (266, 1), (282, 2), (327, 1), (335, 1), (339, 1), (349, 1), (354, 1), (377, 1), (388, 1), (404, 1), (412, 1), (425, 1), (446, 1), (448, 1), (494, 1), (497, 1), (510, 1), (511, 1), (532, 2), (553, 1), (556, 2), (559, 1), (611, 1), (612, 1), (820, 1), (967, 1), (971, 1), (1064, 2), (1070, 1), (1157, 1), (1184, 2), (1209, 1), (1218, 2), (1223, 1), (1264, 1), (1273, 2), (1290, 1), (1353, 1), (1369, 1), (1371, 2), (1464, 1), (1533, 1), (1562, 1), (1637, 1), (1651, 1), (1693, 3), (1702, 1), (1714, 3), (1944, 1), (2161, 1), (2306, 1), (2442, 1), (2493, 1), (2576, 1), (2577, 4), (2578, 1), (2579, 1), (2580, 1), (2581, 1), (2582, 1), (2583, 1), (2584, 1), (2585, 1), (2586, 1), (2587, 2), (2588, 1), (2589, 1), (2590, 1), (2591, 1), (2592, 1), (2593, 1), (2594, 1), (2595, 1), (2596, 1), (2597, 1), (2598, 1), (2599, 1), (2600, 1), (2601, 1), (2602, 1), (2603, 1), (2604, 1), (2605, 1), (2606, 1), (2607, 1), (2608, 1), (2609, 1), (2610, 1), (2611, 1), (2612, 1), (2613, 1), (2614, 1), (2615, 1), (2616, 1), (2617, 1), (2618, 1), (2619, 1), (2620, 1), (2621, 1), (2622, 1), (2623, 1), (2624, 1), (2625, 1), (2626, 1), (2627, 1), (2628, 1), (2629, 2), (2630, 1), (2631, 1), (2632, 1), (2633, 1), (2634, 1), (2635, 1), (2636, 1), (2637, 1), (2638, 1), (2639, 1)], [(12, 1), (14, 1), (21, 3), (30, 2), (52, 1), (58, 1), (63, 7), (66, 3), (68, 2), (72, 1), (84, 1), (86, 1), (87, 1), (92, 4), (139, 1), (140, 1), (148, 1), (155, 1), (159, 1), (170, 1), (174, 1), (186, 1), (191, 1), (207, 1), (216, 1), (228, 1), (235, 1), (308, 1), (314, 1), (318, 1), (327, 2), (356, 1), (389, 1), (394, 2), (446, 1), (558, 1), (594, 3), (858, 1), (871, 2), (913, 1), (1000, 1), (1028, 1), (1082, 1), (1107, 1), (1835, 1), (2053, 1), (2227, 1), (2231, 2), (2261, 1), (2640, 1), (2641, 1), (2642, 1), (2643, 1), (2644, 1), (2645, 1), (2646, 1), (2647, 1), (2648, 1), (2649, 3), (2650, 1), (2651, 1), (2652, 1), (2653, 1), (2654, 1)], [(12, 5), (14, 1), (16, 6), (19, 2), (21, 8), (31, 1), (32, 1), (36, 2), (40, 2), (48, 3), (50, 1), (52, 2), (62, 1), (63, 6), (66, 5), (71, 1), (80, 1), (84, 1), (92, 1), (93, 1), (101, 2), (114, 1), (116, 1), (118, 1), (138, 1), (139, 1), (143, 2), (148, 1), (158, 2), (159, 1), (162, 1), (170, 3), (172, 2), (191, 1), (192, 1), (203, 1), (220, 1), (244, 1), (303, 1), (318, 2), (355, 1), (356, 1), (370, 1), (377, 2), (401, 1), (429, 1), (448, 1), (473, 1), (474, 1), (494, 1), (495, 1), (498, 1), (505, 4), (526, 1), (532, 1), (553, 1), (554, 1), (556, 1), (634, 1), (741, 1), (765, 1), (802, 1), (807, 1), (810, 1), (854, 1), (872, 1), (892, 2), (922, 1), (934, 1), (936, 1), (940, 1), (979, 1), (1077, 1), (1152, 1), (1172, 1), (1175, 2), (1178, 1), (1211, 1), (1270, 1), (1377, 2), (1420, 1), (1441, 1), (1505, 2), (1570, 1), (1628, 1), (1663, 1), (2188, 1), (2232, 1), (2339, 1), (2655, 1), (2656, 1), (2657, 1), (2658, 1), (2659, 1), (2660, 2), (2661, 1), (2662, 1), (2663, 1), (2664, 1), (2665, 1), (2666, 1), (2667, 1), (2668, 1), (2669, 1), (2670, 1), (2671, 1), (2672, 1), (2673, 1), (2674, 1), (2675, 1), (2676, 1), (2677, 1), (2678, 1), (2679, 1), (2680, 1), (2681, 1), (2682, 1), (2683, 1), (2684, 1), (2685, 1), (2686, 1), (2687, 1), (2688, 1), (2689, 1), (2690, 1), (2691, 1), (2692, 1), (2693, 1), (2694, 1), (2695, 1), (2696, 1), (2697, 1), (2698, 1), (2699, 1), (2700, 1), (2701, 1), (2702, 1), (2703, 1), (2704, 1), (2705, 1), (2706, 1), (2707, 1), (2708, 1), (2709, 1), (2710, 1), (2711, 1), (2712, 1), (2713, 1), (2714, 1), (2715, 1), (2716, 1)], [(14, 1), (21, 1), (36, 2), (63, 1), (68, 1), (92, 2), (155, 1), (245, 1), (307, 1), (389, 2), (394, 1), (401, 1), (539, 1), (684, 1), (836, 2), (846, 1), (899, 2), (906, 1), (1003, 1), (1050, 1), (1175, 1), (1476, 1), (1843, 1), (1894, 1), (1910, 1), (1927, 1), (1951, 1), (2717, 1), (2718, 1), (2719, 1), (2720, 1), (2721, 1)], [(0, 6), (16, 4), (21, 5), (31, 3), (36, 4), (48, 2), (50, 1), (52, 1), (62, 1), (63, 9), (66, 4), (71, 3), (84, 1), (86, 3), (92, 6), (93, 3), (101, 1), (116, 1), (138, 1), (139, 3), (148, 6), (155, 1), (167, 1), (170, 5), (186, 1), (191, 1), (192, 1), (200, 2), (203, 1), (207, 1), (222, 1), (224, 2), (229, 2), (244, 1), (245, 2), (249, 1), (255, 1), (272, 2), (291, 9), (307, 2), (313, 1), (318, 1), (334, 1), (339, 1), (356, 1), (394, 1), (430, 1), (446, 1), (493, 1), (510, 1), (542, 6), (566, 1), (579, 1), (584, 1), (594, 1), (662, 1), (698, 1), (725, 1), (776, 1), (842, 1), (849, 1), (892, 1), (911, 1), (932, 1), (936, 1), (940, 1), (1032, 1), (1049, 1), (1055, 1), (1107, 1), (1223, 1), (1292, 1), (1307, 2), (1377, 1), (1420, 1), (1456, 1), (1457, 1), (1463, 1), (1471, 1), (1480, 1), (1482, 1), (1546, 1), (1709, 1), (1876, 1), (1975, 1), (2013, 2), (2231, 1), (2241, 1), (2339, 1), (2432, 1), (2446, 1), (2492, 1), (2722, 1), (2723, 1), (2724, 1), (2725, 2), (2726, 1), (2727, 1), (2728, 1), (2729, 1), (2730, 1), (2731, 1), (2732, 1), (2733, 1), (2734, 1), (2735, 1), (2736, 1), (2737, 1), (2738, 1), (2739, 1), (2740, 1), (2741, 1), (2742, 1), (2743, 1), (2744, 1), (2745, 1), (2746, 1), (2747, 1), (2748, 1), (2749, 1), (2750, 1), (2751, 1), (2752, 2), (2753, 2), (2754, 1), (2755, 1), (2756, 1), (2757, 1), (2758, 2), (2759, 1), (2760, 1), (2761, 1), (2762, 1), (2763, 1), (2764, 1), (2765, 1), (2766, 1), (2767, 1), (2768, 2), (2769, 1), (2770, 1), (2771, 1), (2772, 1), (2773, 1)], [(12, 4), (14, 5), (15, 1), (16, 2), (19, 2), (21, 7), (31, 1), (36, 2), (48, 1), (52, 1), (62, 1), (63, 13), (66, 4), (68, 2), (71, 1), (72, 1), (76, 1), (82, 1), (86, 2), (92, 11), (93, 6), (102, 1), (112, 1), (138, 1), (139, 1), (140, 2), (143, 1), (148, 7), (167, 2), (170, 3), (172, 1), (199, 1), (200, 1), (207, 2), (210, 1), (216, 1), (218, 1), (226, 1), (233, 2), (245, 1), (259, 2), (266, 1), (286, 3), (307, 1), (318, 1), (327, 1), (362, 1), (371, 1), (394, 1), (401, 1), (428, 3), (440, 1), (446, 1), (450, 1), (466, 1), (473, 1), (532, 1), (537, 1), (542, 3), (566, 1), (611, 1), (626, 1), (669, 1), (687, 1), (808, 1), (834, 1), (836, 1), (899, 1), (960, 1), (971, 1), (1034, 1), (1046, 1), (1179, 1), (1191, 1), (1199, 2), (1223, 1), (1389, 2), (1546, 1), (1602, 1), (1676, 1), (1732, 2), (1913, 1), (1951, 1), (1994, 1), (1998, 1), (2060, 1), (2151, 3), (2231, 1), (2469, 5), (2603, 1), (2608, 1), (2766, 1), (2774, 2), (2775, 1), (2776, 1), (2777, 1), (2778, 1), (2779, 1), (2780, 1), (2781, 1), (2782, 1), (2783, 1), (2784, 1), (2785, 1), (2786, 1), (2787, 1), (2788, 1), (2789, 2), (2790, 1), (2791, 1), (2792, 1), (2793, 1), (2794, 1), (2795, 1), (2796, 1), (2797, 1), (2798, 1), (2799, 3), (2800, 1), (2801, 1), (2802, 1), (2803, 1), (2804, 1), (2805, 1), (2806, 1), (2807, 1), (2808, 1), (2809, 1), (2810, 1), (2811, 1), (2812, 1), (2813, 1), (2814, 1), (2815, 1), (2816, 1), (2817, 1), (2818, 1), (2819, 1), (2820, 1), (2821, 2), (2822, 1), (2823, 1), (2824, 1), (2825, 1), (2826, 1), (2827, 1)], [(0, 2), (12, 3), (15, 1), (16, 5), (19, 1), (21, 7), (31, 1), (32, 1), (36, 1), (40, 1), (52, 3), (62, 2), (63, 5), (64, 4), (66, 2), (70, 1), (71, 1), (80, 1), (84, 1), (86, 3), (87, 1), (93, 2), (114, 1), (116, 1), (140, 3), (148, 2), (162, 1), (170, 2), (172, 1), (184, 1), (192, 1), (200, 1), (203, 1), (207, 1), (209, 1), (224, 1), (229, 4), (233, 1), (258, 1), (272, 1), (308, 1), (317, 2), (349, 1), (371, 1), (421, 1), (425, 2), (428, 1), (486, 1), (492, 1), (498, 1), (505, 1), (523, 2), (526, 1), (551, 1), (579, 1), (591, 1), (600, 1), (605, 1), (612, 1), (619, 2), (728, 1), (787, 1), (837, 1), (928, 1), (940, 1), (967, 1), (971, 1), (1028, 1), (1039, 1), (1118, 1), (1193, 1), (1290, 1), (1403, 1), (1444, 1), (1464, 1), (1894, 1), (1938, 1), (1996, 1), (2039, 1), (2406, 1), (2680, 1), (2815, 1), (2828, 1), (2829, 1), (2830, 1), (2831, 1), (2832, 1), (2833, 1), (2834, 1), (2835, 1), (2836, 1), (2837, 1), (2838, 1), (2839, 1), (2840, 1), (2841, 1), (2842, 1), (2843, 1), (2844, 1), (2845, 1), (2846, 1), (2847, 1), (2848, 1), (2849, 1), (2850, 1), (2851, 1), (2852, 1), (2853, 1), (2854, 1), (2855, 1), (2856, 1), (2857, 1), (2858, 1), (2859, 1), (2860, 1)], [(12, 1), (16, 3), (20, 1), (21, 3), (31, 3), (32, 1), (36, 1), (37, 1), (48, 3), (52, 1), (63, 2), (64, 1), (66, 3), (148, 2), (154, 1), (158, 3), (170, 1), (186, 1), (215, 1), (226, 1), (229, 1), (291, 1), (314, 1), (388, 1), (425, 1), (446, 1), (493, 2), (505, 1), (515, 1), (556, 1), (643, 1), (800, 1), (958, 1), (967, 1), (1116, 1), (1474, 1), (1480, 1), (1535, 1), (2169, 1), (2231, 1), (2238, 1), (2847, 1), (2861, 1), (2862, 1), (2863, 1), (2864, 1), (2865, 1), (2866, 1), (2867, 1), (2868, 1), (2869, 1), (2870, 1), (2871, 1), (2872, 1), (2873, 2), (2874, 1), (2875, 1), (2876, 1), (2877, 1), (2878, 1), (2879, 1), (2880, 1), (2881, 1), (2882, 1), (2883, 1), (2884, 2)], [(12, 1), (14, 1), (16, 5), (21, 4), (50, 1), (52, 1), (62, 1), (63, 3), (66, 2), (86, 2), (91, 1), (93, 2), (116, 1), (138, 1), (139, 1), (140, 1), (143, 1), (148, 1), (170, 1), (224, 1), (250, 2), (264, 1), (304, 1), (488, 1), (499, 1), (505, 1), (542, 1), (580, 1), (613, 1), (624, 2), (911, 1), (922, 1), (1034, 1), (1035, 1), (1093, 1), (1195, 1), (1209, 1), (1220, 1), (1225, 2), (1273, 2), (1284, 1), (1464, 2), (1627, 1), (1651, 1), (1969, 3), (2006, 1), (2097, 2), (2110, 1), (2367, 1), (2506, 1), (2637, 2), (2885, 1), (2886, 1), (2887, 1), (2888, 1), (2889, 1), (2890, 1), (2891, 1), (2892, 1), (2893, 1), (2894, 1), (2895, 2), (2896, 1), (2897, 1), (2898, 1), (2899, 1), (2900, 1), (2901, 1), (2902, 1), (2903, 1), (2904, 1)], [(0, 1), (12, 2), (14, 1), (31, 1), (62, 1), (63, 2), (66, 1), (68, 1), (70, 1), (71, 1), (86, 2), (140, 1), (244, 1), (245, 2), (593, 1), (715, 1), (1070, 1), (1129, 1), (1211, 1), (1381, 1), (2051, 1), (2905, 1), (2906, 1), (2907, 1), (2908, 1), (2909, 1), (2910, 1), (2911, 1), (2912, 1), (2913, 1), (2914, 1), (2915, 1), (2916, 1)], [(12, 1), (14, 1), (16, 1), (21, 3), (23, 1), (24, 1), (48, 1), (61, 1), (63, 6), (71, 1), (92, 5), (116, 1), (139, 2), (155, 1), (170, 2), (172, 1), (192, 1), (233, 1), (243, 1), (303, 1), (327, 1), (371, 1), (394, 1), (410, 1), (474, 1), (511, 1), (532, 1), (594, 1), (836, 1), (932, 1), (1454, 1), (2615, 1), (2750, 1), (2917, 1), (2918, 1), (2919, 1), (2920, 2), (2921, 1), (2922, 1), (2923, 1), (2924, 1), (2925, 1), (2926, 1), (2927, 1), (2928, 1), (2929, 1), (2930, 1), (2931, 1), (2932, 1), (2933, 1), (2934, 1), (2935, 1), (2936, 1)], [(12, 1), (14, 3), (16, 1), (21, 5), (34, 1), (48, 1), (50, 1), (62, 2), (63, 5), (64, 2), (65, 2), (66, 3), (68, 2), (71, 3), (72, 1), (86, 2), (93, 1), (118, 1), (140, 1), (148, 1), (158, 2), (170, 1), (186, 1), (192, 1), (207, 1), (228, 1), (244, 2), (252, 1), (305, 1), (371, 4), (389, 1), (394, 2), (420, 1), (425, 2), (446, 4), (489, 1), (493, 2), (505, 1), (553, 1), (643, 1), (686, 1), (728, 1), (749, 1), (769, 2), (808, 1), (928, 1), (968, 1), (974, 1), (978, 1), (1100, 1), (1101, 1), (1122, 1), (1284, 2), (1291, 2), (1366, 1), (1528, 1), (1684, 1), (1927, 1), (2108, 1), (2214, 1), (2316, 1), (2334, 1), (2345, 1), (2377, 1), (2556, 1), (2652, 1), (2831, 1), (2937, 1), (2938, 1), (2939, 1), (2940, 3), (2941, 1), (2942, 1), (2943, 1), (2944, 1), (2945, 1), (2946, 1), (2947, 1), (2948, 1), (2949, 1), (2950, 1), (2951, 1), (2952, 1), (2953, 1), (2954, 1), (2955, 1), (2956, 1)], [(12, 3), (14, 1), (15, 1), (21, 3), (31, 1), (32, 1), (40, 1), (48, 1), (62, 1), (63, 3), (66, 1), (68, 1), (71, 1), (86, 2), (92, 1), (116, 1), (140, 1), (224, 1), (244, 1), (258, 1), (286, 1), (291, 1), (292, 1), (446, 1), (523, 1), (532, 1), (594, 1), (597, 1), (634, 1), (846, 1), (1280, 1), (1570, 1), (2110, 1), (2328, 1), (2368, 1), (2928, 1), (2957, 1), (2958, 1), (2959, 1), (2960, 1), (2961, 1), (2962, 1), (2963, 1), (2964, 1), (2965, 1), (2966, 1), (2967, 1), (2968, 1)], [(12, 2), (14, 1), (16, 3), (21, 3), (31, 1), (40, 2), (48, 1), (62, 2), (63, 4), (71, 1), (86, 1), (92, 1), (112, 1), (121, 2), (151, 1), (170, 1), (174, 1), (192, 3), (224, 1), (228, 1), (244, 1), (245, 4), (249, 1), (252, 1), (301, 1), (313, 1), (327, 1), (335, 1), (394, 1), (401, 1), (601, 1), (778, 2), (836, 1), (940, 1), (997, 1), (1039, 1), (1129, 2), (1332, 1), (1343, 1), (1662, 1), (1699, 1), (2166, 2), (2221, 1), (2279, 1), (2520, 1), (2969, 1), (2970, 1), (2971, 1), (2972, 1), (2973, 1), (2974, 1), (2975, 1), (2976, 1), (2977, 2), (2978, 2), (2979, 1), (2980, 1), (2981, 1), (2982, 2), (2983, 1), (2984, 1), (2985, 1), (2986, 1), (2987, 1), (2988, 1), (2989, 1), (2990, 1), (2991, 1), (2992, 1), (2993, 1), (2994, 1)], [(12, 13), (14, 1), (15, 1), (16, 6), (21, 3), (23, 2), (31, 4), (32, 1), (33, 2), (36, 2), (38, 1), (40, 1), (48, 6), (50, 1), (52, 2), (58, 1), (62, 1), (63, 1), (64, 1), (66, 4), (71, 2), (92, 4), (114, 1), (116, 1), (139, 1), (140, 2), (158, 4), (162, 1), (163, 1), (174, 1), (192, 1), (202, 1), (216, 2), (224, 1), (229, 1), (246, 1), (382, 1), (397, 1), (410, 1), (440, 1), (441, 1), (455, 1), (473, 1), (523, 1), (527, 2), (549, 3), (572, 1), (690, 1), (691, 2), (715, 1), (741, 1), (784, 1), (810, 2), (822, 1), (837, 1), (892, 1), (922, 1), (968, 1), (971, 1), (1025, 1), (1075, 1), (1199, 1), (1211, 1), (1281, 1), (1376, 1), (1389, 1), (1441, 1), (1453, 1), (1528, 1), (1669, 1), (1676, 1), (1789, 1), (1834, 1), (1850, 1), (1913, 1), (2192, 1), (2231, 1), (2380, 1), (2580, 1), (2847, 1), (2995, 1), (2996, 1), (2997, 1), (2998, 1), (2999, 1), (3000, 1), (3001, 1), (3002, 1), (3003, 1), (3004, 1), (3005, 1), (3006, 1), (3007, 1), (3008, 1), (3009, 1), (3010, 1), (3011, 1), (3012, 1), (3013, 1), (3014, 1), (3015, 1), (3016, 1), (3017, 1), (3018, 1), (3019, 1), (3020, 1), (3021, 2), (3022, 1), (3023, 1), (3024, 1), (3025, 1), (3026, 1), (3027, 1), (3028, 1), (3029, 1), (3030, 1), (3031, 1), (3032, 1), (3033, 1), (3034, 1), (3035, 2), (3036, 1)], [(0, 6), (12, 11), (14, 2), (15, 1), (16, 11), (21, 11), (27, 1), (32, 2), (36, 1), (48, 4), (50, 2), (63, 12), (66, 7), (71, 2), (72, 3), (84, 1), (86, 4), (92, 7), (100, 1), (102, 2), (112, 2), (116, 1), (122, 1), (148, 2), (155, 1), (158, 1), (163, 1), (169, 1), (170, 8), (173, 1), (183, 2), (191, 1), (199, 2), (210, 2), (226, 1), (229, 2), (245, 1), (246, 1), (250, 1), (307, 1), (318, 2), (327, 1), (339, 2), (345, 1), (377, 1), (378, 1), (388, 3), (401, 1), (426, 1), (428, 1), (430, 1), (441, 1), (471, 2), (473, 1), (493, 1), (532, 1), (553, 2), (555, 1), (611, 1), (625, 1), (634, 1), (649, 1), (678, 1), (688, 1), (691, 1), (707, 1), (724, 1), (725, 1), (736, 1), (747, 1), (751, 1), (776, 1), (798, 1), (805, 1), (807, 1), (810, 1), (817, 1), (821, 1), (836, 1), (899, 1), (933, 1), (940, 1), (1007, 1), (1039, 1), (1114, 1), (1224, 1), (1327, 1), (1650, 1), (1709, 1), (1772, 1), (1862, 1), (1865, 1), (1891, 1), (1894, 1), (1917, 1), (1938, 1), (1962, 1), (2011, 1), (2020, 1), (2039, 1), (2135, 1), (2238, 1), (2242, 1), (2259, 1), (2303, 1), (2406, 4), (2538, 1), (2549, 2), (2816, 1), (2867, 1), (2950, 1), (3037, 1), (3038, 1), (3039, 1), (3040, 1), (3041, 1), (3042, 1), (3043, 1), (3044, 1), (3045, 1), (3046, 1), (3047, 1), (3048, 1), (3049, 1), (3050, 1), (3051, 1), (3052, 2), (3053, 1), (3054, 1), (3055, 1), (3056, 1), (3057, 1), (3058, 1), (3059, 2), (3060, 1), (3061, 1), (3062, 1), (3063, 1), (3064, 1), (3065, 1), (3066, 1), (3067, 1), (3068, 2), (3069, 1), (3070, 1), (3071, 1), (3072, 1), (3073, 1), (3074, 1), (3075, 1), (3076, 2), (3077, 1), (3078, 1), (3079, 1), (3080, 1), (3081, 1), (3082, 1), (3083, 1), (3084, 1), (3085, 1), (3086, 1), (3087, 1), (3088, 1), (3089, 1), (3090, 1), (3091, 1), (3092, 1), (3093, 1), (3094, 1), (3095, 2), (3096, 1), (3097, 1)], [(12, 2), (16, 2), (21, 2), (31, 2), (36, 1), (40, 1), (49, 1), (61, 1), (62, 1), (63, 4), (66, 1), (70, 1), (71, 1), (72, 1), (112, 2), (116, 3), (139, 2), (170, 2), (191, 1), (192, 1), (199, 1), (210, 1), (224, 1), (228, 1), (229, 2), (240, 1), (244, 1), (255, 1), (354, 1), (389, 1), (425, 1), (446, 1), (473, 1), (474, 1), (486, 1), (505, 2), (511, 1), (579, 1), (593, 2), (605, 1), (698, 1), (702, 1), (815, 1), (837, 1), (1070, 1), (1264, 1), (1273, 1), (1274, 1), (1721, 1), (1833, 1), (2317, 1), (2334, 1), (2652, 1), (2743, 1), (2847, 1), (3098, 2), (3099, 1), (3100, 1), (3101, 1), (3102, 1), (3103, 1), (3104, 1), (3105, 1), (3106, 1), (3107, 1), (3108, 1), (3109, 1), (3110, 1), (3111, 1), (3112, 1), (3113, 1), (3114, 1), (3115, 1), (3116, 1), (3117, 1), (3118, 1), (3119, 1), (3120, 1)], [(12, 2), (16, 4), (21, 2), (31, 1), (36, 1), (40, 1), (48, 1), (52, 1), (62, 1), (63, 2), (86, 1), (92, 1), (93, 1), (159, 1), (170, 1), (192, 1), (234, 1), (244, 1), (246, 1), (282, 1), (305, 1), (325, 1), (327, 1), (333, 1), (440, 1), (491, 3), (523, 1), (555, 1), (958, 1), (1065, 1), (1264, 1), (1273, 1), (1575, 1), (1722, 1), (1769, 1), (2325, 1), (2697, 1), (3121, 1), (3122, 1), (3123, 1), (3124, 1), (3125, 1), (3126, 1), (3127, 1), (3128, 1), (3129, 1), (3130, 1), (3131, 2), (3132, 1), (3133, 1), (3134, 1), (3135, 1), (3136, 1), (3137, 1), (3138, 1), (3139, 1), (3140, 1), (3141, 1), (3142, 1), (3143, 1)], [(12, 1), (14, 3), (15, 1), (20, 1), (21, 2), (31, 1), (33, 1), (36, 1), (52, 1), (62, 1), (63, 5), (66, 1), (86, 2), (92, 2), (116, 2), (118, 1), (140, 1), (148, 2), (169, 1), (170, 4), (172, 1), (173, 1), (210, 1), (211, 1), (214, 1), (216, 1), (229, 4), (232, 1), (233, 1), (245, 1), (277, 2), (306, 1), (314, 1), (327, 1), (335, 1), (345, 1), (370, 1), (371, 1), (389, 2), (394, 1), (404, 1), (407, 1), (425, 1), (446, 1), (455, 1), (472, 1), (474, 1), (510, 1), (537, 1), (572, 1), (579, 2), (704, 1), (714, 1), (811, 1), (850, 1), (909, 1), (936, 1), (951, 1), (1005, 1), (1063, 1), (1294, 1), (1456, 1), (1602, 1), (1721, 2), (1975, 1), (1998, 1), (2098, 1), (3144, 1), (3145, 1), (3146, 1), (3147, 1), (3148, 1), (3149, 1), (3150, 1), (3151, 1), (3152, 1), (3153, 1), (3154, 1), (3155, 1), (3156, 1), (3157, 1), (3158, 1), (3159, 1), (3160, 1), (3161, 1)], [(0, 2), (12, 1), (14, 1), (16, 1), (33, 1), (63, 5), (86, 2), (112, 1), (116, 1), (162, 1), (170, 2), (174, 1), (313, 1), (356, 1), (470, 1), (564, 1), (612, 1), (619, 2), (630, 1), (971, 1), (990, 1), (1011, 1), (1732, 1), (2133, 1), (2278, 1), (3162, 1), (3163, 1), (3164, 1), (3165, 1), (3166, 1), (3167, 1), (3168, 1), (3169, 1), (3170, 1), (3171, 1), (3172, 1)], [(12, 14), (14, 2), (16, 10), (21, 12), (23, 3), (27, 1), (31, 4), (36, 4), (40, 1), (47, 1), (48, 12), (50, 2), (52, 4), (62, 8), (63, 4), (64, 2), (66, 18), (67, 1), (71, 1), (72, 4), (86, 3), (92, 5), (93, 5), (102, 1), (112, 5), (114, 1), (118, 3), (138, 1), (139, 2), (140, 1), (143, 2), (148, 3), (155, 1), (158, 6), (159, 1), (162, 1), (165, 1), (169, 1), (170, 9), (172, 1), (177, 1), (186, 2), (198, 1), (209, 2), (210, 1), (214, 1), (218, 1), (224, 1), (226, 1), (228, 1), (229, 3), (233, 3), (235, 1), (244, 1), (245, 2), (252, 1), (255, 1), (261, 1), (301, 1), (314, 1), (318, 1), (327, 1), (334, 1), (342, 2), (355, 1), (356, 1), (360, 1), (377, 1), (381, 1), (394, 1), (405, 1), (420, 1), (425, 2), (426, 2), (446, 1), (470, 1), (474, 1), (493, 1), (496, 1), (501, 2), (510, 1), (511, 1), (537, 2), (639, 2), (643, 1), (736, 1), (749, 1), (751, 1), (757, 1), (762, 1), (777, 1), (811, 2), (836, 1), (846, 1), (860, 1), (899, 2), (941, 1), (968, 1), (971, 1), (987, 1), (1005, 1), (1059, 1), (1082, 1), (1175, 1), (1235, 2), (1376, 1), (1389, 1), (1428, 1), (1453, 1), (1554, 1), (1602, 1), (1669, 1), (1676, 1), (1688, 1), (1721, 1), (1729, 1), (1778, 1), (1790, 1), (1843, 1), (1947, 1), (1975, 1), (2015, 1), (2163, 1), (2299, 1), (2339, 1), (2666, 1), (2764, 1), (2884, 1), (3074, 1), (3107, 1), (3129, 1), (3173, 1), (3174, 1), (3175, 1), (3176, 1), (3177, 1), (3178, 1), (3179, 1), (3180, 1), (3181, 1), (3182, 1), (3183, 1), (3184, 1), (3185, 4), (3186, 1), (3187, 1), (3188, 1), (3189, 1), (3190, 1), (3191, 1), (3192, 1), (3193, 1), (3194, 1), (3195, 1), (3196, 1), (3197, 1), (3198, 1), (3199, 1), (3200, 1), (3201, 1), (3202, 1), (3203, 1), (3204, 1), (3205, 1), (3206, 1), (3207, 1), (3208, 1), (3209, 1), (3210, 1), (3211, 2), (3212, 1), (3213, 1), (3214, 1), (3215, 1), (3216, 1), (3217, 1), (3218, 1), (3219, 1), (3220, 1), (3221, 2), (3222, 1), (3223, 1), (3224, 1), (3225, 1), (3226, 1), (3227, 1), (3228, 1), (3229, 1), (3230, 1), (3231, 1), (3232, 1), (3233, 1), (3234, 1), (3235, 1), (3236, 1), (3237, 1), (3238, 1), (3239, 2), (3240, 1), (3241, 1), (3242, 1), (3243, 1), (3244, 2), (3245, 1), (3246, 1), (3247, 1), (3248, 1), (3249, 1), (3250, 2), (3251, 1), (3252, 1), (3253, 1), (3254, 1), (3255, 1), (3256, 1), (3257, 1), (3258, 1), (3259, 1), (3260, 1)], [(12, 1), (21, 1), (23, 1), (31, 1), (40, 1), (63, 1), (66, 1), (76, 1), (86, 1), (93, 3), (112, 1), (140, 1), (148, 1), (165, 1), (286, 1), (291, 3), (317, 1), (494, 1), (658, 1), (872, 1), (1003, 1), (1327, 1), (1562, 1), (2060, 1), (2325, 1), (2738, 1), (2739, 1), (2949, 1), (3261, 1), (3262, 1), (3263, 2), (3264, 1), (3265, 1), (3266, 1), (3267, 1), (3268, 1), (3269, 1), (3270, 1), (3271, 1), (3272, 1), (3273, 1)], [(0, 24), (12, 6), (14, 7), (15, 1), (16, 5), (21, 12), (31, 2), (32, 1), (36, 2), (50, 1), (52, 4), (53, 1), (62, 2), (63, 8), (64, 1), (65, 2), (66, 3), (68, 1), (71, 2), (72, 1), (83, 1), (84, 3), (85, 1), (86, 3), (92, 8), (93, 8), (112, 1), (116, 1), (139, 1), (140, 1), (143, 1), (148, 3), (170, 2), (173, 1), (186, 1), (192, 1), (194, 1), (203, 1), (216, 1), (226, 1), (233, 1), (245, 2), (255, 1), (259, 1), (285, 1), (291, 16), (306, 1), (307, 1), (314, 1), (317, 1), (327, 1), (349, 1), (378, 1), (394, 1), (404, 2), (405, 1), (407, 1), (410, 1), (425, 1), (472, 1), (474, 1), (501, 2), (505, 1), (550, 1), (553, 1), (566, 1), (580, 1), (582, 1), (593, 1), (594, 1), (615, 3), (626, 2), (637, 1), (658, 1), (704, 1), (725, 1), (728, 1), (787, 1), (848, 1), (978, 1), (1028, 1), (1035, 1), (1041, 2), (1063, 1), (1218, 1), (1223, 1), (1270, 1), (1273, 1), (1279, 1), (1348, 1), (1418, 1), (1482, 1), (1537, 3), (1561, 1), (1638, 1), (1896, 1), (1939, 2), (1987, 5), (2150, 1), (2163, 1), (2169, 9), (2217, 1), (2258, 1), (2367, 1), (2421, 1), (2431, 1), (2434, 1), (2562, 1), (2608, 1), (2615, 1), (2785, 1), (2800, 1), (2840, 1), (2862, 4), (3214, 1), (3242, 1), (3274, 1), (3275, 1), (3276, 1), (3277, 1), (3278, 1), (3279, 1), (3280, 1), (3281, 1), (3282, 1), (3283, 1), (3284, 8), (3285, 5), (3286, 1), (3287, 1), (3288, 1), (3289, 1), (3290, 1), (3291, 4), (3292, 1), (3293, 1), (3294, 1), (3295, 1), (3296, 1), (3297, 1), (3298, 1), (3299, 1), (3300, 1), (3301, 1), (3302, 1), (3303, 1), (3304, 1), (3305, 1), (3306, 3), (3307, 9), (3308, 4), (3309, 1), (3310, 1), (3311, 1), (3312, 1), (3313, 1), (3314, 1), (3315, 1), (3316, 1), (3317, 1), (3318, 1), (3319, 1), (3320, 1), (3321, 1), (3322, 1), (3323, 1), (3324, 1), (3325, 1), (3326, 1), (3327, 1), (3328, 1), (3329, 1), (3330, 1), (3331, 1), (3332, 1), (3333, 1), (3334, 1), (3335, 1), (3336, 1), (3337, 1), (3338, 1), (3339, 1), (3340, 2)], [(0, 2), (21, 1), (31, 2), (38, 1), (63, 1), (64, 1), (72, 1), (92, 1), (116, 1), (140, 1), (159, 1), (170, 2), (192, 1), (306, 2), (388, 1), (421, 1), (426, 1), (470, 1), (473, 1), (550, 1), (826, 1), (940, 1), (1264, 1), (1337, 1), (2476, 1), (2825, 1), (3072, 1), (3341, 1), (3342, 1), (3343, 1), (3344, 1), (3345, 1), (3346, 1), (3347, 1), (3348, 1), (3349, 1)], [(16, 2), (21, 1), (61, 1), (66, 1), (101, 1), (112, 1), (155, 1), (211, 1), (224, 1), (547, 1), (562, 1), (893, 1), (1550, 1), (1919, 1), (3350, 1), (3351, 1), (3352, 1), (3353, 1), (3354, 1), (3355, 1)], [(0, 1), (12, 2), (14, 1), (16, 3), (21, 3), (31, 2), (52, 2), (62, 1), (63, 5), (66, 1), (86, 1), (92, 1), (112, 1), (148, 1), (158, 1), (170, 3), (192, 2), (216, 1), (224, 1), (245, 2), (272, 1), (334, 1), (378, 1), (473, 1), (550, 1), (555, 1), (593, 1), (594, 1), (605, 1), (827, 1), (864, 1), (1011, 1), (1091, 1), (1159, 1), (1211, 1), (1273, 1), (1543, 1), (1652, 1), (1826, 1), (1895, 1), (1994, 1), (2121, 1), (2231, 1), (2239, 1), (2667, 1), (3356, 1), (3357, 1), (3358, 1), (3359, 1), (3360, 1), (3361, 1), (3362, 1), (3363, 1), (3364, 1), (3365, 1), (3366, 1), (3367, 1), (3368, 1), (3369, 1)], [(0, 7), (12, 9), (16, 2), (20, 1), (21, 7), (25, 1), (27, 3), (30, 1), (31, 3), (34, 1), (36, 2), (48, 1), (55, 2), (58, 2), (62, 5), (63, 11), (64, 3), (66, 7), (71, 3), (92, 4), (101, 1), (114, 1), (116, 2), (140, 1), (146, 1), (148, 1), (158, 4), (159, 1), (174, 1), (186, 1), (191, 1), (192, 3), (200, 3), (211, 1), (226, 1), (229, 3), (245, 1), (266, 1), (291, 1), (314, 1), (334, 1), (428, 2), (446, 2), (455, 2), (474, 1), (491, 1), (493, 2), (497, 1), (523, 1), (532, 4), (539, 1), (543, 1), (684, 1), (689, 1), (707, 3), (747, 1), (766, 1), (838, 1), (916, 1), (921, 1), (933, 1), (968, 1), (978, 1), (987, 1), (989, 3), (997, 1), (1056, 1), (1063, 4), (1208, 1), (1264, 1), (1284, 2), (1428, 2), (1561, 1), (1804, 1), (1835, 1), (1944, 1), (2049, 3), (2218, 1), (2246, 1), (2546, 1), (2555, 2), (2873, 1), (2968, 1), (3248, 1), (3370, 1), (3371, 1), (3372, 2), (3373, 1), (3374, 1), (3375, 1), (3376, 1), (3377, 1), (3378, 1), (3379, 4), (3380, 1), (3381, 1), (3382, 1), (3383, 1), (3384, 1), (3385, 8), (3386, 1), (3387, 1), (3388, 1), (3389, 1), (3390, 1), (3391, 1), (3392, 1), (3393, 1), (3394, 1), (3395, 1), (3396, 1), (3397, 1), (3398, 1), (3399, 1), (3400, 1), (3401, 1), (3402, 1), (3403, 1), (3404, 1), (3405, 1), (3406, 1), (3407, 1), (3408, 1), (3409, 1), (3410, 1), (3411, 1), (3412, 1), (3413, 1), (3414, 1), (3415, 1), (3416, 2), (3417, 1), (3418, 1), (3419, 1), (3420, 1), (3421, 1), (3422, 1), (3423, 1), (3424, 1)], [(0, 2), (12, 1), (32, 1), (66, 1), (174, 1), (203, 1), (224, 1), (244, 1), (314, 1), (356, 1), (605, 1), (842, 1), (978, 1), (2310, 1), (2514, 1), (3218, 1), (3425, 1), (3426, 1), (3427, 1), (3428, 1)], [(0, 5), (12, 6), (14, 1), (15, 1), (16, 3), (19, 1), (21, 7), (23, 1), (31, 4), (33, 1), (36, 1), (48, 1), (62, 1), (63, 6), (66, 4), (69, 1), (70, 1), (71, 1), (72, 1), (80, 1), (84, 1), (86, 3), (87, 1), (92, 3), (93, 1), (106, 1), (116, 2), (118, 1), (138, 1), (139, 2), (140, 2), (143, 1), (148, 6), (154, 1), (158, 1), (167, 1), (170, 3), (172, 1), (186, 3), (192, 2), (203, 1), (229, 2), (233, 1), (245, 1), (277, 1), (282, 1), (302, 1), (307, 1), (329, 1), (339, 1), (349, 1), (354, 1), (366, 1), (371, 3), (394, 1), (401, 1), (404, 1), (405, 1), (425, 1), (428, 1), (474, 1), (493, 1), (501, 1), (505, 3), (511, 1), (523, 1), (552, 1), (556, 1), (566, 1), (580, 1), (582, 1), (597, 1), (611, 1), (626, 1), (643, 1), (728, 1), (765, 1), (766, 1), (836, 1), (837, 1), (968, 1), (971, 1), (1035, 1), (1039, 1), (1063, 1), (1201, 1), (1211, 1), (1301, 1), (1336, 1), (1354, 1), (1389, 1), (1418, 1), (1505, 1), (1627, 2), (1702, 1), (1796, 3), (1819, 1), (1931, 1), (1951, 1), (2133, 1), (2151, 1), (2158, 1), (2164, 1), (2218, 1), (2406, 1), (2420, 1), (2477, 1), (2580, 1), (2667, 1), (2680, 1), (2697, 1), (2782, 2), (2829, 1), (2854, 1), (2855, 1), (2865, 1), (2884, 2), (2922, 1), (3120, 1), (3429, 1), (3430, 1), (3431, 1), (3432, 1), (3433, 1), (3434, 1), (3435, 1), (3436, 1), (3437, 1), (3438, 1), (3439, 1), (3440, 1), (3441, 1), (3442, 1), (3443, 1), (3444, 1), (3445, 1), (3446, 1), (3447, 1), (3448, 1), (3449, 1), (3450, 1), (3451, 1), (3452, 1), (3453, 1), (3454, 1), (3455, 1), (3456, 1), (3457, 1), (3458, 1), (3459, 1), (3460, 1), (3461, 1), (3462, 1), (3463, 1), (3464, 1), (3465, 1), (3466, 1), (3467, 1), (3468, 1), (3469, 1), (3470, 1), (3471, 1), (3472, 1), (3473, 1), (3474, 1), (3475, 1), (3476, 1), (3477, 1), (3478, 1), (3479, 1), (3480, 1), (3481, 1), (3482, 1), (3483, 1)], [(12, 2), (21, 2), (63, 1), (64, 2), (66, 2), (71, 1), (86, 1), (112, 1), (116, 1), (139, 1), (140, 1), (169, 1), (173, 1), (174, 1), (224, 1), (240, 1), (244, 1), (247, 1), (278, 1), (302, 1), (304, 1), (309, 1), (313, 1), (572, 1), (612, 1), (752, 1), (971, 1), (997, 2), (1057, 1), (1064, 1), (1157, 1), (1184, 1), (1226, 1), (1908, 1), (2241, 1), (2333, 1), (2431, 1), (2469, 1), (2601, 1), (2771, 1), (2816, 1), (3484, 1), (3485, 1), (3486, 1), (3487, 1), (3488, 1), (3489, 1), (3490, 1), (3491, 1), (3492, 1), (3493, 1), (3494, 1)], [(0, 1), (12, 3), (16, 2), (19, 1), (21, 5), (27, 1), (31, 1), (32, 1), (36, 1), (48, 4), (52, 2), (62, 1), (63, 9), (66, 5), (71, 1), (86, 2), (92, 1), (102, 1), (118, 1), (130, 1), (138, 1), (143, 1), (148, 2), (155, 2), (192, 1), (199, 1), (203, 2), (260, 1), (314, 1), (339, 1), (345, 1), (388, 1), (425, 2), (442, 1), (455, 2), (486, 1), (499, 1), (505, 1), (549, 1), (566, 1), (612, 2), (707, 1), (826, 1), (905, 1), (933, 2), (974, 1), (1030, 1), (1038, 1), (1264, 1), (1327, 1), (1345, 1), (1389, 1), (1676, 1), (1974, 1), (2444, 1), (2527, 1), (2549, 1), (2868, 1), (3029, 1), (3322, 1), (3495, 1), (3496, 3), (3497, 1), (3498, 1), (3499, 1), (3500, 1), (3501, 1), (3502, 1), (3503, 1), (3504, 1), (3505, 1), (3506, 1), (3507, 1), (3508, 1), (3509, 1), (3510, 1), (3511, 1), (3512, 1), (3513, 1), (3514, 1), (3515, 1), (3516, 1), (3517, 1), (3518, 1), (3519, 1), (3520, 1), (3521, 1), (3522, 1), (3523, 1), (3524, 1), (3525, 1), (3526, 1), (3527, 1), (3528, 1)], [(0, 4), (12, 1), (14, 1), (16, 4), (20, 1), (21, 4), (32, 1), (36, 2), (52, 3), (58, 1), (63, 4), (64, 1), (66, 1), (68, 2), (92, 2), (116, 2), (139, 2), (148, 1), (158, 2), (191, 1), (207, 1), (229, 2), (307, 2), (345, 1), (371, 2), (386, 1), (388, 1), (389, 2), (401, 1), (410, 1), (455, 1), (497, 1), (549, 2), (553, 1), (566, 1), (575, 1), (579, 1), (685, 1), (837, 2), (912, 1), (1030, 1), (1077, 1), (1088, 1), (1186, 1), (1224, 1), (1301, 1), (1549, 1), (1561, 1), (1734, 2), (1910, 1), (2095, 1), (2538, 1), (2921, 1), (3529, 1), (3530, 1), (3531, 2), (3532, 1), (3533, 1), (3534, 1), (3535, 1), (3536, 1), (3537, 1), (3538, 1), (3539, 1), (3540, 1), (3541, 1), (3542, 2), (3543, 1), (3544, 1), (3545, 1), (3546, 2), (3547, 1), (3548, 1), (3549, 2), (3550, 1), (3551, 1)], [(0, 3), (12, 14), (14, 7), (15, 1), (16, 7), (21, 8), (23, 1), (31, 1), (48, 3), (50, 2), (52, 2), (63, 13), (66, 5), (70, 2), (71, 2), (72, 1), (83, 1), (86, 1), (92, 3), (93, 6), (114, 1), (116, 1), (139, 5), (140, 6), (159, 1), (170, 3), (192, 1), (194, 1), (209, 1), (224, 1), (233, 2), (244, 2), (255, 1), (266, 1), (272, 1), (277, 1), (282, 2), (291, 6), (306, 1), (307, 2), (308, 1), (334, 1), (345, 1), (356, 3), (372, 1), (404, 1), (405, 1), (412, 1), (425, 2), (426, 1), (446, 2), (493, 1), (505, 1), (510, 1), (553, 1), (554, 1), (566, 2), (594, 1), (597, 1), (605, 1), (619, 1), (630, 1), (632, 1), (649, 1), (837, 1), (856, 1), (968, 1), (1011, 1), (1100, 1), (1193, 1), (1215, 1), (1387, 1), (1709, 1), (1863, 1), (1975, 3), (1987, 10), (1988, 2), (2025, 1), (2278, 1), (2339, 1), (2416, 2), (2431, 1), (2440, 1), (2928, 1), (3141, 1), (3151, 1), (3239, 1), (3349, 1), (3410, 1), (3457, 1), (3527, 1), (3552, 1), (3553, 2), (3554, 1), (3555, 1), (3556, 1), (3557, 1), (3558, 4), (3559, 2), (3560, 1), (3561, 1), (3562, 1), (3563, 1), (3564, 1), (3565, 1), (3566, 1), (3567, 1), (3568, 1), (3569, 1), (3570, 1), (3571, 1), (3572, 2), (3573, 1), (3574, 1), (3575, 1), (3576, 1), (3577, 1), (3578, 1), (3579, 1), (3580, 2), (3581, 1), (3582, 1), (3583, 1), (3584, 2), (3585, 1), (3586, 1), (3587, 1), (3588, 2), (3589, 1), (3590, 1), (3591, 2), (3592, 1), (3593, 1), (3594, 1), (3595, 1), (3596, 2), (3597, 1), (3598, 1), (3599, 1), (3600, 1), (3601, 1), (3602, 1), (3603, 1), (3604, 1)], [(0, 2), (12, 1), (16, 3), (20, 1), (21, 3), (23, 1), (32, 2), (33, 1), (36, 1), (50, 2), (52, 1), (62, 1), (63, 3), (66, 2), (80, 2), (84, 1), (86, 1), (116, 1), (143, 1), (162, 1), (170, 1), (174, 1), (250, 1), (291, 2), (306, 1), (352, 1), (355, 1), (366, 1), (505, 1), (542, 1), (605, 1), (762, 1), (934, 1), (964, 1), (971, 1), (1040, 1), (1046, 1), (1053, 2), (1107, 1), (1273, 1), (1505, 2), (1627, 2), (1908, 1), (2511, 1), (2697, 1), (3605, 1), (3606, 1), (3607, 1), (3608, 1), (3609, 1), (3610, 1), (3611, 1), (3612, 1), (3613, 1)], [(12, 5), (16, 3), (31, 8), (32, 1), (36, 6), (40, 1), (48, 1), (50, 2), (52, 1), (62, 2), (63, 2), (66, 4), (68, 1), (80, 1), (83, 1), (86, 3), (92, 2), (93, 5), (116, 1), (139, 2), (140, 1), (148, 1), (158, 1), (159, 1), (170, 1), (174, 2), (191, 1), (192, 1), (201, 1), (211, 1), (218, 1), (226, 1), (229, 1), (244, 1), (334, 1), (354, 2), (382, 1), (425, 3), (458, 5), (471, 1), (493, 2), (501, 1), (505, 4), (508, 1), (509, 1), (511, 2), (542, 1), (643, 2), (709, 1), (717, 1), (742, 1), (807, 2), (837, 1), (904, 1), (912, 1), (921, 1), (946, 1), (971, 1), (1063, 1), (1114, 1), (1172, 1), (1242, 1), (1273, 1), (1294, 1), (1302, 1), (1327, 1), (1456, 1), (2169, 1), (2599, 2), (2775, 1), (3146, 1), (3484, 1), (3546, 1), (3614, 2), (3615, 2), (3616, 2), (3617, 1), (3618, 1), (3619, 1), (3620, 1), (3621, 1), (3622, 1), (3623, 1), (3624, 1), (3625, 1), (3626, 1), (3627, 2), (3628, 1), (3629, 1), (3630, 1), (3631, 1), (3632, 1), (3633, 1), (3634, 1), (3635, 1), (3636, 1), (3637, 1), (3638, 2), (3639, 1), (3640, 1), (3641, 1), (3642, 3), (3643, 1), (3644, 1), (3645, 1), (3646, 1), (3647, 1), (3648, 1), (3649, 1), (3650, 1), (3651, 1), (3652, 1), (3653, 1), (3654, 1), (3655, 1), (3656, 1), (3657, 1), (3658, 1), (3659, 1), (3660, 1), (3661, 1), (3662, 1), (3663, 1), (3664, 1), (3665, 1), (3666, 1), (3667, 1), (3668, 1), (3669, 1), (3670, 1), (3671, 1), (3672, 1), (3673, 1), (3674, 1), (3675, 1), (3676, 1), (3677, 2), (3678, 2)], [(12, 7), (16, 7), (21, 1), (36, 2), (42, 1), (48, 1), (62, 1), (63, 7), (66, 3), (71, 2), (74, 1), (80, 1), (83, 1), (84, 1), (86, 2), (92, 1), (101, 1), (112, 1), (116, 1), (139, 1), (140, 1), (146, 1), (148, 1), (158, 1), (170, 2), (173, 2), (186, 3), (200, 1), (203, 1), (216, 1), (218, 1), (245, 1), (246, 1), (249, 1), (264, 1), (307, 1), (317, 1), (318, 1), (327, 1), (377, 1), (397, 1), (425, 1), (435, 1), (446, 1), (495, 3), (496, 1), (605, 1), (611, 1), (626, 1), (690, 1), (725, 1), (762, 1), (808, 1), (814, 1), (815, 1), (892, 1), (966, 1), (1014, 1), (1279, 1), (1428, 1), (1479, 1), (1484, 1), (1575, 1), (1663, 1), (1746, 1), (2242, 1), (2572, 1), (2608, 1), (2770, 1), (2958, 1), (3215, 1), (3679, 2), (3680, 2), (3681, 1), (3682, 1), (3683, 1), (3684, 1), (3685, 1), (3686, 1), (3687, 1), (3688, 1), (3689, 1), (3690, 1), (3691, 1), (3692, 1), (3693, 1), (3694, 1), (3695, 1), (3696, 1), (3697, 1), (3698, 1), (3699, 1), (3700, 1), (3701, 1), (3702, 1), (3703, 1), (3704, 1), (3705, 1), (3706, 1), (3707, 1), (3708, 1), (3709, 1)], [(12, 1), (14, 1), (21, 1), (50, 1), (63, 3), (71, 1), (92, 2), (116, 3), (148, 1), (244, 1), (282, 1), (523, 1), (532, 1), (673, 1), (837, 1), (940, 1), (1215, 1), (3195, 1), (3417, 1), (3710, 1), (3711, 1), (3712, 1), (3713, 1), (3714, 2), (3715, 1), (3716, 1), (3717, 1), (3718, 1), (3719, 1)], [(12, 3), (14, 3), (16, 7), (21, 9), (25, 1), (31, 4), (38, 1), (48, 2), (50, 1), (52, 1), (61, 1), (63, 7), (66, 2), (73, 1), (86, 2), (92, 4), (130, 1), (138, 2), (139, 1), (140, 2), (148, 3), (155, 1), (158, 1), (170, 1), (173, 1), (186, 2), (229, 2), (233, 1), (245, 1), (282, 1), (286, 1), (291, 1), (385, 1), (405, 1), (407, 1), (428, 1), (487, 1), (498, 1), (523, 1), (530, 1), (539, 1), (542, 2), (553, 2), (557, 1), (560, 1), (579, 1), (585, 1), (612, 1), (707, 1), (826, 1), (837, 1), (1034, 1), (1035, 1), (1063, 1), (1073, 1), (1192, 1), (1209, 1), (1278, 1), (1631, 1), (1708, 1), (1771, 1), (1781, 1), (2249, 1), (2332, 2), (2469, 1), (2499, 1), (2572, 1), (2623, 1), (2958, 1), (3549, 1), (3558, 1), (3720, 1), (3721, 1), (3722, 1), (3723, 1), (3724, 2), (3725, 1), (3726, 1), (3727, 1), (3728, 2), (3729, 1), (3730, 1), (3731, 1), (3732, 1), (3733, 1), (3734, 1), (3735, 1), (3736, 1), (3737, 1), (3738, 1), (3739, 1), (3740, 1), (3741, 1), (3742, 1), (3743, 1), (3744, 1), (3745, 1), (3746, 1), (3747, 1), (3748, 1), (3749, 1), (3750, 1), (3751, 1), (3752, 1)], [(0, 3), (12, 5), (14, 5), (15, 1), (16, 3), (21, 4), (23, 2), (31, 1), (48, 2), (52, 1), (62, 2), (63, 7), (65, 1), (66, 2), (71, 2), (80, 1), (86, 1), (92, 3), (112, 4), (139, 3), (158, 1), (170, 4), (191, 1), (192, 1), (228, 1), (229, 1), (233, 1), (244, 3), (304, 1), (313, 1), (318, 1), (330, 1), (333, 1), (335, 1), (339, 1), (356, 1), (371, 1), (428, 1), (429, 1), (438, 1), (493, 1), (516, 1), (526, 1), (527, 1), (553, 1), (579, 1), (643, 1), (698, 1), (754, 1), (757, 1), (842, 1), (968, 1), (1028, 1), (1086, 1), (1101, 1), (1224, 1), (1292, 1), (1676, 1), (1776, 1), (1945, 1), (2051, 1), (2238, 1), (2251, 1), (2291, 1), (2466, 2), (2520, 1), (2599, 1), (2847, 1), (2919, 1), (2932, 1), (3041, 1), (3047, 1), (3183, 1), (3256, 1), (3753, 1), (3754, 1), (3755, 1), (3756, 1), (3757, 1), (3758, 1), (3759, 1), (3760, 1), (3761, 1), (3762, 1), (3763, 1), (3764, 1), (3765, 1), (3766, 1), (3767, 1), (3768, 1), (3769, 1), (3770, 1), (3771, 1), (3772, 1), (3773, 1), (3774, 1), (3775, 1), (3776, 1), (3777, 1), (3778, 1), (3779, 1), (3780, 1), (3781, 1), (3782, 2), (3783, 1), (3784, 1), (3785, 1), (3786, 1), (3787, 1), (3788, 1), (3789, 1)], [(0, 8), (12, 4), (14, 1), (15, 1), (16, 3), (21, 6), (23, 2), (30, 1), (36, 2), (48, 2), (52, 2), (62, 2), (63, 8), (66, 3), (68, 2), (71, 1), (72, 1), (83, 1), (86, 1), (92, 4), (102, 1), (116, 2), (139, 3), (147, 1), (148, 2), (170, 3), (172, 1), (173, 1), (186, 1), (207, 1), (224, 2), (233, 2), (244, 1), (245, 2), (252, 1), (282, 1), (307, 1), (317, 1), (349, 1), (354, 1), (394, 1), (474, 1), (495, 1), (532, 2), (555, 1), (594, 2), (681, 1), (684, 1), (780, 1), (808, 1), (836, 1), (971, 1), (987, 1), (1039, 1), (1043, 1), (1129, 1), (1184, 1), (1188, 1), (1307, 1), (1456, 1), (1533, 1), (1575, 1), (1627, 1), (1998, 1), (2102, 1), (2110, 1), (2150, 1), (2231, 1), (2361, 1), (2368, 1), (2431, 1), (2434, 1), (2924, 2), (3076, 1), (3198, 1), (3285, 1), (3321, 1), (3424, 1), (3708, 1), (3736, 1), (3790, 1), (3791, 1), (3792, 1), (3793, 1), (3794, 1), (3795, 1), (3796, 1), (3797, 1), (3798, 1), (3799, 1), (3800, 1), (3801, 1), (3802, 1), (3803, 1), (3804, 1), (3805, 1), (3806, 1), (3807, 1), (3808, 1), (3809, 1), (3810, 1), (3811, 1), (3812, 1), (3813, 1), (3814, 1)], [(0, 3), (14, 2), (16, 2), (21, 4), (23, 1), (31, 4), (48, 1), (63, 6), (64, 1), (66, 1), (71, 1), (76, 1), (83, 1), (86, 4), (91, 1), (116, 1), (143, 1), (170, 3), (198, 1), (199, 1), (203, 1), (208, 1), (223, 1), (229, 1), (233, 2), (244, 2), (258, 1), (306, 1), (308, 1), (313, 1), (371, 1), (394, 2), (426, 1), (497, 1), (594, 1), (605, 3), (610, 1), (643, 1), (721, 1), (742, 1), (805, 1), (849, 1), (997, 1), (1157, 1), (1298, 3), (1307, 1), (1602, 1), (1796, 3), (1875, 1), (2110, 1), (2217, 1), (2372, 1), (2429, 1), (2744, 1), (2752, 1), (2760, 1), (2768, 1), (3057, 2), (3146, 1), (3815, 1), (3816, 1), (3817, 1), (3818, 1), (3819, 1), (3820, 1), (3821, 1), (3822, 1), (3823, 1), (3824, 1), (3825, 1), (3826, 1), (3827, 1), (3828, 1), (3829, 1), (3830, 1)], [(14, 3), (15, 2), (16, 2), (20, 1), (21, 3), (23, 1), (31, 1), (32, 1), (50, 2), (63, 10), (66, 7), (68, 2), (86, 7), (112, 1), (116, 2), (138, 1), (140, 3), (148, 1), (170, 5), (173, 1), (183, 1), (208, 1), (216, 1), (244, 1), (305, 1), (318, 1), (420, 1), (425, 1), (435, 1), (438, 1), (474, 1), (505, 2), (510, 1), (532, 1), (558, 1), (559, 1), (633, 1), (711, 1), (715, 1), (728, 1), (737, 1), (837, 1), (919, 1), (921, 1), (1057, 1), (1327, 1), (1512, 1), (1663, 1), (1708, 1), (2178, 1), (2203, 1), (2278, 2), (2610, 1), (3088, 1), (3147, 1), (3469, 1), (3774, 1), (3831, 1), (3832, 1), (3833, 1), (3834, 1), (3835, 1), (3836, 1), (3837, 1), (3838, 2), (3839, 1), (3840, 1), (3841, 1), (3842, 1), (3843, 1), (3844, 1), (3845, 1), (3846, 1), (3847, 1), (3848, 1), (3849, 2), (3850, 1), (3851, 1), (3852, 1), (3853, 1), (3854, 1)]]\n"
     ]
    }
   ],
   "source": [
    "print(corpus)"
   ]
  },
  {
   "cell_type": "code",
   "execution_count": 25,
   "metadata": {},
   "outputs": [],
   "source": [
    "#lda = LdaMulticore(corpus=corpus,\n",
    "                   #id2word=id2word,\n",
    "                   #random_state=723812,\n",
    "                   #num_topics = 15,\n",
    "                   #passes=10,\n",
    "                   #workers=4\n",
    "                  #)\n",
    "\n",
    "lda = gensim.models.ldamodel.LdaModel(corpus=corpus,\n",
    "                                           id2word=id2word,\n",
    "                                           num_topics=10, \n",
    "                                           random_state=100,\n",
    "                                           update_every=1,\n",
    "                                           chunksize=100,\n",
    "                                           passes=10,\n",
    "                                           alpha='auto',\n",
    "                                           per_word_topics=True)"
   ]
  },
  {
   "cell_type": "code",
   "execution_count": 26,
   "metadata": {
    "scrolled": false
   },
   "outputs": [
    {
     "name": "stdout",
     "output_type": "stream",
     "text": [
      "LdaModel(num_terms=3855, num_topics=10, decay=0.5, chunksize=100)\n"
     ]
    }
   ],
   "source": [
    "print(lda)"
   ]
  },
  {
   "cell_type": "code",
   "execution_count": 27,
   "metadata": {},
   "outputs": [
    {
     "name": "stderr",
     "output_type": "stream",
     "text": [
      "/home/ec2-user/anaconda3/envs/chainer_p36/lib/python3.6/site-packages/pyLDAvis/_prepare.py:257: FutureWarning: Sorting because non-concatenation axis is not aligned. A future version\n",
      "of pandas will change to not sort by default.\n",
      "\n",
      "To accept the future behavior, pass 'sort=False'.\n",
      "\n",
      "To retain the current behavior and silence the warning, pass 'sort=True'.\n",
      "\n",
      "  return pd.concat([default_term_info] + list(topic_dfs))\n"
     ]
    }
   ],
   "source": [
    "import pyLDAvis\n",
    "import pyLDAvis.gensim\n",
    "\n",
    "# Visualize the topics\n",
    "pyLDAvis.enable_notebook()\n",
    "vis = pyLDAvis.gensim.prepare(lda, corpus, id2word)\n",
    "#vis"
   ]
  },
  {
   "cell_type": "code",
   "execution_count": 28,
   "metadata": {},
   "outputs": [
    {
     "data": {
      "text/html": [
       "\n",
       "<link rel=\"stylesheet\" type=\"text/css\" href=\"https://cdn.rawgit.com/bmabey/pyLDAvis/files/ldavis.v1.0.0.css\">\n",
       "\n",
       "\n",
       "<div id=\"ldavis_el1185151406012093940647115164479\"></div>\n",
       "<script type=\"text/javascript\">\n",
       "\n",
       "var ldavis_el1185151406012093940647115164479_data = {\"mdsDat\": {\"x\": [0.12209591722223172, 0.060965719881081036, -0.033685125021589664, 0.4358940145523692, -0.082227042413336, -0.1062833232411859, -0.10111775205788402, -0.1006002795029433, -0.09846550652724192, -0.0965766228915014], \"y\": [0.13963486547472, 0.12170877315306654, -0.020886849663649155, -0.08928142804562013, -0.08547534635404812, -0.024739715720529364, -0.014437670431173145, -0.011900052226179774, -0.00936928453598262, -0.005253291650604311], \"topics\": [1, 2, 3, 4, 5, 6, 7, 8, 9, 10], \"cluster\": [1, 1, 1, 1, 1, 1, 1, 1, 1, 1], \"Freq\": [54.797828674316406, 29.362445831298828, 5.340989589691162, 4.912795543670654, 3.2047276496887207, 1.1772985458374023, 0.5064788460731506, 0.45786383748054504, 0.2284979522228241, 0.011075777933001518]}, \"tinfo\": {\"Category\": [\"Default\", \"Default\", \"Default\", \"Default\", \"Default\", \"Default\", \"Default\", \"Default\", \"Default\", \"Default\", \"Default\", \"Default\", \"Default\", \"Default\", \"Default\", \"Default\", \"Default\", \"Default\", \"Default\", \"Default\", \"Default\", \"Default\", \"Default\", \"Default\", \"Default\", \"Default\", \"Default\", \"Default\", \"Default\", \"Default\", \"Topic1\", \"Topic1\", \"Topic1\", \"Topic1\", \"Topic1\", \"Topic1\", \"Topic1\", \"Topic1\", \"Topic1\", \"Topic1\", \"Topic1\", \"Topic1\", \"Topic1\", \"Topic1\", \"Topic1\", \"Topic1\", \"Topic1\", \"Topic1\", \"Topic1\", \"Topic1\", \"Topic1\", \"Topic1\", \"Topic1\", \"Topic1\", \"Topic1\", \"Topic1\", \"Topic1\", \"Topic1\", \"Topic1\", \"Topic1\", \"Topic1\", \"Topic1\", \"Topic1\", \"Topic1\", \"Topic1\", \"Topic1\", \"Topic1\", \"Topic1\", \"Topic1\", \"Topic1\", \"Topic1\", \"Topic1\", \"Topic1\", \"Topic1\", \"Topic1\", \"Topic1\", \"Topic1\", \"Topic1\", \"Topic1\", \"Topic1\", \"Topic1\", \"Topic1\", \"Topic1\", \"Topic1\", \"Topic1\", \"Topic1\", \"Topic1\", \"Topic1\", \"Topic1\", \"Topic1\", \"Topic1\", \"Topic1\", \"Topic1\", \"Topic1\", \"Topic1\", \"Topic1\", \"Topic1\", \"Topic1\", \"Topic2\", \"Topic2\", \"Topic2\", \"Topic2\", \"Topic2\", \"Topic2\", \"Topic2\", \"Topic2\", \"Topic2\", \"Topic2\", \"Topic2\", \"Topic2\", \"Topic2\", \"Topic2\", \"Topic2\", \"Topic2\", \"Topic2\", \"Topic2\", \"Topic2\", \"Topic2\", \"Topic2\", \"Topic2\", \"Topic2\", \"Topic2\", \"Topic2\", \"Topic2\", \"Topic2\", \"Topic2\", \"Topic2\", \"Topic2\", \"Topic2\", \"Topic2\", \"Topic2\", \"Topic2\", \"Topic2\", \"Topic2\", \"Topic2\", \"Topic2\", \"Topic2\", \"Topic2\", \"Topic2\", \"Topic2\", \"Topic2\", \"Topic2\", \"Topic2\", \"Topic2\", \"Topic2\", \"Topic2\", \"Topic2\", \"Topic2\", \"Topic2\", \"Topic2\", \"Topic2\", \"Topic2\", \"Topic2\", \"Topic2\", \"Topic2\", \"Topic2\", \"Topic2\", \"Topic2\", \"Topic2\", \"Topic2\", \"Topic2\", \"Topic2\", \"Topic2\", \"Topic2\", \"Topic2\", \"Topic2\", \"Topic2\", \"Topic2\", \"Topic2\", \"Topic2\", \"Topic2\", \"Topic2\", \"Topic3\", \"Topic3\", \"Topic3\", \"Topic3\", \"Topic3\", \"Topic3\", \"Topic3\", \"Topic3\", \"Topic3\", \"Topic3\", \"Topic3\", \"Topic3\", \"Topic3\", \"Topic3\", \"Topic3\", \"Topic3\", \"Topic3\", \"Topic3\", \"Topic3\", \"Topic3\", \"Topic3\", \"Topic3\", \"Topic3\", \"Topic3\", \"Topic3\", \"Topic3\", \"Topic3\", \"Topic3\", \"Topic3\", \"Topic3\", \"Topic3\", \"Topic3\", \"Topic3\", \"Topic3\", \"Topic3\", \"Topic3\", \"Topic3\", \"Topic3\", \"Topic3\", \"Topic3\", \"Topic3\", \"Topic3\", \"Topic3\", \"Topic3\", \"Topic3\", \"Topic3\", \"Topic3\", \"Topic3\", \"Topic3\", \"Topic3\", \"Topic3\", \"Topic3\", \"Topic3\", \"Topic3\", \"Topic3\", \"Topic3\", \"Topic3\", \"Topic3\", \"Topic3\", \"Topic3\", \"Topic3\", \"Topic4\", \"Topic4\", \"Topic4\", \"Topic4\", \"Topic4\", \"Topic4\", \"Topic4\", \"Topic4\", \"Topic4\", \"Topic4\", \"Topic4\", \"Topic4\", \"Topic4\", \"Topic4\", \"Topic4\", \"Topic4\", \"Topic4\", \"Topic4\", \"Topic4\", \"Topic4\", \"Topic4\", \"Topic4\", \"Topic4\", \"Topic4\", \"Topic4\", \"Topic4\", \"Topic4\", \"Topic4\", \"Topic4\", \"Topic4\", \"Topic4\", \"Topic4\", \"Topic4\", \"Topic4\", \"Topic4\", \"Topic4\", \"Topic4\", \"Topic4\", \"Topic4\", \"Topic4\", \"Topic4\", \"Topic4\", \"Topic4\", \"Topic4\", \"Topic4\", \"Topic4\", \"Topic4\", \"Topic4\", \"Topic4\", \"Topic4\", \"Topic4\", \"Topic4\", \"Topic4\", \"Topic4\", \"Topic4\", \"Topic4\", \"Topic4\", \"Topic4\", \"Topic4\", \"Topic4\", \"Topic4\", \"Topic4\", \"Topic4\", \"Topic4\", \"Topic5\", \"Topic5\", \"Topic5\", \"Topic5\", \"Topic5\", \"Topic5\", \"Topic5\", \"Topic5\", \"Topic5\", \"Topic5\", \"Topic5\", \"Topic5\", \"Topic5\", \"Topic5\", \"Topic5\", \"Topic5\", \"Topic5\", \"Topic5\", \"Topic5\", \"Topic5\", \"Topic5\", \"Topic5\", \"Topic5\", \"Topic5\", \"Topic5\", \"Topic5\", \"Topic5\", \"Topic5\", \"Topic5\", \"Topic5\", \"Topic5\", \"Topic5\", \"Topic5\", \"Topic5\", \"Topic5\", \"Topic5\", \"Topic5\", \"Topic5\", \"Topic5\", \"Topic5\", \"Topic5\", \"Topic5\", \"Topic5\", \"Topic5\", \"Topic5\", \"Topic5\", \"Topic5\", \"Topic5\", \"Topic5\", \"Topic5\", \"Topic5\", \"Topic5\", \"Topic6\", \"Topic6\", \"Topic6\", \"Topic6\", \"Topic6\", \"Topic6\", \"Topic6\", \"Topic6\", \"Topic6\", \"Topic6\", \"Topic6\", \"Topic6\", \"Topic6\", \"Topic6\", \"Topic6\", \"Topic6\", \"Topic6\", \"Topic6\", \"Topic6\", \"Topic6\", \"Topic6\", \"Topic6\", \"Topic6\", \"Topic6\", \"Topic6\", \"Topic6\", \"Topic6\", \"Topic6\", \"Topic6\", \"Topic6\", \"Topic6\", \"Topic6\", \"Topic6\", \"Topic6\", \"Topic6\", \"Topic6\", \"Topic6\", \"Topic6\", \"Topic6\", \"Topic7\", \"Topic7\", \"Topic7\", \"Topic7\", \"Topic7\", \"Topic7\", \"Topic7\", \"Topic7\", \"Topic7\", \"Topic7\", \"Topic7\", \"Topic7\", \"Topic7\", \"Topic7\", \"Topic7\", \"Topic7\", \"Topic7\", \"Topic7\", \"Topic7\", \"Topic7\", \"Topic7\", \"Topic7\", \"Topic7\", \"Topic7\", \"Topic7\", \"Topic7\", \"Topic7\", \"Topic7\", \"Topic7\", \"Topic7\", \"Topic7\", \"Topic7\", \"Topic7\", \"Topic7\", \"Topic8\", \"Topic8\", \"Topic8\", \"Topic8\", \"Topic8\", \"Topic8\", \"Topic8\", \"Topic8\", \"Topic8\", \"Topic8\", \"Topic8\", \"Topic8\", \"Topic8\", \"Topic8\", \"Topic8\", \"Topic8\", \"Topic8\", \"Topic8\", \"Topic8\", \"Topic8\", \"Topic8\", \"Topic8\", \"Topic8\", \"Topic8\", \"Topic8\", \"Topic8\", \"Topic8\", \"Topic8\", \"Topic8\", \"Topic8\", \"Topic8\", \"Topic8\", \"Topic8\", \"Topic8\", \"Topic9\", \"Topic9\", \"Topic9\", \"Topic9\", \"Topic9\", \"Topic9\", \"Topic9\", \"Topic9\", \"Topic9\", \"Topic9\", \"Topic9\", \"Topic9\", \"Topic9\", \"Topic9\", \"Topic9\", \"Topic9\", \"Topic9\", \"Topic9\", \"Topic9\", \"Topic9\", \"Topic9\", \"Topic9\", \"Topic9\", \"Topic9\", \"Topic9\", \"Topic9\", \"Topic9\", \"Topic9\", \"Topic9\", \"Topic9\", \"Topic9\", \"Topic9\", \"Topic9\", \"Topic10\", \"Topic10\", \"Topic10\", \"Topic10\", \"Topic10\", \"Topic10\", \"Topic10\", \"Topic10\", \"Topic10\", \"Topic10\", \"Topic10\", \"Topic10\", \"Topic10\", \"Topic10\", \"Topic10\", \"Topic10\", \"Topic10\", \"Topic10\", \"Topic10\", \"Topic10\", \"Topic10\", \"Topic10\", \"Topic10\", \"Topic10\", \"Topic10\", \"Topic10\", \"Topic10\", \"Topic10\", \"Topic10\", \"Topic10\", \"Topic10\", \"Topic10\", \"Topic10\", \"Topic10\", \"Topic10\", \"Topic10\", \"Topic10\", \"Topic10\", \"Topic10\", \"Topic10\", \"Topic10\", \"Topic10\", \"Topic10\", \"Topic10\", \"Topic10\", \"Topic10\", \"Topic10\", \"Topic10\", \"Topic10\", \"Topic10\", \"Topic10\", \"Topic10\", \"Topic10\", \"Topic10\", \"Topic10\", \"Topic10\", \"Topic10\", \"Topic10\", \"Topic10\", \"Topic10\", \"Topic10\", \"Topic10\", \"Topic10\", \"Topic10\", \"Topic10\", \"Topic10\", \"Topic10\", \"Topic10\", \"Topic10\", \"Topic10\", \"Topic10\", \"Topic10\", \"Topic10\", \"Topic10\"], \"Freq\": [465.0, 280.0, 141.0, 162.0, 41.0, 116.0, 368.0, 74.0, 60.0, 73.0, 86.0, 37.0, 264.0, 50.0, 32.0, 249.0, 42.0, 93.0, 25.0, 32.0, 38.0, 46.0, 21.0, 27.0, 31.0, 22.0, 26.0, 133.0, 19.0, 21.0, 22.13347625732422, 11.903707504272461, 11.00732421875, 10.119806289672852, 9.223832130432129, 9.216706275939941, 8.3214750289917, 8.324315071105957, 8.31988525390625, 8.319228172302246, 12.295211791992188, 8.29948616027832, 7.425822734832764, 7.425440788269043, 7.422740936279297, 7.421230792999268, 7.408626556396484, 7.415088176727295, 7.414586544036865, 7.418346881866455, 7.953400135040283, 6.525274753570557, 6.525115013122559, 6.522546291351318, 6.51589298248291, 27.403934478759766, 5.6244306564331055, 5.624070167541504, 5.621743679046631, 5.6170196533203125, 36.707176208496094, 8.652691841125488, 37.46711349487305, 15.297564506530762, 150.192138671875, 20.434185028076172, 146.36778259277344, 192.79176330566406, 255.0064239501953, 312.22760009765625, 23.882610321044922, 11.822598457336426, 26.518911361694336, 84.08549499511719, 67.64315795898438, 110.49916076660156, 22.862979888916016, 61.876136779785156, 32.78985595703125, 69.50401306152344, 85.78990936279297, 57.70037841796875, 39.510440826416016, 44.913394927978516, 144.74717712402344, 43.300697326660156, 84.26286315917969, 44.74654769897461, 36.483619689941406, 59.06810760498047, 132.3661651611328, 32.52057647705078, 35.79999923706055, 47.71726989746094, 46.959205627441406, 35.59089279174805, 36.26451873779297, 33.9774055480957, 24.391651153564453, 7.374091625213623, 7.375619888305664, 6.578457355499268, 6.577476978302002, 4.169495582580566, 3.3861961364746094, 3.3862245082855225, 3.3861382007598877, 3.386190176010132, 3.3860435485839844, 3.3859496116638184, 3.385209083557129, 3.3853142261505127, 3.385646104812622, 3.384915351867676, 3.3855903148651123, 3.3835678100585938, 3.382262945175171, 4.1828532218933105, 2.5880932807922363, 2.5881011486053467, 2.5880818367004395, 2.588071584701538, 2.5880801677703857, 2.588089942932129, 2.588073253631592, 2.588067054748535, 2.588078260421753, 2.5880329608917236, 7.376351833343506, 7.1029744148254395, 10.561874389648438, 11.805826187133789, 4.18346643447876, 6.40327262878418, 11.343276023864746, 4.961012363433838, 7.141658782958984, 8.039952278137207, 11.115964889526367, 103.77359771728516, 109.11498260498047, 42.81931686401367, 19.092376708984375, 6.505918025970459, 14.116514205932617, 34.47819900512695, 25.00200843811035, 89.58028411865234, 9.293432235717773, 19.81502914428711, 13.831574440002441, 93.61412048339844, 39.62083053588867, 28.394533157348633, 57.75169372558594, 31.106258392333984, 42.230987548828125, 25.3979549407959, 23.306854248046875, 18.012582778930664, 19.4100284576416, 20.490205764770508, 14.945313453674316, 21.550588607788086, 29.372373580932617, 11.755562782287598, 20.036611557006836, 22.45703125, 16.477588653564453, 15.357175827026367, 14.051981925964355, 15.161238670349121, 1.7294124364852905, 1.7280352115631104, 1.321677565574646, 0.9142684936523438, 0.9142627716064453, 0.9142633080482483, 0.9142634272575378, 0.9142556190490723, 0.9142547845840454, 0.9142501950263977, 0.9142364263534546, 0.914164125919342, 0.9141882658004761, 0.9141128063201904, 0.9141315817832947, 0.9141046404838562, 0.9141367077827454, 0.9141119718551636, 0.9140967130661011, 0.9140669107437134, 0.9140884280204773, 1.7150053977966309, 0.9141505360603333, 1.3216660022735596, 1.31975519657135, 0.5812787413597107, 0.5065528154373169, 0.5065522789955139, 0.5065501928329468, 0.5065497159957886, 0.506549596786499, 1.2871097326278687, 1.256300687789917, 1.5766189098358154, 0.9142408967018127, 0.9098560214042664, 1.2684979438781738, 9.85253620147705, 5.5840229988098145, 1.5772619247436523, 6.499553203582764, 7.1977739334106445, 6.876528263092041, 1.578880786895752, 1.6574817895889282, 2.708153247833252, 1.3010444641113281, 1.7095067501068115, 3.0780575275421143, 3.32458233833313, 1.2368988990783691, 2.7410926818847656, 1.32179594039917, 1.7397385835647583, 2.275907278060913, 1.5700653791427612, 1.3885232210159302, 1.731464147567749, 1.6322476863861084, 1.3148664236068726, 1.3048005104064941, 10.032301902770996, 10.032301902770996, 10.167292594909668, 5.12352180480957, 5.157174110412598, 5.05502462387085, 5.05499267578125, 5.054962635040283, 5.020301342010498, 5.020301342010498, 5.020301342010498, 5.020301342010498, 5.020301342010498, 5.020301342010498, 5.020301342010498, 5.020301342010498, 5.020301342010498, 5.020301342010498, 5.020301342010498, 5.020301342010498, 5.020301342010498, 5.020301342010498, 5.020301342010498, 5.020301342010498, 5.020301342010498, 5.020301342010498, 5.020301342010498, 5.020301342010498, 5.020301342010498, 5.020301342010498, 5.187963485717773, 5.121693134307861, 5.188193321228027, 5.054138660430908, 36.06733703613281, 5.052036762237549, 5.114647388458252, 51.562042236328125, 36.08062744140625, 25.776933670043945, 5.051141262054443, 15.381629943847656, 5.1901350021362305, 10.223367691040039, 5.10292911529541, 10.233518600463867, 15.444062232971191, 5.180976867675781, 10.290939331054688, 10.350373268127441, 5.184959411621094, 10.533648490905762, 15.430148124694824, 10.371480941772461, 5.2613911628723145, 5.298452854156494, 5.119845390319824, 5.304302215576172, 5.2914934158325195, 5.204263687133789, 5.204588890075684, 5.196540355682373, 5.195024013519287, 5.192780494689941, 40.92100143432617, 1.4541195631027222, 0.8994109630584717, 0.899420440196991, 0.8993403315544128, 0.8986737132072449, 0.8855369687080383, 0.6221416592597961, 0.622092604637146, 0.6220807433128357, 0.622078001499176, 0.6220777630805969, 0.6220682263374329, 0.6220653057098389, 0.6220279932022095, 0.6220253109931946, 0.6220515370368958, 0.6220080256462097, 0.6219459772109985, 0.6219426393508911, 0.621910572052002, 0.6218991279602051, 0.6218849420547485, 0.6211581826210022, 0.6211485862731934, 0.34464141726493835, 0.34464141726493835, 0.34464141726493835, 0.34464141726493835, 0.34464141726493835, 0.34464141726493835, 0.34464141726493835, 0.34464141726493835, 0.34464141726493835, 0.8069137334823608, 1.1758296489715576, 0.6217807531356812, 1.1767518520355225, 0.9078102111816406, 1.5523823499679565, 1.0437071323394775, 0.8989747166633606, 1.557395100593567, 1.7625513076782227, 1.5406367778778076, 1.0568368434906006, 0.735967755317688, 0.6753976941108704, 0.6270319819450378, 0.6249072551727295, 0.6232108473777771, 0.6221340894699097, 0.46080583333969116, 0.3187226951122284, 0.31872180104255676, 0.31872132420539856, 0.31872087717056274, 0.3187204599380493, 0.3187199532985687, 0.31871911883354187, 0.31868934631347656, 0.318669855594635, 0.3186623156070709, 0.17664851248264313, 0.17664851248264313, 0.17664851248264313, 0.17659421265125275, 0.17659391462802887, 0.17659391462802887, 0.17659388482570648, 0.17659351229667664, 0.1765933334827423, 0.17659378051757812, 0.17659345269203186, 0.17659342288970947, 0.17659318447113037, 0.17659339308738708, 0.1765933632850647, 0.17659327387809753, 0.17659318447113037, 0.17659327387809753, 0.17659327387809753, 0.17659342288970947, 0.30834323167800903, 0.406174898147583, 0.29829829931259155, 0.19942431151866913, 0.19049443304538727, 0.17665010690689087, 0.17664898931980133, 0.17664699256420135, 0.14965449273586273, 0.14965341985225677, 0.14965280890464783, 0.14964859187602997, 0.14964789152145386, 0.08290431648492813, 0.08290459960699081, 0.0829043984413147, 0.08290408551692963, 0.08290398120880127, 0.08290408551692963, 0.08290399610996246, 0.08290410041809082, 0.08290397375822067, 0.08290397375822067, 0.082903653383255, 0.08290380984544754, 0.08290351927280426, 0.08290357142686844, 0.0829036757349968, 0.08290351927280426, 0.08290325850248337, 0.08290349692106247, 0.08290327340364456, 0.08290277421474457, 0.08289587497711182, 0.08289603143930435, 0.08289585262537003, 0.08289560675621033, 0.0828956738114357, 0.08289559185504913, 0.0828956812620163, 0.08289565145969391, 0.08290566504001617, 0.3175024390220642, 0.1358242779970169, 0.07528339326381683, 0.07528331875801086, 0.07528328895568848, 0.07528329640626907, 0.07528314739465714, 0.07528306543827057, 0.07523196935653687, 0.07523195445537567, 0.0752318799495697, 0.07523190975189209, 0.0752318948507309, 0.07523171603679657, 0.07523155212402344, 0.07523155957460403, 0.07523154467344284, 0.0752313956618309, 0.07523142546415329, 0.07523123174905777, 0.07523127645254135, 0.0752311497926712, 0.0752311646938324, 0.07523109018802643, 0.07523107528686523, 0.07523109018802643, 0.07523093372583389, 0.07523100078105927, 0.07523084431886673, 0.07523087412118912, 0.18248668313026428, 0.07523086667060852, 0.16861973702907562, 0.08743301033973694, 0.03882646933197975, 0.03882633522152901, 0.03882630541920662, 0.03882630169391632, 0.038825761526823044, 0.03882494196295738, 0.038824815303087234, 0.03879568725824356, 0.03879567235708237, 0.038795437663793564, 0.038795411586761475, 0.03879537060856819, 0.03879530355334282, 0.03879527002573013, 0.038795106112957, 0.038795098662376404, 0.038794875144958496, 0.03879464417695999, 0.038794487714767456, 0.0387943759560585, 0.03879346698522568, 0.038789983838796616, 0.03773863613605499, 0.03768359497189522, 0.03882034868001938, 0.038230542093515396, 0.03882811963558197, 0.03882342204451561, 0.03881954774260521, 0.007621622644364834, 0.007621627766638994, 0.007621679920703173, 0.008385737426578999, 0.0003807943139690906, 0.0003807943139690906, 0.0003807943139690906, 0.0003807943139690906, 0.0003807943139690906, 0.0003807943139690906, 0.0003807943139690906, 0.0003807943139690906, 0.0003807943139690906, 0.0003807943139690906, 0.0003807943139690906, 0.0003807943139690906, 0.0003807943139690906, 0.0003807943139690906, 0.0003807943139690906, 0.0003807943139690906, 0.0003807943139690906, 0.0003807943139690906, 0.0003807943139690906, 0.0003807943139690906, 0.0003807943139690906, 0.0003807943139690906, 0.0003807962348219007, 0.00038079547812230885, 0.0003807955072261393, 0.00038079568184912205, 0.00038079547812230885, 0.0003807952452916652, 0.0003807951579801738, 0.00038079495425336063, 0.0003807953908108175, 0.00038079568184912205, 0.0003807957109529525, 0.0003807955072261393, 0.00038083354593254626, 0.0003807957109529525, 0.00038082918035797775, 0.0003807959728874266, 0.00038082554237917066, 0.00038082487299107015, 0.0003808237088378519, 0.0003808236215263605, 0.0003808236215263605, 0.00038081794627942145, 0.00038150823093019426, 0.00038140223477967083, 0.0003813857038039714, 0.00038135223439894617, 0.000381231278879568, 0.00038118826341815293, 0.0003811812202911824, 0.00038107295404188335, 0.0003810616908594966, 0.0003810468188021332, 0.00038103494443930686, 0.00038101361133158207, 0.00038098046206869185, 0.00038097883225418627, 0.00038097763899713755, 0.0003809681220445782, 0.00038095825584605336, 0.0003809427435044199, 0.00038093107286840677, 0.00038092859904281795, 0.0003809271438512951, 0.0003809187619481236, 0.0003809081681538373, 0.00038090706220827997, 0.0003809043555520475, 0.00038090115413069725, 0.0003808991168625653, 0.0003808991168625653, 0.00038089253939688206, 0.0003808900946751237], \"Term\": [\"the\", \"to\", \"is\", \"of\", \"Last\", \"The\", \"and\", \"have\", \"but\", \"you\", \"\\n\\n\", \"very\", \"a\", \"not\", \"This\", \"I\", \"are\", \"it\", \"i\", \"get\", \"be\", \"at\", \"only\", \"an\", \"all\", \"got\", \"out\", \"for\", \"two\", \"service\", \"food\", \"good.\", \"you're\", \"amazing\", \"worth\", \"ice\", \"thing\", \" \\n\\n\", \"friendly\", \"menu\", \"definitely\", \"side\", \"being\", \"fries\", \"ever\", \"feel\", \"long\", \"near\", \"It's\", \"where\", \"way\", \"breakfast\", \"show\", \"sauce\", \"prices\", \"good\", \"again.\", \"Vegas\", \"good,\", \"cream\", \"We\", \"lunch\", \"\\n\", \"too\", \" \", \"some\", \"was\", \"a\", \"and\", \"the\", \"our\", \"nice\", \"place\", \"The\", \"it\", \"of\", \"here\", \"with\", \"we\", \"in\", \"for\", \"on\", \"this\", \"had\", \"I\", \"but\", \"is\", \"-\", \"as\", \"my\", \"to\", \"so\", \"were\", \"\\n\\n\", \"that\", \"they\", \"you\", \"have\", \"i\", \"she\", \"_\", \"RAC\", \"'\", \"behind\", \"Jerry\", \"phone\", \"Bianco's\", \"number\", \"Zipps\", \"ended\", \"Bang\", \"far\", \";\", \"move\", \"`\", \"waited\", \"bartenders\", \"day\", \"emergency\", \"sold\", \"selling\", \"Would\", \"appointment\", \"rescue\", \"wait.\", \"you.\", \"line\", \"matter\", \"So\", \"want\", \"called\", \"  \", \"me.\", \"best\", \"then\", \"know\", \"work\", \",\", \"he\", \"I\", \"to\", \"that\", \"their\", \"said\", \"up\", \"my\", \"they\", \"and\", \"about\", \"me\", \"would\", \"the\", \"for\", \"\\n\\n\", \"a\", \"in\", \"was\", \"on\", \"have\", \"were\", \"-\", \"you\", \"be\", \"with\", \" \", \"them\", \"it\", \"of\", \"had\", \"not\", \"as\", \"The\", \"apartment\", \"hot\", \"places\", \"noodle\", \"Buffet\", \"buffet\", \"nyam\", \"question\", \"Tan\", \"School\", \"matcha\", \"located\", \"(the\", \"outstanding!\", \"reservation\", \"Booming\", \"special\", \"larger\", \"Toronto.\", \"mall\", \"cost\", \"San\", \"variety\", \"shopping\", \"live\", \"burgers\", \"Naan\", \"Solid\", \"$11\", \"legit\", \"Non-Veggie,\", \"cream,\", \"excellent\", \"sweet\", \"whipped\", \"speak\", \"beautiful\", \"\\n\\n\", \"you\", \"selection\", \"is\", \"and\", \"the\", \"store\", \"new\", \"are\", \"always\", \",\", \"in\", \"a\", \"bar\", \"of\", \"best\", \"at\", \"to\", \"so\", \"great\", \"for\", \"with\", \"had\", \"have\", \"cigar\", \"roof\", \"top\", \"bar.\", \"First\", \"here!\", \"customers\", \"all,\", \"yourself\", \"vantage\", \"January,\", \"Puro!!!!!!!!\", \"Second\", \"aficionado\", \"approve.\", \"awaiting\", \"Puro\", \"ground\", \"place!!!\", \"stories.\", \"stairs\", \"spectacular\", \"proper!!\", \"helpful!!\", \"point!\", \"patio!\", \"impeccable!!\", \"members\", \"level,\", \"least\", \"customer\", \"check\", \"staff\", \"superb,\", \"is\", \"city\", \"Chandler\", \"the\", \"to\", \"of\", \"open\", \"have\", \"All\", \"This\", \"actually\", \"very\", \"The\", \"cool\", \"not\", \"but\", \"end\", \"you\", \"and\", \"a\", \"first\", \"do\", \"use\", \"will\", \"are\", \"just\", \"all\", \"for\", \"at\", \"out\", \"Last\", \"IMAX\", \"3D\", \"AMC\", \"dim\", \"sum.\", \"start\", \"eggplant\", \"become\", \"theaters\", \"tickets\", \"wide\", \"ticket\", \"theater.\", \"movies\", \"Superman\", \"popcorn\", \"certain\", \"Went\", \"reasonable\", \"(pork\", \"mai\", \"dumpling\", \"water\", \"once\", \"nice...\", \"uncomfortable\", \"raw.\", \"Hawaiian\", \"margarita\", \"great...\", \"Ordered\", \"back...\", \"Seats\", \"space\", \"--\", \"bite\", \"food.\", \"offer\", \"pretty\", \"movie\", \"always\", \"are\", \"is\", \"the\", \"and\", \"for\", \"The\", \"all\", \"i\", \"sound\", \"several\", \"Safeway\", \"\\n                         \", \"vaccines.\", \"vacciness\", \"\\n                                                         \", \"$\", \"Pharmacy\", \"Adacel\", \"However\", \"veteran,\", \"military\", \"produce\", \"breakfast/brunch\", \"foods\", \"Toxoids\", \"gap\", \"Mums,Measles,\", \"guess.\", \"3.Tida\", \"(Tetatnus\", \":\", \"each.Call\", \"discount\", \"month's\", \"grocery\", \"Trust\", \"Doctors\", \"insurance\", \"clinic\", \"grocery.Thier\", \"Safeway.\", \"talk\", \"service.\", \"day.\", \"same\", \"asked\", \"food.\", \"Horrible\", \"takes\", \"spot.\", \"oz\", \"four\", \"Burger\", \"Its\", \"gaming\", \"Dolls\", \"pitcher\", \"among\", \"fishbowl\", \"Pussycat\", \"liked\", \"booze\", \"Confusing\", \"straws.\", \"though:\", \"???\", \"mixed\", \"60\", \"$26.\", \"vs.\", \"juice,\", \"tables.\", \"book\", \"$7.\", \"OMG!\", \"That\", \"grill\", \"teen.\", \"messy\", \"Now\", \"mine\", \"reminded\", \"portions\", \"nail\", \"pedicure\", \"relax\", \"gelato,\", \"Big\", \"game.\", \"price!!!\", \"had.\", \"pedis\", \"concerned!\", \"coarse\", \"jealous\", \"your'e\", \"weird\", \"salon\", \"Charlotte,Nc\", \"nailed\", \"kinds\", \"jelly\", \"seat\", \"addition\", \"Unique\", \"palette\", \"darn\", \"funniest\", \"add\", \"serviced\", \"$60\", \"settled\", \"step\", \"shop\", \"gorgeous\", \"i\", \"best\", \"prime\", \"did.\", \"d\", \"Man\", \"filet\", \"rib\", \"Glad\", \"GREAT\", \"ran\", \"buddies\", \"instead.\", \"half\", \"potatoes!\", \"obvious\", \"rub\", \"potatoes,\", \"roasted\", \":(:(:(\", \"bummer\", \"mashed\", \"okay,\", \"bartender,\", \"bother\", \"was,\", \"sandwich\", \"Since\", \"finally\", \"Very\", \"special.\", \"guess\", \"fly\", \"beyond\", \"Had\", \"Man\", \"d\", \"prime\", \"did.\", \"filet\", \"rib\", \"Glad\", \"GREAT\", \"buddies\", \"instead.\", \"ran\", \"potatoes!\", \"half\", \"obvious\", \"roasted\", \"rub\", \"potatoes,\", \":(:(:(\", \"mashed\", \"bummer\", \"okay,\", \"bartender,\", \"guess\", \"YOLO\", \"excited\", \"end.\", \"fly\", \"$5.\", \"gambling.\", \"Decided\", \"Pros:\", \"relatively\", \"vs\", \"drinking\", \"lame.\", \"ride,\", \"closed\", \"aerial\", \"Facebook.\", \"very..\", \"convinced\", \"AND\", \"\\\"table\\\"\", \"party...\", \"to\", \"and\", \"I\", \"a\", \"my\", \"for\", \"the\", \"was\", \"me\", \"they\", \"in\", \"of\", \"i\", \"have\", \"it\", \"you\", \"on\", \"their\", \"is\", \"were\", \"them\", \"that\", \"\\n\\n\", \"who\", \"up\", \"just\", \"so\", \"as\", \"from\", \"this\"], \"Total\": [465.0, 280.0, 141.0, 162.0, 41.0, 116.0, 368.0, 74.0, 60.0, 73.0, 86.0, 37.0, 264.0, 50.0, 32.0, 249.0, 42.0, 93.0, 25.0, 32.0, 38.0, 46.0, 21.0, 27.0, 31.0, 22.0, 26.0, 133.0, 19.0, 21.0, 22.852827072143555, 12.358237266540527, 11.461270332336426, 10.57111930847168, 9.669573783874512, 9.666997909545898, 8.765886306762695, 8.769620895385742, 8.765828132629395, 8.766042709350586, 12.971471786499023, 8.756804466247559, 7.8697686195373535, 7.869665145874023, 7.868383407592773, 7.866940021514893, 7.8551836013793945, 7.863167762756348, 7.863669395446777, 7.86845064163208, 8.456181526184082, 6.969147205352783, 6.96901798248291, 6.968233108520508, 6.962406635284424, 29.300006866455078, 6.068276405334473, 6.067922592163086, 6.066990375518799, 6.0661773681640625, 39.910362243652344, 9.35670280456543, 41.595970153808594, 16.692829132080078, 180.21273803710938, 22.916412353515625, 188.8879852294922, 264.47723388671875, 368.34564208984375, 465.8950500488281, 28.102140426635742, 13.158629417419434, 32.3162956237793, 116.49557495117188, 93.29185485839844, 162.06207275390625, 27.719396591186523, 85.22056579589844, 42.686527252197266, 103.8458480834961, 133.1593017578125, 83.59883880615234, 53.73393630981445, 62.856624603271484, 249.0655975341797, 60.74629592895508, 141.2687225341797, 65.42093658447266, 51.347816467285156, 94.49503326416016, 280.46630859375, 45.23686599731445, 54.134849548339844, 86.11644744873047, 90.30441284179688, 61.91439437866211, 73.42814636230469, 74.3368148803711, 25.591022491455078, 7.843388080596924, 7.845219135284424, 7.047372341156006, 7.047166347503662, 4.644890308380127, 3.8550992012023926, 3.855135202407837, 3.85506010055542, 3.8551368713378906, 3.854975938796997, 3.8549082279205322, 3.854161262512207, 3.8543081283569336, 3.8548333644866943, 3.854055166244507, 3.8548357486724854, 3.852635145187378, 3.852006435394287, 4.928923606872559, 3.0569803714752197, 3.0570006370544434, 3.0569849014282227, 3.0569770336151123, 3.05698823928833, 3.0570013523101807, 3.0569844245910645, 3.0569779872894287, 3.0569911003112793, 3.0569424629211426, 8.743828773498535, 8.526382446289062, 12.838951110839844, 15.057668685913086, 5.05944299697876, 8.168359756469727, 15.808661460876465, 6.352525234222412, 9.675344467163086, 11.213849067687988, 16.370590209960938, 249.0655975341797, 280.46630859375, 90.30441284179688, 33.31729507446289, 8.857132911682129, 25.89450454711914, 94.49503326416016, 61.91439437866211, 368.34564208984375, 15.696331977844238, 45.87720489501953, 28.62025260925293, 465.8950500488281, 133.1593017578125, 86.11644744873047, 264.47723388671875, 103.8458480834961, 188.8879852294922, 83.59883880615234, 74.3368148803711, 54.134849548339844, 65.42093658447266, 73.42814636230469, 38.529808044433594, 85.22056579589844, 180.21273803710938, 23.579524993896484, 93.29185485839844, 162.06207275390625, 62.856624603271484, 50.6539421081543, 51.347816467285156, 116.49557495117188, 2.2935781478881836, 2.29239559173584, 1.8858661651611328, 1.478415608406067, 1.4784108400344849, 1.4784114360809326, 1.47841215133667, 1.4784072637557983, 1.478406548500061, 1.4784045219421387, 1.4784327745437622, 1.478330135345459, 1.478372573852539, 1.4782938957214355, 1.4783259630203247, 1.4782925844192505, 1.4783494472503662, 1.4783309698104858, 1.4783886671066284, 1.478417992591858, 1.5455565452575684, 3.2096152305603027, 1.7552273273468018, 2.6795008182525635, 2.6808624267578125, 1.1998873949050903, 1.0707073211669922, 1.070706844329834, 1.0707049369812012, 1.0707043409347534, 1.0707041025161743, 2.8268861770629883, 2.8641953468322754, 4.279209136962891, 2.2747106552124023, 2.271101951599121, 3.751096248626709, 86.11644744873047, 73.42814636230469, 5.801172733306885, 141.2687225341797, 368.34564208984375, 465.8950500488281, 7.485534191131592, 8.928736686706543, 42.207908630371094, 4.332112789154053, 11.213849067687988, 103.8458480834961, 264.47723388671875, 5.1574249267578125, 162.06207275390625, 8.168359756469727, 46.104713439941406, 280.46630859375, 45.23686599731445, 25.718090057373047, 133.1593017578125, 85.22056579589844, 62.856624603271484, 74.3368148803711, 10.689434051513672, 10.689434051513672, 10.859041213989258, 5.778975486755371, 5.818047523498535, 5.710545539855957, 5.710887908935547, 5.711400032043457, 5.676339149475098, 5.676339149475098, 5.676339149475098, 5.676339149475098, 5.676339149475098, 5.676339149475098, 5.676339149475098, 5.676339149475098, 5.676339149475098, 5.676339149475098, 5.676339149475098, 5.676339149475098, 5.676339149475098, 5.676339149475098, 5.676339149475098, 5.676339149475098, 5.676339149475098, 5.676339149475098, 5.676339149475098, 5.676339149475098, 5.676339149475098, 5.676339149475098, 5.877912521362305, 5.79901647567749, 5.884267807006836, 5.7195963859558105, 141.2687225341797, 5.735594749450684, 5.8735032081604, 465.8950500488281, 280.46630859375, 162.06207275390625, 5.752631664276123, 74.3368148803711, 6.138260364532471, 32.432464599609375, 5.925042152404785, 37.93817138671875, 116.49557495117188, 6.203502178192139, 50.6539421081543, 60.74629592895508, 6.331066131591797, 73.42814636230469, 368.34564208984375, 264.47723388671875, 7.450514793395996, 9.042712211608887, 6.745422840118408, 19.904388427734375, 42.207908630371094, 22.835636138916016, 31.05955696105957, 133.1593017578125, 46.104713439941406, 26.37165641784668, 41.51740264892578, 2.0502066612243652, 1.4954313039779663, 1.495492935180664, 1.4954971075057983, 1.496986746788025, 1.4848644733428955, 1.2180507183074951, 1.2180452346801758, 1.218043327331543, 1.218039870262146, 1.2180460691452026, 1.218063235282898, 1.2180742025375366, 1.2180054187774658, 1.2180112600326538, 1.2181035280227661, 1.218037486076355, 1.2180861234664917, 1.2180975675582886, 1.2181047201156616, 1.2181206941604614, 1.2181565761566162, 1.2175661325454712, 1.2176241874694824, 0.9405632019042969, 0.9405632019042969, 0.9405632019042969, 0.9405632019042969, 0.9405632019042969, 0.9405632019042969, 0.9405632019042969, 0.9405632019042969, 0.9405632019042969, 2.601433038711548, 4.167455673217773, 2.014641523361206, 5.105475425720215, 4.277560710906982, 10.637974739074707, 6.471303939819336, 4.332112789154053, 42.207908630371094, 141.2687225341797, 465.8950500488281, 368.34564208984375, 133.1593017578125, 116.49557495117188, 31.05955696105957, 25.591022491455078, 5.716629505157471, 3.2203283309936523, 1.0897648334503174, 0.9476613998413086, 0.9476622939109802, 0.9476629495620728, 0.9476622939109802, 0.9476616382598877, 0.9476662874221802, 0.9476651549339294, 0.9476594924926758, 0.9476762413978577, 0.9477083683013916, 0.8055455088615417, 0.8055455088615417, 0.8055455088615417, 0.8055360317230225, 0.8055348992347717, 0.8055352568626404, 0.8055352568626404, 0.8055352568626404, 0.8055347204208374, 0.805537223815918, 0.8055362105369568, 0.805536150932312, 0.8055354952812195, 0.8055365681648254, 0.8055363893508911, 0.8055360913276672, 0.8055359721183777, 0.8055362701416016, 0.805536150932312, 0.8055371642112732, 1.9017720222473145, 3.966287612915039, 2.2453219890594482, 4.908775329589844, 3.2560572624206543, 5.105475425720215, 1.6021409034729004, 0.8400660157203674, 0.796984851360321, 0.796990156173706, 0.7969914078712463, 0.7969893217086792, 0.7969951629638672, 0.7302457690238953, 0.7302483320236206, 0.7302475571632385, 0.7302469611167908, 0.7302470207214355, 0.7302483916282654, 0.730248212814331, 0.730250895023346, 0.7302506566047668, 0.7302508354187012, 0.7302508354187012, 0.7302528619766235, 0.7302507162094116, 0.730251133441925, 0.7302524447441101, 0.7302526235580444, 0.7302512526512146, 0.7302533984184265, 0.7302547097206116, 0.730255663394928, 0.7302432656288147, 0.7302456498146057, 0.7302454710006714, 0.7302441596984863, 0.7302446961402893, 0.7302444577217102, 0.730248212814331, 0.7302465438842773, 1.007192611694336, 0.9663870334625244, 0.7846758961677551, 0.7240777015686035, 0.7240777015686035, 0.7240776419639587, 0.7240776419639587, 0.724077582359314, 0.7240775227546692, 0.7241014242172241, 0.7241023182868958, 0.7241016626358032, 0.7241023778915405, 0.7241024971008301, 0.7241029143333435, 0.7241020798683167, 0.7241030931472778, 0.7241031527519226, 0.724102795124054, 0.7241038680076599, 0.7241020202636719, 0.7241045832633972, 0.7241037487983704, 0.7241040468215942, 0.7241042256355286, 0.7241039276123047, 0.7241045236587524, 0.7241038084030151, 0.7241055369377136, 0.7241047024726868, 0.7241051197052002, 2.4926857948303223, 0.7241056561470032, 25.591022491455078, 8.168359756469727, 0.694806694984436, 0.6948067545890808, 0.694806694984436, 0.694806694984436, 0.6948067545890808, 0.6948069930076599, 0.6948069930076599, 0.694865345954895, 0.694869339466095, 0.6948668956756592, 0.6948689222335815, 0.6948708891868591, 0.6948705911636353, 0.6948722004890442, 0.6948775053024292, 0.6948784589767456, 0.6948770880699158, 0.6948813796043396, 0.6948888897895813, 0.6948878169059753, 0.694907546043396, 0.6949715614318848, 0.7294752597808838, 0.7294018268585205, 0.7634623050689697, 1.1388579607009888, 1.49144446849823, 1.8980849981307983, 2.2899258136749268, 0.6978233456611633, 0.6978238821029663, 0.6978301405906677, 5.04119873046875, 0.694806694984436, 0.694806694984436, 0.694806694984436, 0.6948067545890808, 0.6948067545890808, 0.6948069930076599, 0.6948069930076599, 0.694865345954895, 0.6948668956756592, 0.6948689222335815, 0.694869339466095, 0.6948705911636353, 0.6948708891868591, 0.6948722004890442, 0.6948770880699158, 0.6948775053024292, 0.6948784589767456, 0.6948813796043396, 0.6948878169059753, 0.6948888897895813, 0.694907546043396, 0.6949715614318848, 0.6978233456611633, 0.697823166847229, 0.6978233456611633, 0.6978237628936768, 0.6978238821029663, 0.6978235840797424, 0.6978234648704529, 0.6978232264518738, 0.6978240609169006, 0.6978248357772827, 0.6978250741958618, 0.6978250741958618, 0.6979784965515137, 0.69782555103302, 0.6979783177375793, 0.6978266835212708, 0.697978138923645, 0.6979783177375793, 0.697978138923645, 0.697978138923645, 0.6979787349700928, 0.6979780793190002, 280.46630859375, 368.34564208984375, 249.0655975341797, 264.47723388671875, 94.49503326416016, 133.1593017578125, 465.8950500488281, 188.8879852294922, 45.87720489501953, 61.91439437866211, 103.8458480834961, 162.06207275390625, 25.591022491455078, 74.3368148803711, 93.29185485839844, 73.42814636230469, 83.59883880615234, 33.31729507446289, 141.2687225341797, 54.134849548339844, 23.579524993896484, 90.30441284179688, 86.11644744873047, 10.34338665008545, 25.89450454711914, 22.835636138916016, 45.23686599731445, 51.347816467285156, 35.889835357666016, 53.73393630981445], \"loglift\": [30.0, 29.0, 28.0, 27.0, 26.0, 25.0, 24.0, 23.0, 22.0, 21.0, 20.0, 19.0, 18.0, 17.0, 16.0, 15.0, 14.0, 13.0, 12.0, 11.0, 10.0, 9.0, 8.0, 7.0, 6.0, 5.0, 4.0, 3.0, 2.0, 1.0, 0.5695000290870667, 0.5640000104904175, 0.5611000061035156, 0.5579000115394592, 0.5543000102043152, 0.5537999868392944, 0.5494999885559082, 0.5493999719619751, 0.5493000149726868, 0.5491999983787537, 0.5479999780654907, 0.5479000210762024, 0.5435000061988831, 0.54339998960495, 0.5432000160217285, 0.5432000160217285, 0.5429999828338623, 0.5428000092506409, 0.5426999926567078, 0.5425999760627747, 0.5401999950408936, 0.5357000231742859, 0.5357000231742859, 0.5353999733924866, 0.5351999998092651, 0.534600019454956, 0.525600016117096, 0.525600016117096, 0.5253000259399414, 0.5246000289916992, 0.5178999900817871, 0.5232999920845032, 0.4970000088214874, 0.51419997215271, 0.41929998993873596, 0.4869000017642975, 0.3465000092983246, 0.28540000319480896, 0.2337999939918518, 0.2012999951839447, 0.43880000710487366, 0.4945000112056732, 0.40380001068115234, 0.27549999952316284, 0.2800000011920929, 0.21850000321865082, 0.4088999927043915, 0.28139999508857727, 0.337799996137619, 0.20000000298023224, 0.16189999878406525, 0.23080000281333923, 0.2939999997615814, 0.2653999924659729, 0.058800000697374344, 0.2630000114440918, 0.08479999750852585, 0.22169999778270721, 0.259799987077713, 0.13169999420642853, -0.149399995803833, 0.27149999141693115, 0.18799999356269836, 0.011099999770522118, -0.052400000393390656, 0.0478999987244606, -0.1039000004529953, -0.18140000104904175, 1.1775000095367432, 1.1638000011444092, 1.163699984550476, 1.156599998474121, 1.156499981880188, 1.1174999475479126, 1.0958000421524048, 1.0958000421524048, 1.0958000421524048, 1.0958000421524048, 1.0958000421524048, 1.0957000255584717, 1.0957000255584717, 1.0957000255584717, 1.0957000255584717, 1.0957000255584717, 1.0957000255584717, 1.0956000089645386, 1.0953999757766724, 1.0613000392913818, 1.058899998664856, 1.058899998664856, 1.058899998664856, 1.058899998664856, 1.058899998664856, 1.058899998664856, 1.058899998664856, 1.058899998664856, 1.058899998664856, 1.058899998664856, 1.055400013923645, 1.042799949645996, 1.0302000045776367, 0.982200026512146, 1.0353000164031982, 0.9819999933242798, 0.8934999704360962, 0.9782000184059143, 0.9218000173568726, 0.8927000164985657, 0.8382999897003174, 0.3499000072479248, 0.28139999508857727, 0.47929999232292175, 0.6686999797821045, 0.9168999791145325, 0.6187999844551086, 0.21719999611377716, 0.31869998574256897, -0.188400000333786, 0.7013000249862671, 0.38589999079704285, 0.4982999861240387, -0.37929999828338623, 0.013299999758601189, 0.11590000241994858, -0.296099990606308, 0.019999999552965164, -0.27250000834465027, 0.0340999998152256, 0.06560000032186508, 0.125, 0.010400000028312206, -0.05090000107884407, 0.2784000039100647, -0.149399995803833, -0.5885999798774719, 0.5293999910354614, -0.3127000033855438, -0.7508999705314636, -0.11339999735355377, 0.03200000151991844, -0.07039999961853027, -0.8137000203132629, 2.64739990234375, 2.6470999717712402, 2.5743000507354736, 2.449199914932251, 2.449199914932251, 2.449199914932251, 2.449199914932251, 2.4491000175476074, 2.4491000175476074, 2.4491000175476074, 2.4491000175476074, 2.4491000175476074, 2.4491000175476074, 2.4491000175476074, 2.4491000175476074, 2.4491000175476074, 2.4491000175476074, 2.4489998817443848, 2.4489998817443848, 2.448899984359741, 2.4045000076293945, 2.302999973297119, 2.277400016784668, 2.2230000495910645, 2.221100091934204, 2.2049999237060547, 2.181299924850464, 2.181299924850464, 2.181299924850464, 2.181299924850464, 2.181299924850464, 2.1429998874664307, 2.105600118637085, 1.9313000440597534, 2.018199920654297, 2.015000104904175, 1.8454999923706055, 0.7617999911308289, 0.35339999198913574, 1.6274000406265259, -0.14920000731945038, -1.0054999589920044, -1.2861000299453735, 1.3734999895095825, 1.2458000183105469, 0.1834000051021576, 1.7268999814987183, 1.048799991607666, -0.5888000130653381, -1.4466999769210815, 1.5018999576568604, -1.149899959564209, 1.1085000038146973, -0.3474000096321106, -1.8842999935150146, -0.4309999942779541, 0.01080000028014183, -1.4127999544143677, -1.0255000591278076, -0.9373999834060669, -1.1128000020980835, 2.949899911880493, 2.949899911880493, 2.947499990463257, 2.892899990081787, 2.8928000926971436, 2.891400098800659, 2.8912999629974365, 2.891200065612793, 2.890500068664551, 2.890500068664551, 2.890500068664551, 2.890500068664551, 2.890500068664551, 2.890500068664551, 2.890500068664551, 2.890500068664551, 2.890500068664551, 2.890500068664551, 2.890500068664551, 2.890500068664551, 2.890500068664551, 2.890500068664551, 2.890500068664551, 2.890500068664551, 2.890500068664551, 2.890500068664551, 2.890500068664551, 2.890500068664551, 2.890500068664551, 2.890500068664551, 2.8884999752044678, 2.8891000747680664, 2.887399911880493, 2.8896000385284424, 1.6481000185012817, 2.886399984359741, 2.875, 0.8122000098228455, 0.9625999927520752, 1.1748000383377075, 2.8833000659942627, 1.4378999471664429, 2.8454999923706055, 1.8588000535964966, 2.864000082015991, 1.7029999494552612, 0.9926999807357788, 2.833199977874756, 1.419600009918213, 1.2436000108718872, 2.8136000633239746, 1.0715999603271484, -0.15940000116825104, -0.22540000081062317, 2.6654000282287598, 2.478800058364868, 2.737600088119507, 1.6908999681472778, 0.9368000030517578, 1.534500002861023, 1.2269999980926514, -0.23019999265670776, 0.8300999999046326, 1.3882999420166016, 3.426100015640259, 3.0969998836517334, 2.9321000576019287, 2.9321000576019287, 2.931999921798706, 2.930299997329712, 2.9237000942230225, 2.768699884414673, 2.7685999870300293, 2.7685999870300293, 2.7685999870300293, 2.7685999870300293, 2.7685999870300293, 2.7685999870300293, 2.7685999870300293, 2.7685000896453857, 2.7685000896453857, 2.7685000896453857, 2.768399953842163, 2.7683000564575195, 2.7683000564575195, 2.7683000564575195, 2.768199920654297, 2.7674999237060547, 2.7674999237060547, 2.4365999698638916, 2.4365999698638916, 2.4365999698638916, 2.4365999698638916, 2.4365999698638916, 2.4365999698638916, 2.4365999698638916, 2.4365999698638916, 2.4365999698638916, 2.26990008354187, 2.1751999855041504, 2.264899969100952, 1.9730000495910645, 1.8904000520706177, 1.5159000158309937, 1.6159000396728516, 1.8680000305175781, 0.14100000262260437, -0.9434000253677368, -2.271199941635132, -2.4131999015808105, -1.757599949836731, -1.7098000049591064, -0.46209999918937683, -0.2718999981880188, 1.2243000268936157, 1.7964999675750732, 3.581199884414673, 3.352299928665161, 3.352299928665161, 3.352299928665161, 3.352299928665161, 3.352299928665161, 3.352299928665161, 3.352299928665161, 3.3522000312805176, 3.352099895477295, 3.3519999980926514, 2.9245998859405518, 2.9245998859405518, 2.9245998859405518, 2.924299955368042, 2.924299955368042, 2.924299955368042, 2.924299955368042, 2.924299955368042, 2.924299955368042, 2.924299955368042, 2.924299955368042, 2.924299955368042, 2.924299955368042, 2.924299955368042, 2.924299955368042, 2.924299955368042, 2.924299955368042, 2.924299955368042, 2.924299955368042, 2.924299955368042, 2.6226000785827637, 2.163100004196167, 2.4233999252319336, 1.2386000156402588, 1.6032999753952026, 1.0779999494552612, 2.236999988555908, 2.8826000690460205, 3.6129000186920166, 3.6129000186920166, 3.6129000186920166, 3.6129000186920166, 3.6129000186920166, 3.1096999645233154, 3.1096999645233154, 3.1096999645233154, 3.1096999645233154, 3.1096999645233154, 3.1096999645233154, 3.1096999645233154, 3.1096999645233154, 3.1096999645233154, 3.1096999645233154, 3.1096999645233154, 3.1096999645233154, 3.1096999645233154, 3.1096999645233154, 3.1096999645233154, 3.1096999645233154, 3.1096999645233154, 3.1096999645233154, 3.1096999645233154, 3.1096999645233154, 3.1096999645233154, 3.109600067138672, 3.109600067138672, 3.109600067138672, 3.109600067138672, 3.109600067138672, 3.109600067138672, 3.109600067138672, 2.7881999015808105, 4.2733001708984375, 3.6324000358581543, 3.1226999759674072, 3.1226999759674072, 3.1226999759674072, 3.1226999759674072, 3.1226999759674072, 3.1226999759674072, 3.121999979019165, 3.121999979019165, 3.121999979019165, 3.121999979019165, 3.121999979019165, 3.121999979019165, 3.121999979019165, 3.121999979019165, 3.121999979019165, 3.121999979019165, 3.121999979019165, 3.121999979019165, 3.121999979019165, 3.121999979019165, 3.121999979019165, 3.121999979019165, 3.121999979019165, 3.121999979019165, 3.121999979019165, 3.121999979019165, 3.121999979019165, 3.121999979019165, 2.771899938583374, 3.121999979019165, 0.36399999260902405, 0.8492000102996826, 3.196899890899658, 3.196899890899658, 3.196899890899658, 3.196899890899658, 3.1967999935150146, 3.1967999935150146, 3.1967999935150146, 3.196000099182129, 3.196000099182129, 3.196000099182129, 3.196000099182129, 3.196000099182129, 3.196000099182129, 3.196000099182129, 3.196000099182129, 3.196000099182129, 3.196000099182129, 3.1958999633789062, 3.1958999633789062, 3.1958999633789062, 3.1958999633789062, 3.19569993019104, 3.119800090789795, 3.1184000968933105, 3.1024999618530273, 2.687299966812134, 2.433000087738037, 2.191800117492676, 2.003999948501587, 1.5643999576568604, 1.5643999576568604, 1.5643999576568604, -0.3174999952316284, 1.5989999771118164, 1.5989999771118164, 1.5989999771118164, 1.5989999771118164, 1.5989999771118164, 1.5989999771118164, 1.5989999771118164, 1.5989999771118164, 1.5988999605178833, 1.5988999605178833, 1.5988999605178833, 1.5988999605178833, 1.5988999605178833, 1.5988999605178833, 1.5988999605178833, 1.5988999605178833, 1.5988999605178833, 1.5988999605178833, 1.5988999605178833, 1.5988999605178833, 1.5988999605178833, 1.5987999439239502, 1.5946999788284302, 1.5946999788284302, 1.5946999788284302, 1.5946999788284302, 1.5946999788284302, 1.5946999788284302, 1.5946999788284302, 1.5946999788284302, 1.5946999788284302, 1.5946999788284302, 1.5946999788284302, 1.5946999788284302, 1.594599962234497, 1.5946999788284302, 1.594599962234497, 1.5946999788284302, 1.594599962234497, 1.594599962234497, 1.594599962234497, 1.594599962234497, 1.594599962234497, 1.594499945640564, -4.399700164794922, -4.672500133514404, -4.281300067901611, -4.341400146484375, -3.3125, -3.655600070953369, -4.9079999923706055, -4.005499839782715, -2.590399980545044, -2.890199899673462, -3.407399892807007, -3.8524999618530273, -2.0067999362945557, -3.073199987411499, -3.300299882888794, -3.0608999729156494, -3.190700054168701, -2.2708001136779785, -3.715399980545044, -2.756200075149536, -1.9250999689102173, -3.267899990081787, -3.2204999923706055, -1.101099967956543, -2.0188000202178955, -1.8931000232696533, -2.57669997215271, -2.703399896621704, -2.3452999591827393, -2.7488999366760254], \"logprob\": [30.0, 29.0, 28.0, 27.0, 26.0, 25.0, 24.0, 23.0, 22.0, 21.0, 20.0, 19.0, 18.0, 17.0, 16.0, 15.0, 14.0, 13.0, 12.0, 11.0, 10.0, 9.0, 8.0, 7.0, 6.0, 5.0, 4.0, 3.0, 2.0, 1.0, -5.793399810791016, -6.413700103759766, -6.492000102996826, -6.576000213623047, -6.668700218200684, -6.66949987411499, -6.771699905395508, -6.771399974822998, -6.771900177001953, -6.771999835968018, -6.38129997253418, -6.7743000984191895, -6.8856000900268555, -6.8856000900268555, -6.886000156402588, -6.886199951171875, -6.887899875640869, -6.88700008392334, -6.8871002197265625, -6.886600017547607, -6.81689977645874, -7.014900207519531, -7.014900207519531, -7.0152997970581055, -7.016300201416016, -5.579800128936768, -7.163400173187256, -7.16349983215332, -7.163899898529053, -7.164700031280518, -5.287600040435791, -6.732699871063232, -5.267099857330322, -6.162799835205078, -3.8785998821258545, -5.873300075531006, -3.904400110244751, -3.6289000511169434, -3.3492000102996826, -3.1468000411987305, -5.717400074005127, -6.420499801635742, -5.61269998550415, -4.458700180053711, -4.676300048828125, -4.185500144958496, -5.761000156402588, -4.765399932861328, -5.400400161743164, -4.649199962615967, -4.438600063323975, -4.835299968719482, -5.214000225067139, -5.0858001708984375, -3.9154999256134033, -5.122399806976318, -4.456600189208984, -5.0894999504089355, -5.293700218200684, -4.811800003051758, -4.005000114440918, -5.408699989318848, -5.312600135803223, -5.025199890136719, -5.041299819946289, -5.318399906158447, -5.299699783325195, -5.364799976348877, -5.072400093078613, -6.268599987030029, -6.268400192260742, -6.382800102233887, -6.382999897003174, -6.838799953460693, -7.046899795532227, -7.046899795532227, -7.046899795532227, -7.046899795532227, -7.046899795532227, -7.046999931335449, -7.0472002029418945, -7.0472002029418945, -7.047100067138672, -7.047299861907959, -7.047100067138672, -7.047699928283691, -7.048099994659424, -6.835599899291992, -7.315700054168701, -7.315700054168701, -7.315700054168701, -7.315700054168701, -7.315700054168701, -7.315700054168701, -7.315700054168701, -7.315700054168701, -7.315700054168701, -7.315700054168701, -6.2683000564575195, -6.306099891662598, -5.90939998626709, -5.797999858856201, -6.8354997634887695, -6.409800052642822, -5.8379998207092285, -6.664999961853027, -6.3007001876831055, -6.182199954986572, -5.8582000732421875, -3.6243999004364014, -3.574199914932251, -4.5096001625061035, -5.317299842834473, -6.393899917602539, -5.61929988861084, -4.72629976272583, -5.047599792480469, -3.7715001106262207, -6.037300109863281, -5.280200004577637, -5.639599800109863, -3.727400064468384, -4.587200164794922, -4.920400142669678, -4.210400104522705, -4.82919979095459, -4.523399829864502, -5.031899929046631, -5.1178998947143555, -5.375500202178955, -5.30079984664917, -5.246699810028076, -5.56220006942749, -5.196199893951416, -4.886499881744385, -5.802299976348877, -5.269000053405762, -5.15500020980835, -5.464600086212158, -5.534999847412109, -5.623799800872803, -5.547900199890137, -6.014500141143799, -6.0152997970581055, -6.283400058746338, -6.651899814605713, -6.651899814605713, -6.651899814605713, -6.651899814605713, -6.651899814605713, -6.651899814605713, -6.651899814605713, -6.6519999504089355, -6.6519999504089355, -6.6519999504089355, -6.652100086212158, -6.652100086212158, -6.652100086212158, -6.652100086212158, -6.652100086212158, -6.652100086212158, -6.652100086212158, -6.652100086212158, -6.022900104522705, -6.652100086212158, -6.283400058746338, -6.284800052642822, -7.104800224304199, -7.242400169372559, -7.242400169372559, -7.242400169372559, -7.242400169372559, -7.242400169372559, -6.309899806976318, -6.334099769592285, -6.10699987411499, -6.6519999504089355, -6.656799793243408, -6.32450008392334, -4.274600028991699, -4.842400074005127, -6.106599807739258, -4.6905999183654785, -4.588500022888184, -4.634200096130371, -6.105599880218506, -6.057000160217285, -5.565999984741211, -6.299099922180176, -6.026100158691406, -5.438000202178955, -5.361000061035156, -6.349699974060059, -5.553899765014648, -6.283299922943115, -6.008600234985352, -5.7399001121521, -6.111199855804443, -6.234099864959717, -6.013299942016602, -6.072299957275391, -6.288599967956543, -6.296199798583984, -4.172900199890137, -4.172900199890137, -4.159599781036377, -4.844900131225586, -4.8383002281188965, -4.85830020904541, -4.858399868011475, -4.858399868011475, -4.865200042724609, -4.865200042724609, -4.865200042724609, -4.865200042724609, -4.865200042724609, -4.865200042724609, -4.865200042724609, -4.865200042724609, -4.865200042724609, -4.865200042724609, -4.865200042724609, -4.865200042724609, -4.865200042724609, -4.865200042724609, -4.865200042724609, -4.865200042724609, -4.865200042724609, -4.865200042724609, -4.865200042724609, -4.865200042724609, -4.865200042724609, -4.865200042724609, -4.832399845123291, -4.845200061798096, -4.832300186157227, -4.858500003814697, -2.8933000564575195, -4.85890007019043, -4.84660005569458, -2.535900115966797, -2.8929998874664307, -3.2291998863220215, -4.859099864959717, -3.7455999851226807, -4.831999778747559, -4.154099941253662, -4.848899841308594, -4.15310001373291, -3.741499900817871, -4.833700180053711, -4.147500038146973, -4.14169979095459, -4.833000183105469, -4.124199867248535, -3.7423999309539795, -4.139699935913086, -4.818299770355225, -4.811299800872803, -4.845600128173828, -4.810200214385986, -4.812600135803223, -4.82919979095459, -4.82919979095459, -4.830699920654297, -4.830999851226807, -4.831500053405762, -2.339900016784668, -5.67710018157959, -6.15749979019165, -6.15749979019165, -6.157599925994873, -6.158299922943115, -6.173099994659424, -6.526100158691406, -6.526199817657471, -6.526199817657471, -6.526199817657471, -6.526199817657471, -6.526199817657471, -6.526199817657471, -6.526299953460693, -6.526299953460693, -6.526199817657471, -6.526299953460693, -6.526400089263916, -6.526400089263916, -6.526500225067139, -6.526500225067139, -6.526500225067139, -6.527699947357178, -6.527699947357178, -7.116799831390381, -7.116799831390381, -7.116799831390381, -7.116799831390381, -7.116799831390381, -7.116799831390381, -7.116799831390381, -7.116799831390381, -7.116799831390381, -6.265999794006348, -5.889500141143799, -6.526700019836426, -5.888800144195557, -6.148200035095215, -5.611700057983398, -6.008699893951416, -6.1579999923706055, -5.608500003814697, -5.4847002029418945, -5.61929988861084, -5.996200084686279, -6.358099937438965, -6.443999767303467, -6.5183000564575195, -6.521699905395508, -6.524400234222412, -6.526100158691406, -5.824900150299072, -6.19350004196167, -6.19350004196167, -6.19350004196167, -6.19350004196167, -6.19350004196167, -6.19350004196167, -6.193600177764893, -6.193600177764893, -6.193699836730957, -6.193699836730957, -6.783699989318848, -6.783699989318848, -6.783699989318848, -6.783999919891357, -6.783999919891357, -6.783999919891357, -6.783999919891357, -6.783999919891357, -6.783999919891357, -6.783999919891357, -6.783999919891357, -6.783999919891357, -6.783999919891357, -6.783999919891357, -6.783999919891357, -6.783999919891357, -6.783999919891357, -6.783999919891357, -6.783999919891357, -6.783999919891357, -6.226600170135498, -5.951099872589111, -6.259799957275391, -6.662399768829346, -6.708199977874756, -6.783699989318848, -6.783699989318848, -6.783699989318848, -6.105999946594238, -6.105999946594238, -6.105999946594238, -6.106100082397461, -6.106100082397461, -6.696700096130371, -6.696700096130371, -6.696700096130371, -6.696700096130371, -6.696700096130371, -6.696700096130371, -6.696700096130371, -6.696700096130371, -6.696700096130371, -6.696700096130371, -6.696700096130371, -6.696700096130371, -6.696700096130371, -6.696700096130371, -6.696700096130371, -6.696700096130371, -6.696700096130371, -6.696700096130371, -6.696700096130371, -6.696700096130371, -6.696800231933594, -6.696800231933594, -6.696800231933594, -6.696800231933594, -6.696800231933594, -6.696800231933594, -6.696800231933594, -6.696800231933594, -6.696700096130371, -5.252999782562256, -6.102099895477295, -6.692200183868408, -6.692200183868408, -6.692200183868408, -6.692200183868408, -6.692200183868408, -6.692200183868408, -6.69290018081665, -6.69290018081665, -6.69290018081665, -6.69290018081665, -6.69290018081665, -6.69290018081665, -6.69290018081665, -6.69290018081665, -6.69290018081665, -6.69290018081665, -6.69290018081665, -6.69290018081665, -6.69290018081665, -6.69290018081665, -6.69290018081665, -6.69290018081665, -6.69290018081665, -6.69290018081665, -6.69290018081665, -6.69290018081665, -6.69290018081665, -6.69290018081665, -5.80679988861084, -6.69290018081665, -5.885799884796143, -6.542600154876709, -6.659299850463867, -6.659299850463867, -6.659299850463867, -6.659299850463867, -6.659299850463867, -6.659299850463867, -6.65939998626709, -6.660099983215332, -6.660099983215332, -6.660099983215332, -6.660099983215332, -6.660099983215332, -6.660099983215332, -6.660099983215332, -6.660099983215332, -6.660099983215332, -6.660099983215332, -6.660099983215332, -6.660099983215332, -6.660099983215332, -6.660200119018555, -6.660200119018555, -6.687699794769287, -6.689199924468994, -6.6595001220703125, -6.674799919128418, -6.659299850463867, -6.65939998626709, -6.6595001220703125, -8.287400245666504, -8.287400245666504, -8.287400245666504, -8.191900253295898, -8.257100105285645, -8.257100105285645, -8.257100105285645, -8.257100105285645, -8.257100105285645, -8.257100105285645, -8.257100105285645, -8.257100105285645, -8.257100105285645, -8.257100105285645, -8.257100105285645, -8.257100105285645, -8.257100105285645, -8.257100105285645, -8.257100105285645, -8.257100105285645, -8.257100105285645, -8.257100105285645, -8.257100105285645, -8.257100105285645, -8.257100105285645, -8.257100105285645, -8.257100105285645, -8.257100105285645, -8.257100105285645, -8.257100105285645, -8.257100105285645, -8.257100105285645, -8.257100105285645, -8.257100105285645, -8.257100105285645, -8.257100105285645, -8.257100105285645, -8.257100105285645, -8.256999969482422, -8.257100105285645, -8.256999969482422, -8.257100105285645, -8.257100105285645, -8.257100105285645, -8.257100105285645, -8.257100105285645, -8.257100105285645, -8.257100105285645, -8.25529956817627, -8.255499839782715, -8.255599975585938, -8.25570011138916, -8.255999565124512, -8.256099700927734, -8.256099700927734, -8.256400108337402, -8.256400108337402, -8.256500244140625, -8.256500244140625, -8.256600379943848, -8.256699562072754, -8.256699562072754, -8.256699562072754, -8.256699562072754, -8.256699562072754, -8.256799697875977, -8.256799697875977, -8.256799697875977, -8.256799697875977, -8.256799697875977, -8.256799697875977, -8.256799697875977, -8.2568998336792, -8.2568998336792, -8.2568998336792, -8.2568998336792, -8.2568998336792, -8.2568998336792]}, \"token.table\": {\"Topic\": [1, 2, 1, 2, 3, 1, 2, 1, 1, 2, 3, 2, 5, 3, 1, 2, 3, 1, 2, 3, 2, 5, 5, 2, 5, 4, 2, 2, 3, 3, 4, 4, 1, 2, 2, 1, 2, 5, 1, 4, 2, 5, 3, 3, 4, 4, 2, 1, 3, 3, 4, 1, 2, 3, 5, 3, 1, 2, 3, 4, 5, 1, 4, 3, 1, 2, 3, 1, 2, 5, 2, 2, 2, 2, 1, 2, 3, 4, 1, 2, 4, 4, 1, 1, 2, 4, 5, 4, 2, 3, 5, 1, 1, 2, 4, 1, 2, 3, 4, 5, 3, 2, 4, 1, 2, 3, 4, 5, 1, 2, 3, 1, 2, 1, 2, 3, 4, 4, 2, 3, 4, 2, 1, 2, 4, 1, 3, 5, 2, 1, 2, 3, 2, 5, 1, 3, 3, 1, 2, 3, 4, 1, 2, 5, 4, 4, 4, 4, 3, 1, 1, 3, 4, 4, 2, 2, 3, 1, 5, 2, 4, 5, 5, 2, 3, 4, 2, 1, 1, 3, 2, 1, 2, 1, 4, 1, 2, 5, 1, 2, 3, 4, 5, 1, 1, 1, 2, 1, 2, 4, 1, 2, 1, 1, 1, 2, 4, 1, 2, 3, 4, 1, 2, 3, 1, 2, 3, 4, 1, 2, 4, 1, 2, 4, 3, 2, 5, 1, 4, 1, 2, 3, 1, 2, 3, 4, 5, 1, 2, 4, 1, 2, 3, 4, 1, 2, 3, 4, 3, 4, 2, 2, 3, 3, 1, 1, 5, 3, 3, 2, 1, 2, 2, 3, 4, 1, 2, 1, 2, 5, 5, 1, 2, 3, 1, 1, 2, 3, 1, 2, 3, 1, 2, 4, 2, 3, 1, 2, 3, 4, 5, 2, 3, 5, 1, 2, 5, 1, 4, 4, 1, 2, 1, 2, 3, 4, 3, 4, 2, 1, 2, 4, 3, 4, 5, 1, 2, 5, 1, 4, 3, 5, 2, 3, 4, 1, 2, 1, 2, 1, 1, 2, 3, 2, 1, 2, 4, 1, 2, 2, 3, 5, 2, 2, 3, 2, 3, 1, 1, 1, 2, 3, 2, 1, 2, 1, 5, 1, 5, 2, 3, 3, 2, 4, 4, 4, 5, 1, 2, 3, 4, 5, 4, 1, 3, 1, 1, 2, 1, 2, 3, 4, 5, 5, 5, 1, 2, 1, 2, 3, 1, 2, 3, 1, 2, 3, 1, 1, 2, 5, 5, 1, 2, 3, 4, 5, 1, 2, 4, 1, 2, 4, 1, 2, 1, 4, 4, 3, 1, 4, 2, 2, 2, 3, 1, 2, 5, 1, 1, 2, 1, 2, 1, 2, 3, 1, 2, 5, 1, 2, 3, 4, 1, 2, 3, 1, 2, 1, 1, 2, 1, 2, 3, 4, 1, 2, 4], \"Freq\": [0.8895092606544495, 0.09616316109895706, 0.5573847889900208, 0.32514113187789917, 0.11612183600664139, 0.8323495984077454, 0.1609209179878235, 0.9122401475906372, 0.1992340236902237, 0.7969360947608948, 0.9339641332626343, 0.9933070540428162, 0.8209474682807922, 0.6764194965362549, 0.08917544782161713, 0.713403582572937, 0.17835089564323425, 0.687853217124939, 0.29042690992355347, 0.01528562605381012, 0.7198637127876282, 0.23995456099510193, 0.6687033772468567, 0.7782437801361084, 0.6686758399009705, 0.8145630359649658, 0.7783794403076172, 0.7781980037689209, 0.676456093788147, 0.6764019727706909, 0.851280689239502, 0.8593948483467102, 0.7934620976448059, 0.19836552441120148, 0.6241648197174072, 0.5821759700775146, 0.4175606667995453, 0.4877557158470154, 0.8901696801185608, 0.8808494210243225, 0.7781900763511658, 0.987537682056427, 0.9339620471000671, 0.9339648485183716, 0.8808494210243225, 0.8808494210243225, 0.9932780265808105, 0.3115638196468353, 0.6231276392936707, 0.6764048337936401, 0.8808494210243225, 0.11436637490987778, 0.8005646467208862, 0.9339624643325806, 0.8210104703903198, 0.6764039397239685, 0.7210574150085449, 0.12876024842262268, 0.008584016934037209, 0.12876024842262268, 0.008584016934037209, 0.6474993824958801, 0.30833303928375244, 0.6764121055603027, 0.9888063073158264, 0.5268467664718628, 0.5268467664718628, 0.9270775318145752, 0.07516844570636749, 0.8209599852561951, 0.9813616275787354, 0.7782149910926819, 0.8922631740570068, 0.7782433032989502, 0.7297414541244507, 0.2193005383014679, 0.011343131773173809, 0.03781043738126755, 0.3822548985481262, 0.5733823776245117, 0.8438758254051208, 0.8808494210243225, 0.9887486100196838, 0.3863545060157776, 0.4185507297515869, 0.16098104417324066, 0.03219620883464813, 0.8754420876502991, 0.4616684913635254, 0.2308342456817627, 0.2308342456817627, 0.9459736347198486, 0.503441333770752, 0.2876807451248169, 0.17980046570301056, 0.6922845840454102, 0.24433572590351105, 0.019003890454769135, 0.040722619742155075, 0.0027148413937538862, 0.8719999194145203, 0.9813580513000488, 0.8808494210243225, 0.6633827686309814, 0.11846121400594711, 0.07107672840356827, 0.11846121400594711, 0.047384485602378845, 0.7011008858680725, 0.2726503610610962, 0.019475024193525314, 0.3071199059486389, 0.6142398118972778, 0.5422438979148865, 0.30365657806396484, 0.043379511684179306, 0.10844878107309341, 0.8808494210243225, 0.7755808234214783, 0.19389520585536957, 0.8652052879333496, 0.7788149118423462, 0.467170774936676, 0.38930895924568176, 0.12976965308189392, 0.5331774950027466, 0.2665887475013733, 0.8209875822067261, 0.8611613512039185, 0.8894797563552856, 0.7345415949821472, 0.12242359668016434, 0.4963662326335907, 0.4963662326335907, 1.0044270753860474, 0.676401674747467, 0.8334115147590637, 0.7078620791435242, 0.09877145290374756, 0.01646190881729126, 0.1646190881729126, 0.15577596426010132, 0.8567678332328796, 0.8209927678108215, 0.8622151613235474, 0.9355032444000244, 0.8717491626739502, 0.8059963583946228, 0.6470161080360413, 0.9890907406806946, 0.35374611616134644, 0.35374611616134644, 0.8506421446800232, 0.8755205869674683, 0.8115361928939819, 0.4453704357147217, 0.4453704357147217, 0.9251070618629456, 0.6686739921569824, 0.33175885677337646, 0.5529314279556274, 0.8209125399589539, 0.82098388671875, 0.9813605546951294, 0.15795128047466278, 0.7897564172744751, 0.7782286405563354, 0.8896363377571106, 0.34913820028305054, 0.34913820028305054, 0.7783498167991638, 0.8897995948791504, 0.6704909205436707, 0.26843783259391785, 0.6710945963859558, 0.962681770324707, 0.5876044631004333, 0.19586814939975739, 0.645842969417572, 0.3003920912742615, 0.015019604004919529, 0.037549011409282684, 0.0075098020024597645, 0.9126348495483398, 0.8894914388656616, 0.6687130331993103, 0.30649346113204956, 0.641667366027832, 0.21388912200927734, 0.15277794003486633, 0.9215015172958374, 0.06825937330722809, 0.9889582395553589, 0.97101229429245, 0.53243488073349, 0.22184786200523376, 0.22184786200523376, 0.816545844078064, 0.11664941161870956, 0.038883134722709656, 0.8808494210243225, 0.7159149646759033, 0.2545475661754608, 0.0159092228859663, 0.45737767219543457, 0.30940255522727966, 0.013452284969389439, 0.20178426802158356, 0.305425763130188, 0.6719366908073425, 0.8808494210243225, 0.8297438621520996, 0.14430329203605652, 0.8755730986595154, 0.8724497556686401, 0.9378288984298706, 0.03907620161771774, 0.9310025572776794, 0.8808494210243225, 0.6740760803222656, 0.29851940274238586, 0.028888974338769913, 0.5946114659309387, 0.09202320128679276, 0.042472247034311295, 0.25483348965644836, 0.014157415367662907, 0.728895366191864, 0.21438099443912506, 0.053595248609781265, 0.3503296375274658, 0.39412084221839905, 0.04379120469093323, 0.21895602345466614, 0.15741771459579468, 0.7870885729789734, 0.6764385104179382, 0.8808494210243225, 0.9339646697044373, 0.8808494210243225, 0.9813570976257324, 0.37301430106163025, 0.37301430106163025, 0.6764388680458069, 0.8911312818527222, 0.9618772864341736, 0.8209367394447327, 0.6763986945152283, 0.6763919591903687, 0.9813727140426636, 0.566730260848999, 0.43594634532928467, 0.7906008362770081, 0.19765020906925201, 0.8808494210243225, 0.9126124978065491, 0.7784008979797363, 0.6181134581565857, 0.15452836453914642, 0.15452836453914642, 0.821014404296875, 0.6243714690208435, 0.3598072826862335, 0.010582567192614079, 0.8902264833450317, 0.2239958494901657, 0.5599896311759949, 0.2239958494901657, 0.911949098110199, 0.07599575817584991, 0.6763997673988342, 0.4935449957847595, 0.29612699151039124, 0.1974180042743683, 0.7781825065612793, 0.6764013767242432, 0.6787522435188293, 0.13575045764446259, 0.018511425703763962, 0.1604323536157608, 0.006170475389808416, 0.7013342976570129, 0.23377808928489685, 0.23377808928489685, 0.693789541721344, 0.29904720187187195, 0.8212714791297913, 0.7104383111000061, 0.2368127703666687, 0.8691673874855042, 0.8540274500846863, 0.14233791828155518, 0.49295347929000854, 0.2654365003108978, 0.03791949898004532, 0.1895975023508072, 0.6764554977416992, 0.8808494210243225, 0.7781828045845032, 0.8354917764663696, 0.1547207087278366, 0.8808494210243225, 0.5302603244781494, 0.8808494210243225, 0.8209483027458191, 0.7520228624343872, 0.0940028578042984, 0.1880057156085968, 1.005399465560913, 0.8808494210243225, 0.6764035820960999, 0.820952296257019, 0.9813538193702698, 0.6764407753944397, 0.9355032444000244, 0.22580669820308685, 0.7903234958648682, 0.4074335992336273, 0.4074335992336273, 1.004558801651001, 0.34475788474082947, 0.34475788474082947, 0.34475788474082947, 0.9813591241836548, 0.47093892097473145, 0.28256335854530334, 0.23546946048736572, 0.5042498707771301, 0.25212493538856506, 0.6210547089576721, 0.31052735447883606, 0.31052735447883606, 0.892471432685852, 0.4011737108230591, 0.4011737108230591, 0.373203843832016, 0.373203843832016, 1.0044456720352173, 0.913575291633606, 0.7294934988021851, 0.24316450953483582, 0.044211726635694504, 0.9813540577888489, 0.872736930847168, 0.08727369457483292, 0.8746412396430969, 0.17492824792861938, 0.3844035267829895, 0.3844035267829895, 0.4403148889541626, 0.4403148889541626, 0.6764300465583801, 0.8733907341957092, 0.8808494210243225, 0.8497233986854553, 0.8808494210243225, 0.6734621524810791, 0.40077298879623413, 0.40077298879623413, 0.26718199253082275, 0.8808494210243225, 0.66800856590271, 0.8741875290870667, 0.46737608313560486, 0.46737608313560486, 0.5258253812789917, 0.5204618573188782, 0.4761672019958496, 0.6696787476539612, 0.20176218450069427, 0.015024842694401741, 0.11161311715841293, 0.0042928121984004974, 0.8209680318832397, 0.8209888339042664, 0.4202021658420563, 0.5702744126319885, 0.4665064215660095, 0.5089160799980164, 0.04240967705845833, 0.2530258595943451, 0.6958211064338684, 0.06325646489858627, 0.581447958946228, 0.40378332138061523, 0.01615133322775364, 0.9126287698745728, 0.7444085478782654, 0.26054298877716064, 0.8209754228591919, 0.8209911584854126, 0.4706447720527649, 0.3886384665966034, 0.007130981422960758, 0.1283576637506485, 0.003565490711480379, 0.8985894322395325, 0.05990596115589142, 0.9208916425704956, 0.5611780881881714, 0.1530485600233078, 0.2550809383392334, 0.46341878175735474, 0.540655255317688, 0.14824867248535156, 0.7412433624267578, 0.8808494210243225, 0.5697267651557922, 0.7116842865943909, 0.26358675956726074, 0.9813592433929443, 0.7786877751350403, 0.8209812641143799, 0.11728303134441376, 0.7729448676109314, 0.2223540097475052, 0.8213106393814087, 0.9460535049438477, 0.773077666759491, 0.23426595330238342, 0.6650059819221497, 0.33250299096107483, 0.8896287679672241, 0.4396163523197174, 0.4396163523197174, 0.38672053813934326, 0.5800808072090149, 0.8209869861602783, 0.5024017691612244, 0.1507205367088318, 0.050240177661180496, 0.2512008845806122, 0.727523922920227, 0.25815364718437195, 0.023468513041734695, 0.20671097934246063, 0.723488450050354, 0.930754542350769, 0.5241044163703918, 0.4891640841960907, 0.49027520418167114, 0.27237510681152344, 0.08171253651380539, 0.14980632066726685, 0.9597539901733398, 0.9813613295555115, 0.8808494210243225], \"Term\": [\"\\n\", \"\\n\", \"\\n\\n\", \"\\n\\n\", \"\\n\\n\", \" \", \" \", \" \\n\\n\", \"  \", \"  \", \"$11\", \"'\", \"(pork\", \"(the\", \",\", \",\", \",\", \"-\", \"-\", \"-\", \"--\", \"--\", \"3D\", \";\", \"AMC\", \"All\", \"Bang\", \"Bianco's\", \"Booming\", \"Buffet\", \"Chandler\", \"First\", \"Had\", \"Had\", \"Horrible\", \"I\", \"I\", \"IMAX\", \"It's\", \"January,\", \"Jerry\", \"Last\", \"Naan\", \"Non-Veggie,\", \"Puro\", \"Puro!!!!!!!!\", \"RAC\", \"San\", \"San\", \"School\", \"Second\", \"So\", \"So\", \"Solid\", \"Superman\", \"Tan\", \"The\", \"The\", \"The\", \"The\", \"The\", \"This\", \"This\", \"Toronto.\", \"Vegas\", \"Very\", \"Very\", \"We\", \"We\", \"Went\", \"Would\", \"Zipps\", \"_\", \"`\", \"a\", \"a\", \"a\", \"a\", \"about\", \"about\", \"actually\", \"aficionado\", \"again.\", \"all\", \"all\", \"all\", \"all\", \"all,\", \"always\", \"always\", \"always\", \"amazing\", \"an\", \"an\", \"an\", \"and\", \"and\", \"and\", \"and\", \"and\", \"apartment\", \"appointment\", \"approve.\", \"are\", \"are\", \"are\", \"are\", \"are\", \"as\", \"as\", \"as\", \"asked\", \"asked\", \"at\", \"at\", \"at\", \"at\", \"awaiting\", \"bar\", \"bar\", \"bar.\", \"bartenders\", \"be\", \"be\", \"be\", \"beautiful\", \"beautiful\", \"become\", \"behind\", \"being\", \"best\", \"best\", \"bite\", \"bite\", \"breakfast\", \"buffet\", \"burgers\", \"but\", \"but\", \"but\", \"but\", \"called\", \"called\", \"certain\", \"check\", \"cigar\", \"city\", \"cool\", \"cost\", \"cream\", \"cream,\", \"cream,\", \"customer\", \"customers\", \"day\", \"day.\", \"day.\", \"definitely\", \"dim\", \"do\", \"do\", \"dumpling\", \"eggplant\", \"emergency\", \"end\", \"end\", \"ended\", \"ever\", \"excellent\", \"excellent\", \"far\", \"feel\", \"finally\", \"first\", \"first\", \"food\", \"food.\", \"food.\", \"for\", \"for\", \"for\", \"for\", \"for\", \"friendly\", \"fries\", \"from\", \"from\", \"get\", \"get\", \"get\", \"good\", \"good\", \"good,\", \"good.\", \"got\", \"got\", \"got\", \"great\", \"great\", \"great\", \"ground\", \"had\", \"had\", \"had\", \"have\", \"have\", \"have\", \"have\", \"he\", \"he\", \"helpful!!\", \"here\", \"here\", \"here!\", \"hot\", \"i\", \"i\", \"ice\", \"impeccable!!\", \"in\", \"in\", \"in\", \"is\", \"is\", \"is\", \"is\", \"is\", \"it\", \"it\", \"it\", \"just\", \"just\", \"just\", \"just\", \"know\", \"know\", \"larger\", \"least\", \"legit\", \"level,\", \"line\", \"live\", \"live\", \"located\", \"long\", \"lunch\", \"mai\", \"mall\", \"matcha\", \"matter\", \"me\", \"me\", \"me.\", \"me.\", \"members\", \"menu\", \"move\", \"movie\", \"movie\", \"movie\", \"movies\", \"my\", \"my\", \"my\", \"near\", \"new\", \"new\", \"new\", \"nice\", \"nice\", \"noodle\", \"not\", \"not\", \"not\", \"number\", \"nyam\", \"of\", \"of\", \"of\", \"of\", \"of\", \"offer\", \"offer\", \"offer\", \"on\", \"on\", \"once\", \"only\", \"only\", \"open\", \"our\", \"our\", \"out\", \"out\", \"out\", \"out\", \"outstanding!\", \"patio!\", \"phone\", \"place\", \"place\", \"place!!!\", \"places\", \"point!\", \"popcorn\", \"pretty\", \"pretty\", \"pretty\", \"prices\", \"proper!!\", \"question\", \"reasonable\", \"rescue\", \"reservation\", \"roof\", \"said\", \"said\", \"same\", \"same\", \"sauce\", \"selection\", \"selection\", \"selection\", \"selling\", \"service\", \"service\", \"service\", \"service.\", \"service.\", \"several\", \"several\", \"several\", \"she\", \"shop\", \"shop\", \"shopping\", \"shopping\", \"show\", \"side\", \"so\", \"so\", \"so\", \"sold\", \"some\", \"some\", \"sound\", \"sound\", \"space\", \"space\", \"speak\", \"speak\", \"special\", \"special.\", \"spectacular\", \"staff\", \"stairs\", \"start\", \"store\", \"store\", \"store\", \"stories.\", \"sum.\", \"superb,\", \"sweet\", \"sweet\", \"talk\", \"that\", \"that\", \"the\", \"the\", \"the\", \"the\", \"the\", \"theater.\", \"theaters\", \"their\", \"their\", \"them\", \"them\", \"them\", \"then\", \"then\", \"then\", \"they\", \"they\", \"they\", \"thing\", \"this\", \"this\", \"ticket\", \"tickets\", \"to\", \"to\", \"to\", \"to\", \"to\", \"too\", \"too\", \"top\", \"two\", \"two\", \"two\", \"up\", \"up\", \"use\", \"use\", \"vantage\", \"variety\", \"very\", \"very\", \"wait.\", \"waited\", \"want\", \"want\", \"was\", \"was\", \"water\", \"way\", \"we\", \"we\", \"were\", \"were\", \"where\", \"whipped\", \"whipped\", \"who\", \"who\", \"wide\", \"will\", \"will\", \"will\", \"will\", \"with\", \"with\", \"with\", \"work\", \"work\", \"worth\", \"would\", \"would\", \"you\", \"you\", \"you\", \"you\", \"you're\", \"you.\", \"yourself\"]}, \"R\": 30, \"lambda.step\": 0.01, \"plot.opts\": {\"xlab\": \"PC1\", \"ylab\": \"PC2\"}, \"topic.order\": [2, 9, 3, 7, 4, 1, 5, 8, 10, 6]};\n",
       "\n",
       "function LDAvis_load_lib(url, callback){\n",
       "  var s = document.createElement('script');\n",
       "  s.src = url;\n",
       "  s.async = true;\n",
       "  s.onreadystatechange = s.onload = callback;\n",
       "  s.onerror = function(){console.warn(\"failed to load library \" + url);};\n",
       "  document.getElementsByTagName(\"head\")[0].appendChild(s);\n",
       "}\n",
       "\n",
       "if(typeof(LDAvis) !== \"undefined\"){\n",
       "   // already loaded: just create the visualization\n",
       "   !function(LDAvis){\n",
       "       new LDAvis(\"#\" + \"ldavis_el1185151406012093940647115164479\", ldavis_el1185151406012093940647115164479_data);\n",
       "   }(LDAvis);\n",
       "}else if(typeof define === \"function\" && define.amd){\n",
       "   // require.js is available: use it to load d3/LDAvis\n",
       "   require.config({paths: {d3: \"https://cdnjs.cloudflare.com/ajax/libs/d3/3.5.5/d3.min\"}});\n",
       "   require([\"d3\"], function(d3){\n",
       "      window.d3 = d3;\n",
       "      LDAvis_load_lib(\"https://cdn.rawgit.com/bmabey/pyLDAvis/files/ldavis.v1.0.0.js\", function(){\n",
       "        new LDAvis(\"#\" + \"ldavis_el1185151406012093940647115164479\", ldavis_el1185151406012093940647115164479_data);\n",
       "      });\n",
       "    });\n",
       "}else{\n",
       "    // require.js not available: dynamically load d3 & LDAvis\n",
       "    LDAvis_load_lib(\"https://cdnjs.cloudflare.com/ajax/libs/d3/3.5.5/d3.min.js\", function(){\n",
       "         LDAvis_load_lib(\"https://cdn.rawgit.com/bmabey/pyLDAvis/files/ldavis.v1.0.0.js\", function(){\n",
       "                 new LDAvis(\"#\" + \"ldavis_el1185151406012093940647115164479\", ldavis_el1185151406012093940647115164479_data);\n",
       "            })\n",
       "         });\n",
       "}\n",
       "</script>"
      ],
      "text/plain": [
       "PreparedData(topic_coordinates=              x         y  topics  cluster       Freq\n",
       "topic                                                \n",
       "1      0.122096  0.139635       1        1  54.797829\n",
       "8      0.060966  0.121709       2        1  29.362446\n",
       "2     -0.033685 -0.020887       3        1   5.340990\n",
       "6      0.435894 -0.089281       4        1   4.912796\n",
       "3     -0.082227 -0.085475       5        1   3.204728\n",
       "0     -0.106283 -0.024740       6        1   1.177299\n",
       "4     -0.101118 -0.014438       7        1   0.506479\n",
       "7     -0.100600 -0.011900       8        1   0.457864\n",
       "9     -0.098466 -0.009369       9        1   0.228498\n",
       "5     -0.096577 -0.005253      10        1   0.011076, topic_info=     Category        Freq     Term       Total  loglift  logprob\n",
       "63    Default  465.000000      the  465.000000  30.0000  30.0000\n",
       "66    Default  280.000000       to  280.000000  29.0000  29.0000\n",
       "86    Default  141.000000       is  141.000000  28.0000  28.0000\n",
       "170   Default  162.000000       of  162.000000  27.0000  27.0000\n",
       "1512  Default   41.000000     Last   41.000000  26.0000  26.0000\n",
       "14    Default  116.000000      The  116.000000  25.0000  25.0000\n",
       "21    Default  368.000000      and  368.000000  24.0000  24.0000\n",
       "140   Default   74.000000     have   74.000000  23.0000  23.0000\n",
       "116   Default   60.000000      but   60.000000  22.0000  22.0000\n",
       "505   Default   73.000000      you   73.000000  21.0000  21.0000\n",
       "93    Default   86.000000     \\n\\n   86.000000  20.0000  20.0000\n",
       "68    Default   37.000000     very   37.000000  19.0000  19.0000\n",
       "16    Default  264.000000        a  264.000000  18.0000  18.0000\n",
       "50    Default   50.000000      not   50.000000  17.0000  17.0000\n",
       "15    Default   32.000000     This   32.000000  16.0000  16.0000\n",
       "12    Default  249.000000        I  249.000000  15.0000  15.0000\n",
       "244   Default   42.000000      are   42.000000  14.0000  14.0000\n",
       "148   Default   93.000000       it   93.000000  13.0000  13.0000\n",
       "458   Default   25.000000        i   25.000000  12.0000  12.0000\n",
       "32    Default   32.000000      get   32.000000  11.0000  11.0000\n",
       "23    Default   38.000000       be   38.000000  10.0000  10.0000\n",
       "112   Default   46.000000       at   46.000000   9.0000   9.0000\n",
       "173   Default   21.000000     only   21.000000   8.0000   8.0000\n",
       "20    Default   27.000000       an   27.000000   7.0000   7.0000\n",
       "425   Default   31.000000      all   31.000000   6.0000   6.0000\n",
       "138   Default   22.000000      got   22.000000   5.0000   5.0000\n",
       "474   Default   26.000000      out   26.000000   4.0000   4.0000\n",
       "31    Default  133.000000      for  133.000000   3.0000   3.0000\n",
       "318   Default   19.000000      two   19.000000   2.0000   2.0000\n",
       "532   Default   21.000000  service   21.000000   1.0000   1.0000\n",
       "...       ...         ...      ...         ...      ...      ...\n",
       "66    Topic10    0.000382       to  280.466309  -4.3997  -8.2553\n",
       "21    Topic10    0.000381      and  368.345642  -4.6725  -8.2555\n",
       "12    Topic10    0.000381        I  249.065598  -4.2813  -8.2556\n",
       "16    Topic10    0.000381        a  264.477234  -4.3414  -8.2557\n",
       "48    Topic10    0.000381       my   94.495033  -3.3125  -8.2560\n",
       "31    Topic10    0.000381      for  133.159302  -3.6556  -8.2561\n",
       "63    Topic10    0.000381      the  465.895050  -4.9080  -8.2561\n",
       "92    Topic10    0.000381      was  188.887985  -4.0055  -8.2564\n",
       "158   Topic10    0.000381       me   45.877205  -2.5904  -8.2564\n",
       "229   Topic10    0.000381     they   61.914394  -2.8902  -8.2565\n",
       "36    Topic10    0.000381       in  103.845848  -3.4074  -8.2565\n",
       "170   Topic10    0.000381       of  162.062073  -3.8525  -8.2566\n",
       "458   Topic10    0.000381        i   25.591022  -2.0068  -8.2567\n",
       "140   Topic10    0.000381     have   74.336815  -3.0732  -8.2567\n",
       "148   Topic10    0.000381       it   93.291855  -3.3003  -8.2567\n",
       "505   Topic10    0.000381      you   73.428146  -3.0609  -8.2567\n",
       "52    Topic10    0.000381       on   83.598839  -3.1907  -8.2567\n",
       "64    Topic10    0.000381    their   33.317295  -2.2708  -8.2568\n",
       "86    Topic10    0.000381       is  141.268723  -3.7154  -8.2568\n",
       "233   Topic10    0.000381     were   54.134850  -2.7562  -8.2568\n",
       "493   Topic10    0.000381     them   23.579525  -1.9251  -8.2568\n",
       "62    Topic10    0.000381     that   90.304413  -3.2679  -8.2568\n",
       "93    Topic10    0.000381     \\n\\n   86.116447  -3.2205  -8.2568\n",
       "235   Topic10    0.000381      who   10.343387  -1.1011  -8.2568\n",
       "388   Topic10    0.000381       up   25.894505  -2.0188  -8.2569\n",
       "216   Topic10    0.000381     just   22.835636  -1.8931  -8.2569\n",
       "186   Topic10    0.000381       so   45.236866  -2.5767  -8.2569\n",
       "245   Topic10    0.000381       as   51.347816  -2.7034  -8.2569\n",
       "446   Topic10    0.000381     from   35.889835  -2.3453  -8.2569\n",
       "192   Topic10    0.000381     this   53.733936  -2.7489  -8.2569\n",
       "\n",
       "[563 rows x 6 columns], token_table=      Topic      Freq      Term\n",
       "term                           \n",
       "542       1  0.889509        \\n\n",
       "542       2  0.096163        \\n\n",
       "93        1  0.557385      \\n\\n\n",
       "93        2  0.325141      \\n\\n\n",
       "93        3  0.116122      \\n\\n\n",
       "0         1  0.832350          \n",
       "0         2  0.160921          \n",
       "1796      1  0.912240      \\n\\n\n",
       "1987      1  0.199234          \n",
       "1987      2  0.796936          \n",
       "1427      3  0.933964       $11\n",
       "3284      2  0.993307         '\n",
       "2725      5  0.820947     (pork\n",
       "1245      3  0.676419      (the\n",
       "2169      1  0.089175         ,\n",
       "2169      2  0.713404         ,\n",
       "2169      3  0.178351         ,\n",
       "291       1  0.687853         -\n",
       "291       2  0.290427         -\n",
       "291       3  0.015286         -\n",
       "1298      2  0.719864        --\n",
       "1298      5  0.239955        --\n",
       "1761      5  0.668703        3D\n",
       "3291      2  0.778244         ;\n",
       "1625      5  0.668676       AMC\n",
       "510       4  0.814563       All\n",
       "2577      2  0.778379      Bang\n",
       "1305      2  0.778198  Bianco's\n",
       "3098      3  0.676456   Booming\n",
       "1430      3  0.676402    Buffet\n",
       "...     ...       ...       ...\n",
       "2231      1  0.946054       way\n",
       "394       1  0.773078        we\n",
       "394       2  0.234266        we\n",
       "233       1  0.665006      were\n",
       "233       2  0.332503      were\n",
       "234       1  0.889629     where\n",
       "2637      2  0.439616   whipped\n",
       "2637      3  0.439616   whipped\n",
       "235       1  0.386721       who\n",
       "235       2  0.580081       who\n",
       "1715      5  0.820987      wide\n",
       "837       1  0.502402      will\n",
       "837       2  0.150721      will\n",
       "837       3  0.050240      will\n",
       "837       4  0.251201      will\n",
       "71        1  0.727524      with\n",
       "71        2  0.258154      with\n",
       "71        3  0.023469      with\n",
       "989       1  0.206711      work\n",
       "989       2  0.723488      work\n",
       "1209      1  0.930755     worth\n",
       "72        1  0.524104     would\n",
       "72        2  0.489164     would\n",
       "505       1  0.490275       you\n",
       "505       2  0.272375       you\n",
       "505       3  0.081713       you\n",
       "505       4  0.149806       you\n",
       "1505      1  0.959754    you're\n",
       "995       2  0.981361      you.\n",
       "3854      4  0.880849  yourself\n",
       "\n",
       "[447 rows x 3 columns], R=30, lambda_step=0.01, plot_opts={'xlab': 'PC1', 'ylab': 'PC2'}, topic_order=[2, 9, 3, 7, 4, 1, 5, 8, 10, 6])"
      ]
     },
     "execution_count": 28,
     "metadata": {},
     "output_type": "execute_result"
    }
   ],
   "source": [
    "vis"
   ]
  },
  {
   "cell_type": "code",
   "execution_count": 30,
   "metadata": {},
   "outputs": [
    {
     "data": {
      "text/plain": [
       "<gensim.corpora.dictionary.Dictionary at 0x7fe06e942b00>"
      ]
     },
     "execution_count": 30,
     "metadata": {},
     "output_type": "execute_result"
    }
   ],
   "source": [
    "Despite Gensim's STOPWORDS list not being comprehensive enough to catch many useless words, this topic model proved interesting.\n",
    "Service was ranked in the top 30 salient terms, as is to be expected. A typical review will mention the service given, whether good or bad.\n",
    "The most regularly occuring proper noun in the model is the \"San\" of San Francisco. The city is famous for its food It is also where Yelp\n",
    "was founded. \"Hot\" was found within the same topic as San Francisco—it is unclear whether this refers to the\n",
    "temperature inside of the restaurant or the taste of the food (the former, more likely).\n",
    "\n",
    "Examining the 8th, 9th, and 10th topics revealed more unambigous words (and emojis)—\"Okay\", \"bummer\", \":(:(:(\", \"GREAT\", \"weird\", \"price!!!\".\n",
    "I was surprised to see that these words occured with such low frequency—making up about .2% of tokens. "
   ]
  },
  {
   "cell_type": "code",
   "execution_count": 31,
   "metadata": {},
   "outputs": [
    {
     "ename": "SyntaxError",
     "evalue": "invalid syntax (<ipython-input-31-41dfacb96a4d>, line 3)",
     "output_type": "error",
     "traceback": [
      "\u001b[0;36m  File \u001b[0;32m\"<ipython-input-31-41dfacb96a4d>\"\u001b[0;36m, line \u001b[0;32m3\u001b[0m\n\u001b[0;31m    Complete one of more of these to push your score towards a three:\u001b[0m\n\u001b[0m               ^\u001b[0m\n\u001b[0;31mSyntaxError\u001b[0m\u001b[0;31m:\u001b[0m invalid syntax\n"
     ]
    }
   ],
   "source": [
    "## Stretch Goals\n",
    "\n",
    "Complete one of more of these to push your score towards a three: \n",
    "* Incorporate named entity recognition into your analysis\n",
    "* Compare vectorization methods in the classification section\n",
    "* Analyze more (or all) of the yelp dataset - this one is v. hard. \n",
    "* Use a generator object on the reviews file - this would help you with the analyzing the whole dataset.\n",
    "* Incorporate any of the other yelp dataset entities in your analysis (business, users, etc.)"
   ]
  },
  {
   "cell_type": "code",
   "execution_count": null,
   "metadata": {},
   "outputs": [],
   "source": []
  }
 ],
 "metadata": {
  "kernelspec": {
   "display_name": "conda_chainer_p36",
   "language": "python",
   "name": "conda_chainer_p36"
  },
  "language_info": {
   "codemirror_mode": {
    "name": "ipython",
    "version": 3
   },
   "file_extension": ".py",
   "mimetype": "text/x-python",
   "name": "python",
   "nbconvert_exporter": "python",
   "pygments_lexer": "ipython3",
   "version": "3.6.5"
  },
  "toc-autonumbering": false
 },
 "nbformat": 4,
 "nbformat_minor": 2
}
